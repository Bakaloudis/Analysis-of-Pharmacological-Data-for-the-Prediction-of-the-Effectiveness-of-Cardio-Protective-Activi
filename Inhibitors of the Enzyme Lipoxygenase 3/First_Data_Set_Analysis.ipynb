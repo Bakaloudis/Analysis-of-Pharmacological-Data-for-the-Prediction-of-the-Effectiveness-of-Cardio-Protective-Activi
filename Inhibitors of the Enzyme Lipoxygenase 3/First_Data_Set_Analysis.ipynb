{
 "cells": [
  {
   "cell_type": "code",
   "execution_count": 1,
   "source": [
    "# Dimitrios Bakalis, A.M : 3033\r\n",
    "\r\n",
    "import pandas as pd \r\n",
    "from pandas import DataFrame\r\n",
    "\r\n",
    "import numpy as np\r\n",
    "\r\n",
    "import sklearn\r\n",
    "from sklearn import metrics\r\n",
    "\r\n",
    "from sklearn.model_selection import train_test_split\r\n",
    "from sklearn.model_selection import cross_val_score\r\n",
    "\r\n",
    "import sklearn.metrics as metrics\r\n",
    "import sklearn.cluster as sk_cluster\r\n",
    "\r\n",
    "import seaborn as sns\r\n",
    "\r\n",
    "import matplotlib.pyplot as plt\r\n",
    "\r\n",
    "import time\r\n",
    "\r\n",
    "import math\r\n",
    "import operator\r\n",
    "import json \r\n",
    "import random\r\n",
    "import nltk"
   ],
   "outputs": [],
   "metadata": {}
  },
  {
   "cell_type": "code",
   "execution_count": 2,
   "source": [
    "df = pd.read_excel('CBS_simcaUV.xlsx', engine='openpyxl')\r\n",
    "df.head(5)"
   ],
   "outputs": [
    {
     "output_type": "execute_result",
     "data": {
      "text/plain": [
       "   Primary ID       Title  cat  i_desc_Atom_Count  \\\n",
       "0           1        THBH    1          -1.653000   \n",
       "1           2    NSC11041    1          -1.365940   \n",
       "2           3  SP14311008    1          -0.648317   \n",
       "3           4  MBSEW03275    1          -0.648317   \n",
       "4           5     MNP2-A6    1          -0.504792   \n",
       "\n",
       "   i_desc_Atoms_in_Ring_System  i_desc_Bond_Count  \\\n",
       "0                     -1.86070          -1.748970   \n",
       "1                     -1.20240          -1.369930   \n",
       "2                     -0.21495          -0.611839   \n",
       "3                     -1.03782          -0.738187   \n",
       "4                     -1.03782          -0.611839   \n",
       "\n",
       "   i_desc_Bonds_in_Ring_System  i_desc_Centralization  i_desc_Chirality_count  \\\n",
       "0                    -1.946260              -0.942154               -0.317975   \n",
       "1                    -1.148460              -0.889152               -0.317975   \n",
       "2                    -0.191094              -0.626349                0.677360   \n",
       "3                    -1.148460              -0.582180               -0.317975   \n",
       "4                    -1.148460              -0.526969               -0.317975   \n",
       "\n",
       "   i_desc_Cyclomatic_number  ...  r_qp_QPpolrz  r_qp_SASA  r_qp_SAamideO  \\\n",
       "0                 -2.085210  ...     -1.949510  -1.669490        -0.1615   \n",
       "1                 -1.188500  ...     -1.638970  -1.609730        -0.1615   \n",
       "2                 -0.291796  ...     -0.368193  -0.604741        -0.1615   \n",
       "3                 -1.188500  ...     -0.756327  -0.811667        -0.1615   \n",
       "4                 -1.188500  ...     -0.656196  -0.581288        -0.1615   \n",
       "\n",
       "   r_qp_SAfluorine  r_qp_WPSA  r_qp_accptHB  r_qp_donorHB  r_qp_glob  \\\n",
       "0        -0.296569  -0.621067     -0.603596      3.075880   1.487990   \n",
       "1        -0.296569  -0.621067     -0.085276      1.272130   1.629610   \n",
       "2        -0.296569  -0.621067      0.329380     -1.253120   0.760001   \n",
       "3         4.325620   2.461660     -0.707260     -1.253120   0.542465   \n",
       "4        -0.296569   1.187150      0.433044      0.189877   0.625055   \n",
       "\n",
       "   r_qp_mol_MW  r_qp_volume  \n",
       "0    -1.665400    -1.676120  \n",
       "1    -1.462700    -1.584410  \n",
       "2    -0.735769    -0.537906  \n",
       "3    -0.480656    -0.847905  \n",
       "4    -0.362730    -0.542712  \n",
       "\n",
       "[5 rows x 246 columns]"
      ],
      "text/html": [
       "<div>\n",
       "<style scoped>\n",
       "    .dataframe tbody tr th:only-of-type {\n",
       "        vertical-align: middle;\n",
       "    }\n",
       "\n",
       "    .dataframe tbody tr th {\n",
       "        vertical-align: top;\n",
       "    }\n",
       "\n",
       "    .dataframe thead th {\n",
       "        text-align: right;\n",
       "    }\n",
       "</style>\n",
       "<table border=\"1\" class=\"dataframe\">\n",
       "  <thead>\n",
       "    <tr style=\"text-align: right;\">\n",
       "      <th></th>\n",
       "      <th>Primary ID</th>\n",
       "      <th>Title</th>\n",
       "      <th>cat</th>\n",
       "      <th>i_desc_Atom_Count</th>\n",
       "      <th>i_desc_Atoms_in_Ring_System</th>\n",
       "      <th>i_desc_Bond_Count</th>\n",
       "      <th>i_desc_Bonds_in_Ring_System</th>\n",
       "      <th>i_desc_Centralization</th>\n",
       "      <th>i_desc_Chirality_count</th>\n",
       "      <th>i_desc_Cyclomatic_number</th>\n",
       "      <th>...</th>\n",
       "      <th>r_qp_QPpolrz</th>\n",
       "      <th>r_qp_SASA</th>\n",
       "      <th>r_qp_SAamideO</th>\n",
       "      <th>r_qp_SAfluorine</th>\n",
       "      <th>r_qp_WPSA</th>\n",
       "      <th>r_qp_accptHB</th>\n",
       "      <th>r_qp_donorHB</th>\n",
       "      <th>r_qp_glob</th>\n",
       "      <th>r_qp_mol_MW</th>\n",
       "      <th>r_qp_volume</th>\n",
       "    </tr>\n",
       "  </thead>\n",
       "  <tbody>\n",
       "    <tr>\n",
       "      <th>0</th>\n",
       "      <td>1</td>\n",
       "      <td>THBH</td>\n",
       "      <td>1</td>\n",
       "      <td>-1.653000</td>\n",
       "      <td>-1.86070</td>\n",
       "      <td>-1.748970</td>\n",
       "      <td>-1.946260</td>\n",
       "      <td>-0.942154</td>\n",
       "      <td>-0.317975</td>\n",
       "      <td>-2.085210</td>\n",
       "      <td>...</td>\n",
       "      <td>-1.949510</td>\n",
       "      <td>-1.669490</td>\n",
       "      <td>-0.1615</td>\n",
       "      <td>-0.296569</td>\n",
       "      <td>-0.621067</td>\n",
       "      <td>-0.603596</td>\n",
       "      <td>3.075880</td>\n",
       "      <td>1.487990</td>\n",
       "      <td>-1.665400</td>\n",
       "      <td>-1.676120</td>\n",
       "    </tr>\n",
       "    <tr>\n",
       "      <th>1</th>\n",
       "      <td>2</td>\n",
       "      <td>NSC11041</td>\n",
       "      <td>1</td>\n",
       "      <td>-1.365940</td>\n",
       "      <td>-1.20240</td>\n",
       "      <td>-1.369930</td>\n",
       "      <td>-1.148460</td>\n",
       "      <td>-0.889152</td>\n",
       "      <td>-0.317975</td>\n",
       "      <td>-1.188500</td>\n",
       "      <td>...</td>\n",
       "      <td>-1.638970</td>\n",
       "      <td>-1.609730</td>\n",
       "      <td>-0.1615</td>\n",
       "      <td>-0.296569</td>\n",
       "      <td>-0.621067</td>\n",
       "      <td>-0.085276</td>\n",
       "      <td>1.272130</td>\n",
       "      <td>1.629610</td>\n",
       "      <td>-1.462700</td>\n",
       "      <td>-1.584410</td>\n",
       "    </tr>\n",
       "    <tr>\n",
       "      <th>2</th>\n",
       "      <td>3</td>\n",
       "      <td>SP14311008</td>\n",
       "      <td>1</td>\n",
       "      <td>-0.648317</td>\n",
       "      <td>-0.21495</td>\n",
       "      <td>-0.611839</td>\n",
       "      <td>-0.191094</td>\n",
       "      <td>-0.626349</td>\n",
       "      <td>0.677360</td>\n",
       "      <td>-0.291796</td>\n",
       "      <td>...</td>\n",
       "      <td>-0.368193</td>\n",
       "      <td>-0.604741</td>\n",
       "      <td>-0.1615</td>\n",
       "      <td>-0.296569</td>\n",
       "      <td>-0.621067</td>\n",
       "      <td>0.329380</td>\n",
       "      <td>-1.253120</td>\n",
       "      <td>0.760001</td>\n",
       "      <td>-0.735769</td>\n",
       "      <td>-0.537906</td>\n",
       "    </tr>\n",
       "    <tr>\n",
       "      <th>3</th>\n",
       "      <td>4</td>\n",
       "      <td>MBSEW03275</td>\n",
       "      <td>1</td>\n",
       "      <td>-0.648317</td>\n",
       "      <td>-1.03782</td>\n",
       "      <td>-0.738187</td>\n",
       "      <td>-1.148460</td>\n",
       "      <td>-0.582180</td>\n",
       "      <td>-0.317975</td>\n",
       "      <td>-1.188500</td>\n",
       "      <td>...</td>\n",
       "      <td>-0.756327</td>\n",
       "      <td>-0.811667</td>\n",
       "      <td>-0.1615</td>\n",
       "      <td>4.325620</td>\n",
       "      <td>2.461660</td>\n",
       "      <td>-0.707260</td>\n",
       "      <td>-1.253120</td>\n",
       "      <td>0.542465</td>\n",
       "      <td>-0.480656</td>\n",
       "      <td>-0.847905</td>\n",
       "    </tr>\n",
       "    <tr>\n",
       "      <th>4</th>\n",
       "      <td>5</td>\n",
       "      <td>MNP2-A6</td>\n",
       "      <td>1</td>\n",
       "      <td>-0.504792</td>\n",
       "      <td>-1.03782</td>\n",
       "      <td>-0.611839</td>\n",
       "      <td>-1.148460</td>\n",
       "      <td>-0.526969</td>\n",
       "      <td>-0.317975</td>\n",
       "      <td>-1.188500</td>\n",
       "      <td>...</td>\n",
       "      <td>-0.656196</td>\n",
       "      <td>-0.581288</td>\n",
       "      <td>-0.1615</td>\n",
       "      <td>-0.296569</td>\n",
       "      <td>1.187150</td>\n",
       "      <td>0.433044</td>\n",
       "      <td>0.189877</td>\n",
       "      <td>0.625055</td>\n",
       "      <td>-0.362730</td>\n",
       "      <td>-0.542712</td>\n",
       "    </tr>\n",
       "  </tbody>\n",
       "</table>\n",
       "<p>5 rows × 246 columns</p>\n",
       "</div>"
      ]
     },
     "metadata": {},
     "execution_count": 2
    }
   ],
   "metadata": {}
  },
  {
   "cell_type": "code",
   "execution_count": 3,
   "source": [
    "def get_real_labels():\r\n",
    "\r\n",
    "    real_labels = df['cat'].tolist()\r\n",
    "\r\n",
    "    i=-1\r\n",
    "    for label in real_labels:\r\n",
    "        i+=1\r\n",
    "        if label == 1:\r\n",
    "            real_labels[i] = 0\r\n",
    "        elif label == 2:\r\n",
    "            real_labels[i] = 1\r\n",
    "        else:\r\n",
    "            real_labels[i] = 2\r\n",
    "\r\n",
    "    return real_labels"
   ],
   "outputs": [],
   "metadata": {}
  },
  {
   "cell_type": "code",
   "execution_count": 4,
   "source": [
    "compound_list = df.values.tolist()                   # list that holds the values of the compounds from our dataframe\r\n",
    "\r\n",
    "i=-1\r\n",
    "for compound in compound_list:\r\n",
    "    i+=1\r\n",
    "    compound_list[i]=compound[3:]\r\n",
    "\r\n",
    "compound_array = np.array(compound_list)             # we transform our compound list into an array\r\n",
    "compound_array = np.nan_to_num(compound_array)       # we replace the Nan values with zeros\r\n",
    "\r\n",
    "print(\"compound array dimensions \",compound_array.shape)\r\n",
    "\r\n",
    "real_labels = get_real_labels()                  "
   ],
   "outputs": [
    {
     "output_type": "stream",
     "name": "stdout",
     "text": [
      "compound array dimensions  (673, 243)\n"
     ]
    }
   ],
   "metadata": {}
  },
  {
   "cell_type": "code",
   "execution_count": 5,
   "source": [
    "# K-means clusstering (with 3 clustters)\r\n",
    "\r\n",
    "from sklearn.decomposition import PCA\r\n",
    "\r\n",
    "kmeans = sk_cluster.KMeans(init='k-means++', n_clusters=3, n_init=100)\r\n",
    "kmeans.fit_predict(compound_array)\r\n",
    "centroids = kmeans.cluster_centers_\r\n",
    "kmeans_labels = kmeans.labels_\r\n",
    "error = kmeans.inertia_\r\n",
    "\r\n",
    "pca = PCA(n_components=2)\r\n",
    "\r\n",
    "reduced_data = pca.fit_transform(compound_array)\r\n",
    "reduced_centroinds = pca.fit_transform(centroids)\r\n",
    "\r\n",
    "plt.figure(figsize=(15, 11))\r\n",
    "\r\n",
    "plt.scatter(reduced_data[kmeans_labels == 0, 0], reduced_data[kmeans_labels == 0, 1], s = 100, c = 'red', label='1')\r\n",
    "plt.scatter(reduced_data[kmeans_labels == 1, 0], reduced_data[kmeans_labels == 1, 1], s = 100, c = 'green', label='2')\r\n",
    "plt.scatter(reduced_data[kmeans_labels == 2, 0], reduced_data[kmeans_labels == 2, 1], s = 100, c = 'blue', label='3')\r\n",
    "\r\n",
    "plt.title('Compound Clusstering')\r\n",
    "plt.legend()\r\n",
    "plt.show()"
   ],
   "outputs": [
    {
     "output_type": "display_data",
     "data": {
      "text/plain": [
       "<Figure size 1080x792 with 1 Axes>"
      ],
      "image/png": "[encoded data removed]"
     },
     "metadata": {
      "needs_background": "light"
     }
    }
   ],
   "metadata": {}
  },
  {
   "cell_type": "code",
   "execution_count": 8,
   "source": [
    "from sklearn.metrics import confusion_matrix\r\n",
    "import seaborn as sns\r\n",
    "\r\n",
    "mat = confusion_matrix(real_labels,kmeans_labels)\r\n",
    "print(mat)\r\n",
    "\r\n",
    "sns.heatmap(mat/np.sum(mat), annot=True, \r\n",
    "            fmt='.2%', cmap='Blues')"
   ],
   "outputs": [
    {
     "output_type": "stream",
     "name": "stdout",
     "text": [
      "[[ 14  41   5]\n",
      " [161 192  16]\n",
      " [106 116  22]]\n"
     ]
    },
    {
     "output_type": "execute_result",
     "data": {
      "text/plain": [
       "<AxesSubplot:>"
      ]
     },
     "metadata": {},
     "execution_count": 8
    },
    {
     "output_type": "display_data",
     "data": {
      "text/plain": [
       "<Figure size 432x288 with 2 Axes>"
      ],
      "image/png": "[encoded data removed]"
     },
     "metadata": {
      "needs_background": "light"
     }
    }
   ],
   "metadata": {}
  },
  {
   "cell_type": "code",
   "execution_count": 10,
   "source": [
    "from sklearn.linear_model import LogisticRegression\r\n",
    "from sklearn.discriminant_analysis import LinearDiscriminantAnalysis\r\n",
    "from sklearn.neighbors import KNeighborsClassifier\r\n",
    "from sklearn.naive_bayes import GaussianNB\r\n",
    "from sklearn.tree import DecisionTreeClassifier\r\n",
    "from sklearn.svm import SVC\r\n",
    "from sklearn.gaussian_process import GaussianProcessClassifier\r\n",
    "from sklearn.gaussian_process.kernels import RBF\r\n",
    "from sklearn.discriminant_analysis import QuadraticDiscriminantAnalysis\r\n",
    "from sklearn.ensemble import RandomForestClassifier, AdaBoostClassifier\r\n",
    "from sklearn.neural_network import MLPClassifier\r\n",
    "from sklearn.ensemble import GradientBoostingClassifier\r\n",
    "\r\n",
    "import seaborn as sns\r\n",
    "\r\n",
    "from sklearn.model_selection import train_test_split\r\n",
    "\r\n",
    "classifiers = [\r\n",
    "    GradientBoostingClassifier(),\r\n",
    "    KNeighborsClassifier(),\r\n",
    "    SVC(),                             \r\n",
    "    DecisionTreeClassifier(),\r\n",
    "    AdaBoostClassifier(),\r\n",
    "    RandomForestClassifier(),\r\n",
    "    MLPClassifier(),                   \r\n",
    "    GaussianNB(),\r\n",
    "    QuadraticDiscriminantAnalysis(),\r\n",
    "    LogisticRegression()]                \r\n",
    "\r\n",
    "names = [\"Gradient Boosting\",\"Nearest Neighbors\", \"RBF SVM\",  \r\n",
    "        \"Decision Tree\", \"AdaBoost\", \"Random Forest\", \"MLP\", \r\n",
    "        \"Naive Bayes\", \"QDA\",\"Logistic Regression\"]              \r\n",
    "\r\n",
    "def neural_networks_accuracy(data,real_labels):\r\n",
    "\r\n",
    "    log_cols=[\"Classifier\", \"Accuracy\"]\r\n",
    "    log = pd.DataFrame(columns=log_cols)\r\n",
    "\r\n",
    "    X_train, X_test, y_train, y_test = train_test_split(data, real_labels, test_size=0.3,random_state=109) # 70% of our data for training and the rest 30% for testing\r\n",
    "\r\n",
    "    print(\"==============================\")\r\n",
    "\r\n",
    "    name_flag = -1\r\n",
    "    for classifier in classifiers: \r\n",
    "        name_flag+=1\r\n",
    "\r\n",
    "        start_time = time.time()\r\n",
    "\r\n",
    "        scores = cross_val_score(classifier, X_train, y_train, cv=10)  # 10-k fold validation\r\n",
    "        train_acc = scores.mean()                                      # we calculate the mean train accuracy score\r\n",
    "\r\n",
    "        print(names[name_flag])\r\n",
    "        print('****Results****')\r\n",
    "\r\n",
    "        print(\"train accuracy score\",train_acc)\r\n",
    "\r\n",
    "        classifier.fit(X_train, y_train)\r\n",
    "\r\n",
    "        test_acc = classifier.score(X_test, y_test)\r\n",
    "\r\n",
    "        print(\"test accuracy score \", test_acc)\r\n",
    "        \r\n",
    "        log_entry = pd.DataFrame([[names[name_flag], test_acc*100]], columns=log_cols)\r\n",
    "        log = log.append(log_entry)\r\n",
    "\r\n",
    "        print(\"--- %s seconds ---\" % (time.time() - start_time))\r\n",
    "\r\n",
    "        print(\"==============================\")\r\n",
    "\r\n",
    "    log = log.sort_values(by=['Accuracy'], ascending=False)\r\n",
    "\r\n",
    "    sns.set_color_codes(\"muted\")\r\n",
    "    sns.barplot(x='Accuracy', y='Classifier', data=log, color=\"b\")\r\n",
    "\r\n",
    "    plt.xlabel('Accuracy %')\r\n",
    "    plt.title('Classifier Accuracy')\r\n",
    "    plt.show()"
   ],
   "outputs": [],
   "metadata": {}
  },
  {
   "cell_type": "code",
   "execution_count": null,
   "source": [
    "from sklearn.preprocessing import MinMaxScaler\r\n",
    "\r\n",
    "neural_networks_accuracy(compound_array,real_labels) "
   ],
   "outputs": [],
   "metadata": {}
  },
  {
   "cell_type": "code",
   "execution_count": 22,
   "source": [
    "from sklearn.preprocessing import MinMaxScaler\r\n",
    "\r\n",
    "scaler = MinMaxScaler(feature_range=(0,1))  # feature_range=(0,1)\r\n",
    "\r\n",
    "data_scaled = scaler.fit_transform(compound_array)\r\n",
    "\r\n",
    "neural_networks_accuracy(data_scaled,real_labels) "
   ],
   "outputs": [
    {
     "output_type": "stream",
     "name": "stdout",
     "text": [
      "==============================\n",
      "Gradient Boosting\n",
      "****Results****\n",
      "train accuracy score 0.5987145390070923\n",
      "test accuracy score  0.599009900990099\n",
      "--- 47.361388206481934 seconds ---\n",
      "==============================\n",
      "Nearest Neighbors\n",
      "****Results****\n",
      "train accuracy score 0.5945921985815603\n",
      "test accuracy score  0.5792079207920792\n",
      "--- 0.04904437065124512 seconds ---\n",
      "==============================\n",
      "RBF SVM\n",
      "****Results****\n",
      "train accuracy score 0.6072695035460993\n",
      "test accuracy score  0.5792079207920792\n",
      "--- 0.25122809410095215 seconds ---\n",
      "==============================\n",
      "Decision Tree\n",
      "****Results****\n",
      "train accuracy score 0.5226950354609927\n",
      "test accuracy score  0.5297029702970297\n",
      "--- 0.5695183277130127 seconds ---\n",
      "==============================\n",
      "AdaBoost\n",
      "****Results****\n",
      "train accuracy score 0.5964982269503547\n",
      "test accuracy score  0.5891089108910891\n",
      "--- 3.837657928466797 seconds ---\n",
      "==============================\n",
      "Random Forest\n",
      "****Results****\n",
      "train accuracy score 0.6200797872340427\n",
      "test accuracy score  0.6089108910891089\n",
      "--- 3.5661461353302 seconds ---\n",
      "==============================\n"
     ]
    },
    {
     "output_type": "stream",
     "name": "stderr",
     "text": [
      "C:\\Users\\Dimitris\\anaconda3\\lib\\site-packages\\sklearn\\neural_network\\_multilayer_perceptron.py:614: ConvergenceWarning: Stochastic Optimizer: Maximum iterations (200) reached and the optimization hasn't converged yet.\n",
      "  warnings.warn(\n",
      "C:\\Users\\Dimitris\\anaconda3\\lib\\site-packages\\sklearn\\neural_network\\_multilayer_perceptron.py:614: ConvergenceWarning: Stochastic Optimizer: Maximum iterations (200) reached and the optimization hasn't converged yet.\n",
      "  warnings.warn(\n",
      "C:\\Users\\Dimitris\\anaconda3\\lib\\site-packages\\sklearn\\neural_network\\_multilayer_perceptron.py:614: ConvergenceWarning: Stochastic Optimizer: Maximum iterations (200) reached and the optimization hasn't converged yet.\n",
      "  warnings.warn(\n",
      "C:\\Users\\Dimitris\\anaconda3\\lib\\site-packages\\sklearn\\neural_network\\_multilayer_perceptron.py:614: ConvergenceWarning: Stochastic Optimizer: Maximum iterations (200) reached and the optimization hasn't converged yet.\n",
      "  warnings.warn(\n",
      "C:\\Users\\Dimitris\\anaconda3\\lib\\site-packages\\sklearn\\neural_network\\_multilayer_perceptron.py:614: ConvergenceWarning: Stochastic Optimizer: Maximum iterations (200) reached and the optimization hasn't converged yet.\n",
      "  warnings.warn(\n",
      "C:\\Users\\Dimitris\\anaconda3\\lib\\site-packages\\sklearn\\neural_network\\_multilayer_perceptron.py:614: ConvergenceWarning: Stochastic Optimizer: Maximum iterations (200) reached and the optimization hasn't converged yet.\n",
      "  warnings.warn(\n",
      "C:\\Users\\Dimitris\\anaconda3\\lib\\site-packages\\sklearn\\neural_network\\_multilayer_perceptron.py:614: ConvergenceWarning: Stochastic Optimizer: Maximum iterations (200) reached and the optimization hasn't converged yet.\n",
      "  warnings.warn(\n",
      "C:\\Users\\Dimitris\\anaconda3\\lib\\site-packages\\sklearn\\neural_network\\_multilayer_perceptron.py:614: ConvergenceWarning: Stochastic Optimizer: Maximum iterations (200) reached and the optimization hasn't converged yet.\n",
      "  warnings.warn(\n",
      "C:\\Users\\Dimitris\\anaconda3\\lib\\site-packages\\sklearn\\neural_network\\_multilayer_perceptron.py:614: ConvergenceWarning: Stochastic Optimizer: Maximum iterations (200) reached and the optimization hasn't converged yet.\n",
      "  warnings.warn(\n",
      "C:\\Users\\Dimitris\\anaconda3\\lib\\site-packages\\sklearn\\neural_network\\_multilayer_perceptron.py:614: ConvergenceWarning: Stochastic Optimizer: Maximum iterations (200) reached and the optimization hasn't converged yet.\n",
      "  warnings.warn(\n"
     ]
    },
    {
     "output_type": "stream",
     "name": "stdout",
     "text": [
      "MLP\n",
      "****Results****\n",
      "train accuracy score 0.5902482269503546\n"
     ]
    },
    {
     "output_type": "stream",
     "name": "stderr",
     "text": [
      "C:\\Users\\Dimitris\\anaconda3\\lib\\site-packages\\sklearn\\neural_network\\_multilayer_perceptron.py:614: ConvergenceWarning: Stochastic Optimizer: Maximum iterations (200) reached and the optimization hasn't converged yet.\n",
      "  warnings.warn(\n",
      "C:\\Users\\Dimitris\\anaconda3\\lib\\site-packages\\sklearn\\discriminant_analysis.py:808: UserWarning: Variables are collinear\n",
      "  warnings.warn(\"Variables are collinear\")\n",
      "C:\\Users\\Dimitris\\anaconda3\\lib\\site-packages\\sklearn\\discriminant_analysis.py:808: UserWarning: Variables are collinear\n",
      "  warnings.warn(\"Variables are collinear\")\n",
      "C:\\Users\\Dimitris\\anaconda3\\lib\\site-packages\\sklearn\\discriminant_analysis.py:808: UserWarning: Variables are collinear\n",
      "  warnings.warn(\"Variables are collinear\")\n"
     ]
    },
    {
     "output_type": "stream",
     "name": "stdout",
     "text": [
      "test accuracy score  0.6435643564356436\n",
      "--- 8.938622951507568 seconds ---\n",
      "==============================\n",
      "Naive Bayes\n",
      "****Results****\n",
      "train accuracy score 0.5350177304964537\n",
      "test accuracy score  0.5445544554455446\n",
      "--- 0.02502274513244629 seconds ---\n",
      "==============================\n"
     ]
    },
    {
     "output_type": "stream",
     "name": "stderr",
     "text": [
      "C:\\Users\\Dimitris\\anaconda3\\lib\\site-packages\\sklearn\\discriminant_analysis.py:808: UserWarning: Variables are collinear\n",
      "  warnings.warn(\"Variables are collinear\")\n",
      "C:\\Users\\Dimitris\\anaconda3\\lib\\site-packages\\sklearn\\discriminant_analysis.py:808: UserWarning: Variables are collinear\n",
      "  warnings.warn(\"Variables are collinear\")\n",
      "C:\\Users\\Dimitris\\anaconda3\\lib\\site-packages\\sklearn\\discriminant_analysis.py:808: UserWarning: Variables are collinear\n",
      "  warnings.warn(\"Variables are collinear\")\n",
      "C:\\Users\\Dimitris\\anaconda3\\lib\\site-packages\\sklearn\\discriminant_analysis.py:808: UserWarning: Variables are collinear\n",
      "  warnings.warn(\"Variables are collinear\")\n",
      "C:\\Users\\Dimitris\\anaconda3\\lib\\site-packages\\sklearn\\discriminant_analysis.py:808: UserWarning: Variables are collinear\n",
      "  warnings.warn(\"Variables are collinear\")\n",
      "C:\\Users\\Dimitris\\anaconda3\\lib\\site-packages\\sklearn\\discriminant_analysis.py:808: UserWarning: Variables are collinear\n",
      "  warnings.warn(\"Variables are collinear\")\n",
      "C:\\Users\\Dimitris\\anaconda3\\lib\\site-packages\\sklearn\\discriminant_analysis.py:808: UserWarning: Variables are collinear\n",
      "  warnings.warn(\"Variables are collinear\")\n"
     ]
    },
    {
     "output_type": "stream",
     "name": "stdout",
     "text": [
      "QDA\n",
      "****Results****\n",
      "train accuracy score 0.5626329787234042\n",
      "test accuracy score  0.5247524752475248\n",
      "--- 0.7016382217407227 seconds ---\n",
      "==============================\n"
     ]
    },
    {
     "output_type": "stream",
     "name": "stderr",
     "text": [
      "C:\\Users\\Dimitris\\anaconda3\\lib\\site-packages\\sklearn\\discriminant_analysis.py:808: UserWarning: Variables are collinear\n",
      "  warnings.warn(\"Variables are collinear\")\n",
      "C:\\Users\\Dimitris\\anaconda3\\lib\\site-packages\\sklearn\\linear_model\\_logistic.py:763: ConvergenceWarning: lbfgs failed to converge (status=1):\n",
      "STOP: TOTAL NO. of ITERATIONS REACHED LIMIT.\n",
      "\n",
      "Increase the number of iterations (max_iter) or scale the data as shown in:\n",
      "    https://scikit-learn.org/stable/modules/preprocessing.html\n",
      "Please also refer to the documentation for alternative solver options:\n",
      "    https://scikit-learn.org/stable/modules/linear_model.html#logistic-regression\n",
      "  n_iter_i = _check_optimize_result(\n",
      "C:\\Users\\Dimitris\\anaconda3\\lib\\site-packages\\sklearn\\linear_model\\_logistic.py:763: ConvergenceWarning: lbfgs failed to converge (status=1):\n",
      "STOP: TOTAL NO. of ITERATIONS REACHED LIMIT.\n",
      "\n",
      "Increase the number of iterations (max_iter) or scale the data as shown in:\n",
      "    https://scikit-learn.org/stable/modules/preprocessing.html\n",
      "Please also refer to the documentation for alternative solver options:\n",
      "    https://scikit-learn.org/stable/modules/linear_model.html#logistic-regression\n",
      "  n_iter_i = _check_optimize_result(\n",
      "C:\\Users\\Dimitris\\anaconda3\\lib\\site-packages\\sklearn\\linear_model\\_logistic.py:763: ConvergenceWarning: lbfgs failed to converge (status=1):\n",
      "STOP: TOTAL NO. of ITERATIONS REACHED LIMIT.\n",
      "\n",
      "Increase the number of iterations (max_iter) or scale the data as shown in:\n",
      "    https://scikit-learn.org/stable/modules/preprocessing.html\n",
      "Please also refer to the documentation for alternative solver options:\n",
      "    https://scikit-learn.org/stable/modules/linear_model.html#logistic-regression\n",
      "  n_iter_i = _check_optimize_result(\n",
      "C:\\Users\\Dimitris\\anaconda3\\lib\\site-packages\\sklearn\\linear_model\\_logistic.py:763: ConvergenceWarning: lbfgs failed to converge (status=1):\n",
      "STOP: TOTAL NO. of ITERATIONS REACHED LIMIT.\n",
      "\n",
      "Increase the number of iterations (max_iter) or scale the data as shown in:\n",
      "    https://scikit-learn.org/stable/modules/preprocessing.html\n",
      "Please also refer to the documentation for alternative solver options:\n",
      "    https://scikit-learn.org/stable/modules/linear_model.html#logistic-regression\n",
      "  n_iter_i = _check_optimize_result(\n",
      "C:\\Users\\Dimitris\\anaconda3\\lib\\site-packages\\sklearn\\linear_model\\_logistic.py:763: ConvergenceWarning: lbfgs failed to converge (status=1):\n",
      "STOP: TOTAL NO. of ITERATIONS REACHED LIMIT.\n",
      "\n",
      "Increase the number of iterations (max_iter) or scale the data as shown in:\n",
      "    https://scikit-learn.org/stable/modules/preprocessing.html\n",
      "Please also refer to the documentation for alternative solver options:\n",
      "    https://scikit-learn.org/stable/modules/linear_model.html#logistic-regression\n",
      "  n_iter_i = _check_optimize_result(\n",
      "C:\\Users\\Dimitris\\anaconda3\\lib\\site-packages\\sklearn\\linear_model\\_logistic.py:763: ConvergenceWarning: lbfgs failed to converge (status=1):\n",
      "STOP: TOTAL NO. of ITERATIONS REACHED LIMIT.\n",
      "\n",
      "Increase the number of iterations (max_iter) or scale the data as shown in:\n",
      "    https://scikit-learn.org/stable/modules/preprocessing.html\n",
      "Please also refer to the documentation for alternative solver options:\n",
      "    https://scikit-learn.org/stable/modules/linear_model.html#logistic-regression\n",
      "  n_iter_i = _check_optimize_result(\n",
      "C:\\Users\\Dimitris\\anaconda3\\lib\\site-packages\\sklearn\\linear_model\\_logistic.py:763: ConvergenceWarning: lbfgs failed to converge (status=1):\n",
      "STOP: TOTAL NO. of ITERATIONS REACHED LIMIT.\n",
      "\n",
      "Increase the number of iterations (max_iter) or scale the data as shown in:\n",
      "    https://scikit-learn.org/stable/modules/preprocessing.html\n",
      "Please also refer to the documentation for alternative solver options:\n",
      "    https://scikit-learn.org/stable/modules/linear_model.html#logistic-regression\n",
      "  n_iter_i = _check_optimize_result(\n",
      "C:\\Users\\Dimitris\\anaconda3\\lib\\site-packages\\sklearn\\linear_model\\_logistic.py:763: ConvergenceWarning: lbfgs failed to converge (status=1):\n",
      "STOP: TOTAL NO. of ITERATIONS REACHED LIMIT.\n",
      "\n",
      "Increase the number of iterations (max_iter) or scale the data as shown in:\n",
      "    https://scikit-learn.org/stable/modules/preprocessing.html\n",
      "Please also refer to the documentation for alternative solver options:\n",
      "    https://scikit-learn.org/stable/modules/linear_model.html#logistic-regression\n",
      "  n_iter_i = _check_optimize_result(\n",
      "C:\\Users\\Dimitris\\anaconda3\\lib\\site-packages\\sklearn\\linear_model\\_logistic.py:763: ConvergenceWarning: lbfgs failed to converge (status=1):\n",
      "STOP: TOTAL NO. of ITERATIONS REACHED LIMIT.\n",
      "\n",
      "Increase the number of iterations (max_iter) or scale the data as shown in:\n",
      "    https://scikit-learn.org/stable/modules/preprocessing.html\n",
      "Please also refer to the documentation for alternative solver options:\n",
      "    https://scikit-learn.org/stable/modules/linear_model.html#logistic-regression\n",
      "  n_iter_i = _check_optimize_result(\n",
      "C:\\Users\\Dimitris\\anaconda3\\lib\\site-packages\\sklearn\\linear_model\\_logistic.py:763: ConvergenceWarning: lbfgs failed to converge (status=1):\n",
      "STOP: TOTAL NO. of ITERATIONS REACHED LIMIT.\n",
      "\n",
      "Increase the number of iterations (max_iter) or scale the data as shown in:\n",
      "    https://scikit-learn.org/stable/modules/preprocessing.html\n",
      "Please also refer to the documentation for alternative solver options:\n",
      "    https://scikit-learn.org/stable/modules/linear_model.html#logistic-regression\n",
      "  n_iter_i = _check_optimize_result(\n"
     ]
    },
    {
     "output_type": "stream",
     "name": "stdout",
     "text": [
      "Logistic Regression\n",
      "****Results****\n",
      "train accuracy score 0.5986702127659574\n",
      "test accuracy score  0.6435643564356436\n",
      "--- 0.7036406993865967 seconds ---\n",
      "==============================\n"
     ]
    },
    {
     "output_type": "stream",
     "name": "stderr",
     "text": [
      "C:\\Users\\Dimitris\\anaconda3\\lib\\site-packages\\sklearn\\linear_model\\_logistic.py:763: ConvergenceWarning: lbfgs failed to converge (status=1):\n",
      "STOP: TOTAL NO. of ITERATIONS REACHED LIMIT.\n",
      "\n",
      "Increase the number of iterations (max_iter) or scale the data as shown in:\n",
      "    https://scikit-learn.org/stable/modules/preprocessing.html\n",
      "Please also refer to the documentation for alternative solver options:\n",
      "    https://scikit-learn.org/stable/modules/linear_model.html#logistic-regression\n",
      "  n_iter_i = _check_optimize_result(\n"
     ]
    },
    {
     "output_type": "display_data",
     "data": {
      "text/plain": [
       "<Figure size 432x288 with 1 Axes>"
      ],
      "image/png": "[encoded data removed]"
     },
     "metadata": {
      "needs_background": "light"
     }
    }
   ],
   "metadata": {}
  },
  {
   "cell_type": "code",
   "execution_count": 37,
   "source": [
    "X = df.iloc[:,3:]           # independent columns\r\n",
    "data = X.fillna(0)          # removing NaN values\r\n",
    "\r\n",
    "labels = df.iloc[:,2:3]\r\n",
    "\r\n",
    "print(\"data shape\", data.shape)\r\n",
    "print(\"labels shape\", labels.shape)"
   ],
   "outputs": [
    {
     "output_type": "stream",
     "name": "stdout",
     "text": [
      "data shape (673, 243)\n",
      "labels shape (673, 1)\n"
     ]
    }
   ],
   "metadata": {}
  },
  {
   "cell_type": "code",
   "execution_count": 163,
   "source": [
    "reduced_features_list = []   # list that holds the extracted features from the mathematical models used for feaure selection"
   ],
   "outputs": [],
   "metadata": {}
  },
  {
   "cell_type": "code",
   "execution_count": 120,
   "source": [
    "from sklearn.tree import DecisionTreeClassifier\r\n",
    "from sklearn.model_selection import cross_val_score\r\n",
    "\r\n",
    "model = RandomForestClassifier()  # \r\n",
    "scores = cross_val_score(model, data, labels, cv=10)\r\n",
    "print(\"%0.2f accuracy with a standard deviation of %0.2f\" % (scores.mean(), scores.std())) \r\n",
    "\r\n",
    "model.fit(data,labels) \r\n",
    "feat_importances = pd.Series(model.feature_importances_, index=data.columns)  # plot graph of feature importances for better visualization\r\n",
    "feat_importances.nlargest(15).plot(kind='barh')\r\n",
    "plt.show() "
   ],
   "outputs": [
    {
     "output_type": "stream",
     "name": "stdout",
     "text": [
      "0.59 accuracy with a standard deviation of 0.07\n"
     ]
    },
    {
     "output_type": "display_data",
     "data": {
      "text/plain": [
       "<Figure size 432x288 with 1 Axes>"
      ],
      "image/png": "[encoded data removed]"
     },
     "metadata": {
      "needs_background": "light"
     }
    }
   ],
   "metadata": {}
  },
  {
   "cell_type": "code",
   "execution_count": 121,
   "source": [
    "from sklearn.tree import DecisionTreeClassifier\r\n",
    "from sklearn.model_selection import cross_val_score\r\n",
    "\r\n",
    "model = DecisionTreeClassifier()  # \r\n",
    "scores = cross_val_score(model, data, labels, cv=10)\r\n",
    "print(\"%0.2f accuracy with a standard deviation of %0.2f\" % (scores.mean(), scores.std())) \r\n",
    "\r\n",
    "model.fit(data,labels) \r\n",
    "feat_importances = pd.Series(model.feature_importances_, index=data.columns)  # plot graph of feature importances for better visualization\r\n",
    "feat_importances.nlargest(15).plot(kind='barh')\r\n",
    "plt.show() "
   ],
   "outputs": [
    {
     "output_type": "stream",
     "name": "stdout",
     "text": [
      "0.53 accuracy with a standard deviation of 0.06\n"
     ]
    },
    {
     "output_type": "display_data",
     "data": {
      "text/plain": [
       "<Figure size 432x288 with 1 Axes>"
      ],
      "image/png": "[encoded data removed]"
     },
     "metadata": {
      "needs_background": "light"
     }
    }
   ],
   "metadata": {}
  },
  {
   "cell_type": "code",
   "execution_count": 110,
   "source": [
    "from ITMO_FS.filters.univariate import chi2_measure\r\n",
    "\r\n",
    "labels = np.array(labels)\r\n",
    "\r\n",
    "scaler = MinMaxScaler(feature_range=(0,1))                 # we scale our data to values between 0-1 to eliminate the negative values\r\n",
    "data_scaled = scaler.fit_transform(data)\r\n",
    "\r\n",
    "scores = chi2_measure(data_scaled, labels)                 # Chi^2\r\n",
    "\r\n",
    "column_names = data.columns\r\n",
    "\r\n",
    "chi2_measure_dict = {}\r\n",
    "i=-1\r\n",
    "for score in scores:\r\n",
    "    i+=1\r\n",
    "    chi2_measure_dict[column_names[i]] = score\r\n",
    "\r\n",
    "sorted_chi2_measure_dict = dict( sorted(chi2_measure_dict.items(),\r\n",
    "                           key=lambda item: item[1],\r\n",
    "                           reverse=True))\r\n",
    "\r\n",
    "df_chi2_measure = pd.DataFrame.from_dict(sorted_chi2_measure_dict, orient='index') \r\n",
    "\r\n",
    "print(df_chi2_measure.head(15))"
   ],
   "outputs": [
    {
     "output_type": "stream",
     "name": "stdout",
     "text": [
      "                                                            0\n",
      "r_desc_Lopping_centric                              36.834054\n",
      "r_desc_Balaban_centric                              30.899162\n",
      "r_desc_Total_structure_connectivity                 13.876689\n",
      "i_desc_Sum_of_topological_distances_between_Br..Br  10.216667\n",
      "i_desc_Sum_of_topological_distances_between_Br..I   10.216667\n",
      "i_desc_Sum_of_topological_distances_between_N..I    10.216667\n",
      "r_desc_PEOE14                                        8.527800\n",
      "i_qp_#acid                                           7.578468\n",
      "i_qp_RuleOfThree                                     7.051827\n",
      "i_desc_Chirality_count                               6.557786\n",
      "i_desc_Sum_of_topological_distances_between_O..O     6.088582\n",
      "r_desc_MR1                                           5.610769\n",
      "i_qp_#stars                                          5.348696\n",
      "i_qp_RuleOfFive                                      5.090127\n",
      "i_qp_#rtvFG                                          4.898048\n"
     ]
    }
   ],
   "metadata": {}
  },
  {
   "cell_type": "code",
   "execution_count": 164,
   "source": [
    "index = df_chi2_measure.index\r\n",
    "a_list = list(index)\r\n",
    "reduced_features_list.append(a_list[0:6]) "
   ],
   "outputs": [],
   "metadata": {}
  },
  {
   "cell_type": "code",
   "execution_count": 44,
   "source": [
    "from ITMO_FS.filters.univariate import information_gain\r\n",
    "\r\n",
    "labels = np.array(labels)\r\n",
    "\r\n",
    "scores = information_gain(data, labels)                 # Information Gain\r\n",
    "\r\n",
    "column_names = data.columns\r\n",
    "\r\n",
    "information_gain_dict = {}\r\n",
    "i=-1\r\n",
    "for score in scores:\r\n",
    "    i+=1\r\n",
    "    information_gain_dict[column_names[i]] = score\r\n",
    "\r\n",
    "sorted_information_gain_dict = dict( sorted(information_gain_dict.items(),\r\n",
    "                           key=lambda item: item[1],\r\n",
    "                           reverse=True))\r\n",
    "\r\n",
    "df_information_gain = pd.DataFrame.from_dict(sorted_information_gain_dict, orient='index') \r\n",
    "\r\n",
    "print(df_information_gain.head(15))"
   ],
   "outputs": [
    {
     "output_type": "stream",
     "name": "stdout",
     "text": [
      "                                                           0\n",
      "r_qp_SASA                                           0.912854\n",
      "r_qp_glob                                           0.912854\n",
      "r_qp_volume                                         0.912854\n",
      "r_qp_PSA                                            0.910794\n",
      "r_qp_FISA                                           0.909137\n",
      "r_qp_QPPCaco                                        0.909137\n",
      "r_desc_Average_valence_connectivity_index_chi-3     0.908735\n",
      "r_desc_Average_valence_connectivity_index_chi-4     0.908735\n",
      "r_desc_Average_valence_connectivity_index_chi-5     0.908735\n",
      "r_desc_Balaban-type_index_from_Z_weighted_dista...  0.908735\n",
      "r_desc_Balaban-type_index_from_electronegativit...  0.908735\n",
      "r_desc_Balaban-type_index_from_mass_weighted_di...  0.908735\n",
      "r_desc_Balaban-type_index_from_polarizability_w...  0.908735\n",
      "r_desc_Balaban-type_index_from_van_der_waals_we...  0.908735\n",
      "r_desc_E-state_topological_parameter                0.908735\n"
     ]
    }
   ],
   "metadata": {
    "tags": [
     "outputPrepend"
    ]
   }
  },
  {
   "cell_type": "code",
   "execution_count": 165,
   "source": [
    "index = df_information_gain.index\r\n",
    "a_list = list(index)\r\n",
    "reduced_features_list.append(a_list[0:6])  "
   ],
   "outputs": [],
   "metadata": {}
  },
  {
   "cell_type": "code",
   "execution_count": 41,
   "source": [
    "from ITMO_FS.filters.univariate import gini_index\r\n",
    "\r\n",
    "labels = np.array(labels)\r\n",
    "\r\n",
    "scores = gini_index(data, labels)      # Gini Index\r\n",
    "\r\n",
    "column_names = data.columns\r\n",
    "\r\n",
    "gini_index_dict = {}\r\n",
    "i=-1\r\n",
    "for score in scores:\r\n",
    "    i+=1\r\n",
    "    gini_index_dict[column_names[i]] = score\r\n",
    "\r\n",
    "sorted_gini_index_dict = dict( sorted(gini_index_dict.items(),\r\n",
    "                           key=lambda item: item[1],\r\n",
    "                           reverse=True))\r\n",
    "\r\n",
    "df_gini_index = pd.DataFrame.from_dict(sorted_gini_index_dict, orient='index') \r\n",
    "\r\n",
    "print(df_gini_index.head(15))"
   ],
   "outputs": [
    {
     "output_type": "stream",
     "name": "stdout",
     "text": [
      "                                                           0\n",
      "i_desc_Sum_of_topological_distances_between_Br..Br  1.000000\n",
      "i_desc_Sum_of_topological_distances_between_Br..I   1.000000\n",
      "i_desc_Sum_of_topological_distances_between_N..I    1.000000\n",
      "r_desc_Balaban_centric                              1.000000\n",
      "r_desc_Lopping_centric                              1.000000\n",
      "r_desc_Total_structure_connectivity                 0.765858\n",
      "i_desc_Sum_of_topological_distances_between_F..Br   0.744069\n",
      "r_desc_ALOGP8                                       0.713516\n",
      "i_qp_#acid                                          0.699814\n",
      "i_desc_Sum_of_topological_distances_between_O..Br   0.603965\n",
      "r_desc_MR1                                          0.580286\n",
      "i_desc_Ring_Count_8                                 0.576429\n",
      "r_desc_PEOE14                                       0.494007\n",
      "i_desc_Sum_of_topological_distances_between_O..O    0.422991\n",
      "r_desc_PEOE13                                       0.370243\n"
     ]
    }
   ],
   "metadata": {}
  },
  {
   "cell_type": "code",
   "execution_count": 166,
   "source": [
    "index = df_gini_index.index\r\n",
    "a_list = list(index)\r\n",
    "reduced_features_list.append(a_list[0:5]) "
   ],
   "outputs": [],
   "metadata": {}
  },
  {
   "cell_type": "code",
   "execution_count": 42,
   "source": [
    "from ITMO_FS.filters.univariate import pearson_corr\r\n",
    "\r\n",
    "labels = np.array(labels)\r\n",
    "\r\n",
    "scores = pearson_corr(data, labels)      # Pearson Correlation Coefficient\r\n",
    "\r\n",
    "column_names = data.columns\r\n",
    "\r\n",
    "pearson_corr_dict = {}\r\n",
    "i=-1\r\n",
    "for score in scores:\r\n",
    "    i+=1\r\n",
    "    pearson_corr_dict[column_names[i]] = score\r\n",
    "\r\n",
    "sorted_pearson_corr_dict = dict( sorted(pearson_corr_dict.items(),\r\n",
    "                           key=lambda item: item[1],\r\n",
    "                           reverse=True))\r\n",
    "\r\n",
    "df_pearson_corr = pd.DataFrame.from_dict(sorted_pearson_corr_dict, orient='index') \r\n",
    "\r\n",
    "print(df_pearson_corr.head(15))"
   ],
   "outputs": [
    {
     "output_type": "stream",
     "name": "stdout",
     "text": [
      "                                                0\n",
      "r_desc_Narumi_Geometric_Topological      0.297086\n",
      "r_desc_Narumi_Harmonic_Topological       0.285059\n",
      "r_desc_Molecule_cyclized_degree          0.283700\n",
      "i_desc_Cyclomatic_number                 0.228305\n",
      "r_desc_Spanning_tree_number              0.221936\n",
      "i_desc_Total_ring_size                   0.218361\n",
      "i_desc_Bonds_in_Ring_System              0.216655\n",
      "i_desc_Atoms_in_Ring_System              0.215109\n",
      "i_qp_#ringatoms                          0.214593\n",
      "i_desc_Ring_perimeter                    0.212586\n",
      "i_desc_Number_of_ring_systems            0.212339\n",
      "i_qp_#in56                               0.211276\n",
      "r_desc_PEOE3                             0.206370\n",
      "r_desc_path/walk_5_-_Randic_shape_index  0.203078\n",
      "r_desc_path/walk_4_-_Randic_shape_index  0.196854\n"
     ]
    }
   ],
   "metadata": {}
  },
  {
   "cell_type": "code",
   "execution_count": 167,
   "source": [
    "index = df_pearson_corr.index\r\n",
    "a_list = list(index)\r\n",
    "reduced_features_list.append(a_list[0:15]) "
   ],
   "outputs": [],
   "metadata": {}
  },
  {
   "cell_type": "code",
   "execution_count": 43,
   "source": [
    "from ITMO_FS.filters.univariate import f_ratio_measure\r\n",
    "\r\n",
    "labels = np.array(labels)\r\n",
    "\r\n",
    "scores = f_ratio_measure(data, labels)      # Fisher Ratio\r\n",
    "\r\n",
    "column_names = data.columns\r\n",
    "\r\n",
    "f_ratio_dict = {}\r\n",
    "i=-1\r\n",
    "for score in scores:\r\n",
    "    i+=1\r\n",
    "    f_ratio_dict[column_names[i]] = score\r\n",
    "\r\n",
    "sorted_f_ratio_dict = dict( sorted(f_ratio_dict.items(),\r\n",
    "                           key=lambda item: item[1],\r\n",
    "                           reverse=True))\r\n",
    "\r\n",
    "df_f_ratio = pd.DataFrame.from_dict(sorted_f_ratio_dict, orient='index') \r\n",
    "\r\n",
    "print(df_f_ratio.head(15))"
   ],
   "outputs": [
    {
     "output_type": "stream",
     "name": "stdout",
     "text": [
      "                                                         0\n",
      "i_desc_Centralization                             7.987138\n",
      "r_desc_PEOE9                                      3.650849\n",
      "r_qp_CIQPlogS                                     2.254646\n",
      "i_desc_Ring_Count_5                               2.118162\n",
      "i_desc_Sum_of_topological_distances_between_N..N  1.832538\n",
      "r_qp_QPlogHERG                                    1.574513\n",
      "r_qp_QPlogKhsa                                    1.220365\n",
      "i_desc_Number_of_ring_systems                     1.203018\n",
      "r_desc_First_Mohar                                1.067406\n",
      "r_qp_QPlogS                                       1.054799\n",
      "r_desc_Global_topological_charge                  0.927670\n",
      "r_desc_Narumi_Harmonic_Topological                0.898511\n",
      "r_qp_glob                                         0.874376\n",
      "r_desc_Mean_topological_charge_index_of_order_2   0.820876\n",
      "i_qp_#in56                                        0.731593\n"
     ]
    }
   ],
   "metadata": {}
  },
  {
   "cell_type": "code",
   "execution_count": 168,
   "source": [
    "index = df_f_ratio.index\r\n",
    "a_list = list(index)\r\n",
    "reduced_features_list.append(a_list[0:10])   "
   ],
   "outputs": [],
   "metadata": {}
  },
  {
   "cell_type": "code",
   "execution_count": 169,
   "source": [
    "best_features = []\r\n",
    "best_features.append('cat')\r\n",
    "for feature_stacked in reduced_features_list:\r\n",
    "    for feature in feature_stacked:\r\n",
    "        best_features.append(feature)\r\n",
    "print(\"Number of new reduced features\",len(best_features)-1)"
   ],
   "outputs": [
    {
     "output_type": "stream",
     "name": "stdout",
     "text": [
      "Number of new reduced features 42\n"
     ]
    }
   ],
   "metadata": {}
  },
  {
   "cell_type": "code",
   "execution_count": 170,
   "source": [
    "df_reduced = df[best_features].copy()\r\n",
    "print(df_reduced.info())"
   ],
   "outputs": [
    {
     "output_type": "stream",
     "name": "stdout",
     "text": [
      "<class 'pandas.core.frame.DataFrame'>\n",
      "RangeIndex: 673 entries, 0 to 672\n",
      "Data columns (total 43 columns):\n",
      " #   Column                                              Non-Null Count  Dtype  \n",
      "---  ------                                              --------------  -----  \n",
      " 0   cat                                                 673 non-null    int64  \n",
      " 1   r_desc_Lopping_centric                              673 non-null    float64\n",
      " 2   r_desc_Balaban_centric                              673 non-null    float64\n",
      " 3   r_desc_Total_structure_connectivity                 673 non-null    float64\n",
      " 4   i_desc_Sum_of_topological_distances_between_Br..Br  673 non-null    float64\n",
      " 5   i_desc_Sum_of_topological_distances_between_Br..I   673 non-null    float64\n",
      " 6   i_desc_Sum_of_topological_distances_between_N..I    673 non-null    float64\n",
      " 7   r_qp_SASA                                           672 non-null    float64\n",
      " 8   r_qp_glob                                           672 non-null    float64\n",
      " 9   r_qp_volume                                         672 non-null    float64\n",
      " 10  r_qp_PSA                                            672 non-null    float64\n",
      " 11  r_qp_FISA                                           672 non-null    float64\n",
      " 12  r_qp_QPPCaco                                        672 non-null    float64\n",
      " 13  i_desc_Sum_of_topological_distances_between_Br..Br  673 non-null    float64\n",
      " 14  i_desc_Sum_of_topological_distances_between_Br..I   673 non-null    float64\n",
      " 15  i_desc_Sum_of_topological_distances_between_N..I    673 non-null    float64\n",
      " 16  r_desc_Balaban_centric                              673 non-null    float64\n",
      " 17  r_desc_Lopping_centric                              673 non-null    float64\n",
      " 18  r_desc_Narumi_Geometric_Topological                 673 non-null    float64\n",
      " 19  r_desc_Narumi_Harmonic_Topological                  673 non-null    float64\n",
      " 20  r_desc_Molecule_cyclized_degree                     673 non-null    float64\n",
      " 21  i_desc_Cyclomatic_number                            673 non-null    float64\n",
      " 22  r_desc_Spanning_tree_number                         673 non-null    float64\n",
      " 23  i_desc_Total_ring_size                              673 non-null    float64\n",
      " 24  i_desc_Bonds_in_Ring_System                         673 non-null    float64\n",
      " 25  i_desc_Atoms_in_Ring_System                         673 non-null    float64\n",
      " 26  i_qp_#ringatoms                                     672 non-null    float64\n",
      " 27  i_desc_Ring_perimeter                               673 non-null    float64\n",
      " 28  i_desc_Number_of_ring_systems                       673 non-null    float64\n",
      " 29  i_qp_#in56                                          672 non-null    float64\n",
      " 30  r_desc_PEOE3                                        673 non-null    float64\n",
      " 31  r_desc_path/walk_5_-_Randic_shape_index             673 non-null    float64\n",
      " 32  r_desc_path/walk_4_-_Randic_shape_index             673 non-null    float64\n",
      " 33  i_desc_Centralization                               673 non-null    float64\n",
      " 34  r_desc_PEOE9                                        673 non-null    float64\n",
      " 35  r_qp_CIQPlogS                                       672 non-null    float64\n",
      " 36  i_desc_Ring_Count_5                                 673 non-null    float64\n",
      " 37  i_desc_Sum_of_topological_distances_between_N..N    673 non-null    float64\n",
      " 38  r_qp_QPlogHERG                                      672 non-null    float64\n",
      " 39  r_qp_QPlogKhsa                                      672 non-null    float64\n",
      " 40  i_desc_Number_of_ring_systems                       673 non-null    float64\n",
      " 41  r_desc_First_Mohar                                  673 non-null    float64\n",
      " 42  r_qp_QPlogS                                         672 non-null    float64\n",
      "dtypes: float64(42), int64(1)\n",
      "memory usage: 226.2 KB\n",
      "None\n"
     ]
    }
   ],
   "metadata": {}
  },
  {
   "cell_type": "code",
   "execution_count": 171,
   "source": [
    "compound_list = df_reduced.values.tolist()           # list that holds the values of the compounds from our reduced dataframe\r\n",
    "\r\n",
    "i=-1\r\n",
    "for compound in compound_list:\r\n",
    "    i+=1\r\n",
    "    compound_list[i]=compound[1:]\r\n",
    "\r\n",
    "compound_array = np.array(compound_list)             # we transform our compound list into an array\r\n",
    "compound_array = np.nan_to_num(compound_array)       # we replace the Nan values with zeros\r\n",
    "\r\n",
    "print(\"compound array dimensions \",compound_array.shape)\r\n",
    "\r\n",
    "real_labels = real_labels = df_reduced['cat'].tolist()                  "
   ],
   "outputs": [
    {
     "output_type": "stream",
     "name": "stdout",
     "text": [
      "compound array dimensions  (673, 42)\n"
     ]
    }
   ],
   "metadata": {}
  },
  {
   "cell_type": "code",
   "execution_count": 172,
   "source": [
    "from sklearn.preprocessing import MinMaxScaler\r\n",
    "from sklearn.preprocessing import StandardScaler\r\n",
    "\r\n",
    "scaler = MinMaxScaler(feature_range=(0,1))           # feature_range=(0,1)\r\n",
    "\r\n",
    "data_scaled = scaler.fit_transform(compound_array)\r\n",
    "\r\n",
    "neural_networks_accuracy(data_scaled,real_labels) "
   ],
   "outputs": [
    {
     "output_type": "stream",
     "name": "stdout",
     "text": [
      "==============================\n",
      "Gradient Boosting\n",
      "****Results****\n",
      "train accuracy score 0.6070921985815603\n",
      "test accuracy score  0.6039603960396039\n",
      "--- 8.304115295410156 seconds ---\n",
      "==============================\n",
      "Nearest Neighbors\n",
      "****Results****\n",
      "train accuracy score 0.63927304964539\n",
      "test accuracy score  0.5792079207920792\n",
      "--- 0.04203677177429199 seconds ---\n",
      "==============================\n",
      "RBF SVM\n",
      "****Results****\n",
      "train accuracy score 0.5838652482269504\n",
      "test accuracy score  0.5594059405940595\n",
      "--- 0.1481342315673828 seconds ---\n",
      "==============================\n",
      "Decision Tree\n",
      "****Results****\n",
      "train accuracy score 0.5648049645390072\n",
      "test accuracy score  0.5099009900990099\n",
      "--- 0.1000826358795166 seconds ---\n",
      "==============================\n",
      "AdaBoost\n",
      "****Results****\n",
      "train accuracy score 0.5540780141843972\n",
      "test accuracy score  0.5346534653465347\n",
      "--- 1.1530489921569824 seconds ---\n",
      "==============================\n",
      "Random Forest\n",
      "****Results****\n",
      "train accuracy score 0.6138297872340426\n",
      "test accuracy score  0.6287128712871287\n",
      "--- 2.2348713874816895 seconds ---\n",
      "==============================\n"
     ]
    },
    {
     "output_type": "stream",
     "name": "stderr",
     "text": [
      "C:\\Users\\Dimitris\\anaconda3\\lib\\site-packages\\sklearn\\neural_network\\_multilayer_perceptron.py:614: ConvergenceWarning: Stochastic Optimizer: Maximum iterations (200) reached and the optimization hasn't converged yet.\n",
      "  warnings.warn(\n",
      "C:\\Users\\Dimitris\\anaconda3\\lib\\site-packages\\sklearn\\neural_network\\_multilayer_perceptron.py:614: ConvergenceWarning: Stochastic Optimizer: Maximum iterations (200) reached and the optimization hasn't converged yet.\n",
      "  warnings.warn(\n",
      "C:\\Users\\Dimitris\\anaconda3\\lib\\site-packages\\sklearn\\neural_network\\_multilayer_perceptron.py:614: ConvergenceWarning: Stochastic Optimizer: Maximum iterations (200) reached and the optimization hasn't converged yet.\n",
      "  warnings.warn(\n",
      "C:\\Users\\Dimitris\\anaconda3\\lib\\site-packages\\sklearn\\neural_network\\_multilayer_perceptron.py:614: ConvergenceWarning: Stochastic Optimizer: Maximum iterations (200) reached and the optimization hasn't converged yet.\n",
      "  warnings.warn(\n",
      "C:\\Users\\Dimitris\\anaconda3\\lib\\site-packages\\sklearn\\neural_network\\_multilayer_perceptron.py:614: ConvergenceWarning: Stochastic Optimizer: Maximum iterations (200) reached and the optimization hasn't converged yet.\n",
      "  warnings.warn(\n",
      "C:\\Users\\Dimitris\\anaconda3\\lib\\site-packages\\sklearn\\neural_network\\_multilayer_perceptron.py:614: ConvergenceWarning: Stochastic Optimizer: Maximum iterations (200) reached and the optimization hasn't converged yet.\n",
      "  warnings.warn(\n",
      "C:\\Users\\Dimitris\\anaconda3\\lib\\site-packages\\sklearn\\neural_network\\_multilayer_perceptron.py:614: ConvergenceWarning: Stochastic Optimizer: Maximum iterations (200) reached and the optimization hasn't converged yet.\n",
      "  warnings.warn(\n",
      "C:\\Users\\Dimitris\\anaconda3\\lib\\site-packages\\sklearn\\neural_network\\_multilayer_perceptron.py:614: ConvergenceWarning: Stochastic Optimizer: Maximum iterations (200) reached and the optimization hasn't converged yet.\n",
      "  warnings.warn(\n",
      "C:\\Users\\Dimitris\\anaconda3\\lib\\site-packages\\sklearn\\neural_network\\_multilayer_perceptron.py:614: ConvergenceWarning: Stochastic Optimizer: Maximum iterations (200) reached and the optimization hasn't converged yet.\n",
      "  warnings.warn(\n"
     ]
    },
    {
     "output_type": "stream",
     "name": "stdout",
     "text": [
      "MLP\n",
      "****Results****\n",
      "train accuracy score 0.6094858156028369\n"
     ]
    },
    {
     "output_type": "stream",
     "name": "stderr",
     "text": [
      "C:\\Users\\Dimitris\\anaconda3\\lib\\site-packages\\sklearn\\neural_network\\_multilayer_perceptron.py:614: ConvergenceWarning: Stochastic Optimizer: Maximum iterations (200) reached and the optimization hasn't converged yet.\n",
      "  warnings.warn(\n",
      "C:\\Users\\Dimitris\\anaconda3\\lib\\site-packages\\sklearn\\discriminant_analysis.py:808: UserWarning: Variables are collinear\n",
      "  warnings.warn(\"Variables are collinear\")\n",
      "C:\\Users\\Dimitris\\anaconda3\\lib\\site-packages\\sklearn\\discriminant_analysis.py:808: UserWarning: Variables are collinear\n",
      "  warnings.warn(\"Variables are collinear\")\n",
      "C:\\Users\\Dimitris\\anaconda3\\lib\\site-packages\\sklearn\\discriminant_analysis.py:808: UserWarning: Variables are collinear\n",
      "  warnings.warn(\"Variables are collinear\")\n",
      "C:\\Users\\Dimitris\\anaconda3\\lib\\site-packages\\sklearn\\discriminant_analysis.py:808: UserWarning: Variables are collinear\n",
      "  warnings.warn(\"Variables are collinear\")\n",
      "C:\\Users\\Dimitris\\anaconda3\\lib\\site-packages\\sklearn\\discriminant_analysis.py:808: UserWarning: Variables are collinear\n",
      "  warnings.warn(\"Variables are collinear\")\n",
      "C:\\Users\\Dimitris\\anaconda3\\lib\\site-packages\\sklearn\\discriminant_analysis.py:808: UserWarning: Variables are collinear\n",
      "  warnings.warn(\"Variables are collinear\")\n",
      "C:\\Users\\Dimitris\\anaconda3\\lib\\site-packages\\sklearn\\discriminant_analysis.py:808: UserWarning: Variables are collinear\n",
      "  warnings.warn(\"Variables are collinear\")\n",
      "C:\\Users\\Dimitris\\anaconda3\\lib\\site-packages\\sklearn\\discriminant_analysis.py:808: UserWarning: Variables are collinear\n",
      "  warnings.warn(\"Variables are collinear\")\n",
      "C:\\Users\\Dimitris\\anaconda3\\lib\\site-packages\\sklearn\\discriminant_analysis.py:808: UserWarning: Variables are collinear\n",
      "  warnings.warn(\"Variables are collinear\")\n",
      "C:\\Users\\Dimitris\\anaconda3\\lib\\site-packages\\sklearn\\discriminant_analysis.py:808: UserWarning: Variables are collinear\n",
      "  warnings.warn(\"Variables are collinear\")\n",
      "C:\\Users\\Dimitris\\anaconda3\\lib\\site-packages\\sklearn\\discriminant_analysis.py:808: UserWarning: Variables are collinear\n",
      "  warnings.warn(\"Variables are collinear\")\n"
     ]
    },
    {
     "output_type": "stream",
     "name": "stdout",
     "text": [
      "test accuracy score  0.5891089108910891\n",
      "--- 5.411782503128052 seconds ---\n",
      "==============================\n",
      "Naive Bayes\n",
      "****Results****\n",
      "train accuracy score 0.5369680851063829\n",
      "test accuracy score  0.5346534653465347\n",
      "--- 0.01701521873474121 seconds ---\n",
      "==============================\n",
      "QDA\n",
      "****Results****\n",
      "train accuracy score 0.4758421985815603\n",
      "test accuracy score  0.44554455445544555\n",
      "--- 0.04813551902770996 seconds ---\n",
      "==============================\n"
     ]
    },
    {
     "output_type": "stream",
     "name": "stderr",
     "text": [
      "C:\\Users\\Dimitris\\anaconda3\\lib\\site-packages\\sklearn\\linear_model\\_logistic.py:763: ConvergenceWarning: lbfgs failed to converge (status=1):\n",
      "STOP: TOTAL NO. of ITERATIONS REACHED LIMIT.\n",
      "\n",
      "Increase the number of iterations (max_iter) or scale the data as shown in:\n",
      "    https://scikit-learn.org/stable/modules/preprocessing.html\n",
      "Please also refer to the documentation for alternative solver options:\n",
      "    https://scikit-learn.org/stable/modules/linear_model.html#logistic-regression\n",
      "  n_iter_i = _check_optimize_result(\n"
     ]
    },
    {
     "output_type": "stream",
     "name": "stdout",
     "text": [
      "Logistic Regression\n",
      "****Results****\n",
      "train accuracy score 0.6010195035460992\n",
      "test accuracy score  0.5792079207920792\n",
      "--- 0.3453257083892822 seconds ---\n",
      "==============================\n"
     ]
    },
    {
     "output_type": "display_data",
     "data": {
      "text/plain": [
       "<Figure size 432x288 with 1 Axes>"
      ],
      "image/png": "[encoded data removed]"
     },
     "metadata": {
      "needs_background": "light"
     }
    }
   ],
   "metadata": {}
  }
 ],
 "metadata": {
  "kernelspec": {
   "name": "python3",
   "display_name": "Python 3.8.5 64-bit ('base': conda)"
  },
  "language_info": {
   "codemirror_mode": {
    "name": "ipython",
    "version": 3
   },
   "file_extension": ".py",
   "mimetype": "text/x-python",
   "name": "python",
   "nbconvert_exporter": "python",
   "pygments_lexer": "ipython3",
   "version": "3.8.5"
  },
  "interpreter": {
   "hash": "4b9fc9eb3037e0513bed7748c8e13d7096332c2b46708cf15fcb444b48a5f0fc"
  }
 },
 "nbformat": 4,
 "nbformat_minor": 4
}