{
 "cells": [
  {
   "cell_type": "code",
   "execution_count": 6,
   "source": [
    "# Dimitrios Bakalis, A.M : 3033\r\n",
    "\r\n",
    "import pandas as pd \r\n",
    "from pandas import DataFrame\r\n",
    "\r\n",
    "import numpy as np\r\n",
    "\r\n",
    "import sklearn\r\n",
    "from sklearn import metrics\r\n",
    "\r\n",
    "from sklearn.model_selection import train_test_split\r\n",
    "from sklearn.model_selection import cross_val_score\r\n",
    "\r\n",
    "import sklearn.metrics as metrics\r\n",
    "import sklearn.cluster as sk_cluster\r\n",
    "\r\n",
    "import seaborn as sns\r\n",
    "\r\n",
    "import matplotlib.pyplot as plt\r\n",
    "\r\n",
    "import time\r\n",
    "\r\n",
    "import math\r\n",
    "import operator\r\n",
    "import json \r\n",
    "import random\r\n",
    "import nltk"
   ],
   "outputs": [],
   "metadata": {}
  },
  {
   "cell_type": "code",
   "execution_count": 17,
   "source": [
    "from sklearn.linear_model import LogisticRegression\r\n",
    "from sklearn.discriminant_analysis import LinearDiscriminantAnalysis\r\n",
    "from sklearn.neighbors import KNeighborsClassifier\r\n",
    "from sklearn.naive_bayes import GaussianNB\r\n",
    "from sklearn.tree import DecisionTreeClassifier\r\n",
    "from sklearn.svm import SVC\r\n",
    "from sklearn.gaussian_process import GaussianProcessClassifier\r\n",
    "from sklearn.gaussian_process.kernels import RBF\r\n",
    "from sklearn.discriminant_analysis import QuadraticDiscriminantAnalysis\r\n",
    "from sklearn.ensemble import RandomForestClassifier, AdaBoostClassifier\r\n",
    "from sklearn.neural_network import MLPClassifier\r\n",
    "from sklearn.ensemble import GradientBoostingClassifier\r\n",
    "\r\n",
    "import seaborn as sns\r\n",
    "\r\n",
    "from sklearn.model_selection import train_test_split\r\n",
    "\r\n",
    "classifiers = [\r\n",
    "    GradientBoostingClassifier(),\r\n",
    "    KNeighborsClassifier(),\r\n",
    "    SVC(),                             \r\n",
    "    DecisionTreeClassifier(),\r\n",
    "    AdaBoostClassifier(),\r\n",
    "    RandomForestClassifier(),\r\n",
    "    MLPClassifier(),                   \r\n",
    "    GaussianNB(),\r\n",
    "    QuadraticDiscriminantAnalysis(),\r\n",
    "    LogisticRegression()]                \r\n",
    "\r\n",
    "names = [\"Gradient Boosting\",\"Nearest Neighbors\", \"RBF SVM\",  \r\n",
    "        \"Decision Tree\", \"AdaBoost\", \"Random Forest\", \"MLP\", \r\n",
    "        \"Naive Bayes\", \"QDA\",\"Logistic Regression\"]              \r\n",
    "\r\n",
    "def neural_networks_accuracy(data,real_labels):\r\n",
    "\r\n",
    "    log_cols=[\"Classifier\", \"Accuracy\"]\r\n",
    "    log = pd.DataFrame(columns=log_cols)\r\n",
    "\r\n",
    "    X_train, X_test, y_train, y_test = train_test_split(data, real_labels, test_size=0.3,random_state=109) # 70% of our data for training and the rest 30% for testing\r\n",
    "\r\n",
    "    print(\"==============================\")\r\n",
    "\r\n",
    "    name_flag = -1\r\n",
    "    for classifier in classifiers: \r\n",
    "        name_flag+=1\r\n",
    "\r\n",
    "        start_time = time.time()\r\n",
    "\r\n",
    "        scores = cross_val_score(classifier, X_train, y_train, cv=10)  # 10-k fold validation\r\n",
    "        train_acc = scores.mean()                                      # we calculate the mean train accuracy score\r\n",
    "\r\n",
    "        print(names[name_flag])\r\n",
    "        print('****Results****')\r\n",
    "\r\n",
    "        print(\"train accuracy score\",train_acc)\r\n",
    "\r\n",
    "        classifier.fit(X_train, y_train)\r\n",
    "\r\n",
    "        test_acc = classifier.score(X_test, y_test)\r\n",
    "\r\n",
    "        print(\"test accuracy score \", test_acc)\r\n",
    "        \r\n",
    "        log_entry = pd.DataFrame([[names[name_flag], test_acc*100]], columns=log_cols)\r\n",
    "        log = log.append(log_entry)\r\n",
    "\r\n",
    "        print(\"--- %s seconds ---\" % (time.time() - start_time))\r\n",
    "\r\n",
    "        print(\"==============================\")\r\n",
    "\r\n",
    "    log = log.sort_values(by=['Accuracy'], ascending=False)\r\n",
    "\r\n",
    "    sns.set_color_codes(\"muted\")\r\n",
    "    sns.barplot(x='Accuracy', y='Classifier', data=log, color=\"b\")\r\n",
    "\r\n",
    "    plt.xlabel('Accuracy %')\r\n",
    "    plt.title('Classifier Accuracy')\r\n",
    "    plt.show()"
   ],
   "outputs": [],
   "metadata": {}
  },
  {
   "cell_type": "code",
   "execution_count": 2,
   "source": [
    "xls = pd.ExcelFile('LOX_VS_ANTIOXIDANTS_VS_TEST.xlsx')"
   ],
   "outputs": [],
   "metadata": {}
  },
  {
   "cell_type": "code",
   "execution_count": 3,
   "source": [
    "df_train_LOX = pd.read_excel(xls, 'training_set_LOX')\r\n",
    "df_train_Antioxidant = pd.read_excel(xls, 'training_set_antioxidant')\r\n",
    "df_LOX_decoys = pd.read_excel(xls, 'LOX_decoys')\r\n",
    "df_Antioxidant_decoys = pd.read_excel(xls, 'Antioxidants_decoys')\r\n",
    "df_test_set = pd.read_excel(xls, 'test_set')"
   ],
   "outputs": [],
   "metadata": {}
  },
  {
   "cell_type": "code",
   "execution_count": 4,
   "source": [
    "df_train_LOX.head(5)"
   ],
   "outputs": [
    {
     "output_type": "execute_result",
     "data": {
      "text/plain": [
       "           Title  class  i_desc_Atom_Count  i_desc_Atoms_in_Ring_System  \\\n",
       "0  CHEMBL1922653      1                 45                           27   \n",
       "1  CHEMBL1922653      1                 45                           27   \n",
       "2  CHEMBL1922653      1                 45                           27   \n",
       "3  CHEMBL1922655      1                 47                           27   \n",
       "4  CHEMBL1922656      1                 45                           26   \n",
       "\n",
       "   i_desc_Bond_Count  i_desc_Bonds_in_Ring_System  i_desc_Centralization  \\\n",
       "0                 49                           28                   5138   \n",
       "1                 49                           28                   5138   \n",
       "2                 49                           28                   5138   \n",
       "3                 51                           28                   5798   \n",
       "4                 49                           27                   5202   \n",
       "\n",
       "   i_desc_Chirality_count  i_desc_Cyclomatic_number  \\\n",
       "0                       0                         5   \n",
       "1                       0                         5   \n",
       "2                       0                         5   \n",
       "3                       0                         5   \n",
       "4                       0                         5   \n",
       "\n",
       "   i_desc_Eccentric_connectivity  ...  r_qp_SAamideO  r_qp_SAfluorine  \\\n",
       "0                           1480  ...            0.0            0.000   \n",
       "1                           1480  ...            0.0            0.000   \n",
       "2                           1480  ...            0.0            0.000   \n",
       "3                           1562  ...            0.0          119.104   \n",
       "4                           1545  ...            0.0            0.000   \n",
       "\n",
       "   r_qp_WPSA  r_qp_accptHB  r_qp_dip^2/V  r_qp_dipole  r_qp_donorHB  \\\n",
       "0      9.420          5.25           0.0          0.0           1.0   \n",
       "1      9.420          5.25           0.0          0.0           1.0   \n",
       "2      9.420          5.25           0.0          0.0           1.0   \n",
       "3    126.691          5.25           0.0          0.0           1.0   \n",
       "4     62.557          5.75           0.0          0.0           1.0   \n",
       "\n",
       "   r_qp_glob  r_qp_mol_MW  r_qp_volume  \n",
       "0   0.736990      623.809     1938.963  \n",
       "1   0.736990      623.809     1938.963  \n",
       "2   0.736990      623.809     1938.963  \n",
       "3   0.762411      661.781     1935.953  \n",
       "4   0.727460      643.858     1967.735  \n",
       "\n",
       "[5 rows x 279 columns]"
      ],
      "text/html": [
       "<div>\n",
       "<style scoped>\n",
       "    .dataframe tbody tr th:only-of-type {\n",
       "        vertical-align: middle;\n",
       "    }\n",
       "\n",
       "    .dataframe tbody tr th {\n",
       "        vertical-align: top;\n",
       "    }\n",
       "\n",
       "    .dataframe thead th {\n",
       "        text-align: right;\n",
       "    }\n",
       "</style>\n",
       "<table border=\"1\" class=\"dataframe\">\n",
       "  <thead>\n",
       "    <tr style=\"text-align: right;\">\n",
       "      <th></th>\n",
       "      <th>Title</th>\n",
       "      <th>class</th>\n",
       "      <th>i_desc_Atom_Count</th>\n",
       "      <th>i_desc_Atoms_in_Ring_System</th>\n",
       "      <th>i_desc_Bond_Count</th>\n",
       "      <th>i_desc_Bonds_in_Ring_System</th>\n",
       "      <th>i_desc_Centralization</th>\n",
       "      <th>i_desc_Chirality_count</th>\n",
       "      <th>i_desc_Cyclomatic_number</th>\n",
       "      <th>i_desc_Eccentric_connectivity</th>\n",
       "      <th>...</th>\n",
       "      <th>r_qp_SAamideO</th>\n",
       "      <th>r_qp_SAfluorine</th>\n",
       "      <th>r_qp_WPSA</th>\n",
       "      <th>r_qp_accptHB</th>\n",
       "      <th>r_qp_dip^2/V</th>\n",
       "      <th>r_qp_dipole</th>\n",
       "      <th>r_qp_donorHB</th>\n",
       "      <th>r_qp_glob</th>\n",
       "      <th>r_qp_mol_MW</th>\n",
       "      <th>r_qp_volume</th>\n",
       "    </tr>\n",
       "  </thead>\n",
       "  <tbody>\n",
       "    <tr>\n",
       "      <th>0</th>\n",
       "      <td>CHEMBL1922653</td>\n",
       "      <td>1</td>\n",
       "      <td>45</td>\n",
       "      <td>27</td>\n",
       "      <td>49</td>\n",
       "      <td>28</td>\n",
       "      <td>5138</td>\n",
       "      <td>0</td>\n",
       "      <td>5</td>\n",
       "      <td>1480</td>\n",
       "      <td>...</td>\n",
       "      <td>0.0</td>\n",
       "      <td>0.000</td>\n",
       "      <td>9.420</td>\n",
       "      <td>5.25</td>\n",
       "      <td>0.0</td>\n",
       "      <td>0.0</td>\n",
       "      <td>1.0</td>\n",
       "      <td>0.736990</td>\n",
       "      <td>623.809</td>\n",
       "      <td>1938.963</td>\n",
       "    </tr>\n",
       "    <tr>\n",
       "      <th>1</th>\n",
       "      <td>CHEMBL1922653</td>\n",
       "      <td>1</td>\n",
       "      <td>45</td>\n",
       "      <td>27</td>\n",
       "      <td>49</td>\n",
       "      <td>28</td>\n",
       "      <td>5138</td>\n",
       "      <td>0</td>\n",
       "      <td>5</td>\n",
       "      <td>1480</td>\n",
       "      <td>...</td>\n",
       "      <td>0.0</td>\n",
       "      <td>0.000</td>\n",
       "      <td>9.420</td>\n",
       "      <td>5.25</td>\n",
       "      <td>0.0</td>\n",
       "      <td>0.0</td>\n",
       "      <td>1.0</td>\n",
       "      <td>0.736990</td>\n",
       "      <td>623.809</td>\n",
       "      <td>1938.963</td>\n",
       "    </tr>\n",
       "    <tr>\n",
       "      <th>2</th>\n",
       "      <td>CHEMBL1922653</td>\n",
       "      <td>1</td>\n",
       "      <td>45</td>\n",
       "      <td>27</td>\n",
       "      <td>49</td>\n",
       "      <td>28</td>\n",
       "      <td>5138</td>\n",
       "      <td>0</td>\n",
       "      <td>5</td>\n",
       "      <td>1480</td>\n",
       "      <td>...</td>\n",
       "      <td>0.0</td>\n",
       "      <td>0.000</td>\n",
       "      <td>9.420</td>\n",
       "      <td>5.25</td>\n",
       "      <td>0.0</td>\n",
       "      <td>0.0</td>\n",
       "      <td>1.0</td>\n",
       "      <td>0.736990</td>\n",
       "      <td>623.809</td>\n",
       "      <td>1938.963</td>\n",
       "    </tr>\n",
       "    <tr>\n",
       "      <th>3</th>\n",
       "      <td>CHEMBL1922655</td>\n",
       "      <td>1</td>\n",
       "      <td>47</td>\n",
       "      <td>27</td>\n",
       "      <td>51</td>\n",
       "      <td>28</td>\n",
       "      <td>5798</td>\n",
       "      <td>0</td>\n",
       "      <td>5</td>\n",
       "      <td>1562</td>\n",
       "      <td>...</td>\n",
       "      <td>0.0</td>\n",
       "      <td>119.104</td>\n",
       "      <td>126.691</td>\n",
       "      <td>5.25</td>\n",
       "      <td>0.0</td>\n",
       "      <td>0.0</td>\n",
       "      <td>1.0</td>\n",
       "      <td>0.762411</td>\n",
       "      <td>661.781</td>\n",
       "      <td>1935.953</td>\n",
       "    </tr>\n",
       "    <tr>\n",
       "      <th>4</th>\n",
       "      <td>CHEMBL1922656</td>\n",
       "      <td>1</td>\n",
       "      <td>45</td>\n",
       "      <td>26</td>\n",
       "      <td>49</td>\n",
       "      <td>27</td>\n",
       "      <td>5202</td>\n",
       "      <td>0</td>\n",
       "      <td>5</td>\n",
       "      <td>1545</td>\n",
       "      <td>...</td>\n",
       "      <td>0.0</td>\n",
       "      <td>0.000</td>\n",
       "      <td>62.557</td>\n",
       "      <td>5.75</td>\n",
       "      <td>0.0</td>\n",
       "      <td>0.0</td>\n",
       "      <td>1.0</td>\n",
       "      <td>0.727460</td>\n",
       "      <td>643.858</td>\n",
       "      <td>1967.735</td>\n",
       "    </tr>\n",
       "  </tbody>\n",
       "</table>\n",
       "<p>5 rows × 279 columns</p>\n",
       "</div>"
      ]
     },
     "metadata": {},
     "execution_count": 4
    }
   ],
   "metadata": {}
  },
  {
   "cell_type": "code",
   "execution_count": 5,
   "source": [
    "def extract_labels(tmp_df):\r\n",
    "    tmp_labels = tmp_df['class'].tolist()\r\n",
    "    return (tmp_labels)"
   ],
   "outputs": [],
   "metadata": {}
  },
  {
   "cell_type": "code",
   "execution_count": 6,
   "source": [
    "def list_to_array_transformation(tmp_list):\r\n",
    "    i=-1\r\n",
    "    for compound in tmp_list:\r\n",
    "        i+=1\r\n",
    "        tmp_list[i]=compound[2:]\r\n",
    "\r\n",
    "    tmp_array = np.array(tmp_list) \r\n",
    "    tmp_array = np.nan_to_num(tmp_array)       # we replace the Nan values with zeros            \r\n",
    "\r\n",
    "    return (tmp_array)"
   ],
   "outputs": [],
   "metadata": {
    "tags": []
   }
  },
  {
   "cell_type": "code",
   "execution_count": 7,
   "source": [
    "lox_labels = extract_labels(df_train_LOX)           # list that holds the labels of the lox compounds\r\n",
    "lox_list = df_train_LOX.values.tolist()             # list that holds the values of the lox compounds from our dataframe\r\n",
    "lox_array = list_to_array_transformation(lox_list)  # we transform our lox list into an array\r\n",
    "print(\"lox array dimensions\",lox_array.shape)"
   ],
   "outputs": [
    {
     "output_type": "stream",
     "name": "stdout",
     "text": [
      "lox array dimensions (4383, 277)\n"
     ]
    }
   ],
   "metadata": {}
  },
  {
   "cell_type": "code",
   "execution_count": 8,
   "source": [
    "antioxidant_labels = extract_labels(df_train_Antioxidant)           # list that holds the labels of the antioxidant compounds\r\n",
    "antioxidant_list = df_train_Antioxidant.values.tolist()             # list that holds the values of the antioxidants compounds from our dataframe\r\n",
    "antioxidant_array = list_to_array_transformation(antioxidant_list)  # we transform our antioxidants list into an array\r\n",
    "print(\"antioxidant array dimensions\",antioxidant_array.shape)"
   ],
   "outputs": [
    {
     "output_type": "stream",
     "name": "stdout",
     "text": [
      "antioxidant array dimensions (469, 277)\n"
     ]
    }
   ],
   "metadata": {}
  },
  {
   "cell_type": "code",
   "execution_count": 9,
   "source": [
    "lox_decoy_labels = extract_labels(df_LOX_decoys)                # list that holds the labels of the lox decoys compounds\r\n",
    "lox_decoy_list = df_LOX_decoys.values.tolist()                  # list that holds the values of the lox decoys compounds from our dataframe\r\n",
    "lox_decoy_array = list_to_array_transformation(lox_decoy_list)  # we transform our lox decoy list into an array\r\n",
    "print(\"lox decoys array dimensions\",lox_decoy_array.shape)"
   ],
   "outputs": [
    {
     "output_type": "stream",
     "name": "stdout",
     "text": [
      "lox decoys array dimensions (3799, 277)\n"
     ]
    }
   ],
   "metadata": {}
  },
  {
   "cell_type": "code",
   "execution_count": 10,
   "source": [
    "antioxidant_decoys_labels = extract_labels(df_Antioxidant_decoys)                 # list that holds the labels of the antioxidant decoys compounds\r\n",
    "antioxidant_decoys_list = df_Antioxidant_decoys.values.tolist()                   # list that holds the values of the antioxidants decoys compounds from our dataframe\r\n",
    "antioxidant_decoys_array = list_to_array_transformation(antioxidant_decoys_list)  # we transform our antioxidants list into an array\r\n",
    "print(\"antioxidant decoys array dimensions\",antioxidant_decoys_array.shape)"
   ],
   "outputs": [
    {
     "output_type": "stream",
     "name": "stdout",
     "text": [
      "antioxidant decoys array dimensions (1128, 277)\n"
     ]
    }
   ],
   "metadata": {}
  },
  {
   "cell_type": "code",
   "execution_count": 11,
   "source": [
    "data = np.concatenate((lox_array, antioxidant_array))   # lox vs antioxidant\r\n",
    "print(data.shape)\r\n",
    "real_labels = lox_labels + antioxidant_labels"
   ],
   "outputs": [
    {
     "output_type": "stream",
     "name": "stdout",
     "text": [
      "(4852, 277)\n"
     ]
    }
   ],
   "metadata": {}
  },
  {
   "cell_type": "code",
   "execution_count": 30,
   "source": [
    "neural_networks_accuracy(data,real_labels)"
   ],
   "outputs": [
    {
     "output_type": "stream",
     "name": "stdout",
     "text": [
      "==============================\n",
      "Gradient Boosting\n",
      "****Results****\n",
      "train accuracy score 0.9796824570536179\n",
      "test accuracy score  0.9855769230769231\n",
      "--- 109.00315546989441 seconds ---\n",
      "==============================\n",
      "Nearest Neighbors\n",
      "****Results****\n",
      "train accuracy score 0.9414055179593961\n",
      "test accuracy score  0.9381868131868132\n",
      "--- 0.5943999290466309 seconds ---\n",
      "==============================\n",
      "RBF SVM\n",
      "****Results****\n",
      "train accuracy score 0.905773034877668\n",
      "test accuracy score  0.9024725274725275\n",
      "--- 3.558459997177124 seconds ---\n",
      "==============================\n",
      "Decision Tree\n",
      "****Results****\n",
      "train accuracy score 0.9758563248308173\n",
      "test accuracy score  0.9807692307692307\n",
      "--- 5.07901668548584 seconds ---\n",
      "==============================\n",
      "AdaBoost\n",
      "****Results****\n",
      "train accuracy score 0.9785094568800972\n",
      "test accuracy score  0.9745879120879121\n",
      "--- 23.155705451965332 seconds ---\n",
      "==============================\n",
      "Random Forest\n",
      "****Results****\n",
      "train accuracy score 0.986456706576436\n",
      "test accuracy score  0.9883241758241759\n",
      "--- 16.54275345802307 seconds ---\n",
      "==============================\n",
      "MLP\n",
      "****Results****\n",
      "train accuracy score 0.9072531667534272\n",
      "test accuracy score  0.9532967032967034\n",
      "--- 11.151094913482666 seconds ---\n",
      "==============================\n",
      "Naive Bayes\n",
      "****Results****\n",
      "train accuracy score 0.7770978656949505\n",
      "test accuracy score  0.7877747252747253\n",
      "--- 0.1638479232788086 seconds ---\n",
      "==============================\n"
     ]
    },
    {
     "output_type": "stream",
     "name": "stderr",
     "text": [
      "C:\\Users\\Dimitris\\anaconda3\\lib\\site-packages\\sklearn\\discriminant_analysis.py:808: UserWarning: Variables are collinear\n",
      "  warnings.warn(\"Variables are collinear\")\n",
      "C:\\Users\\Dimitris\\anaconda3\\lib\\site-packages\\sklearn\\discriminant_analysis.py:808: UserWarning: Variables are collinear\n",
      "  warnings.warn(\"Variables are collinear\")\n",
      "C:\\Users\\Dimitris\\anaconda3\\lib\\site-packages\\sklearn\\discriminant_analysis.py:808: UserWarning: Variables are collinear\n",
      "  warnings.warn(\"Variables are collinear\")\n",
      "C:\\Users\\Dimitris\\anaconda3\\lib\\site-packages\\sklearn\\discriminant_analysis.py:808: UserWarning: Variables are collinear\n",
      "  warnings.warn(\"Variables are collinear\")\n",
      "C:\\Users\\Dimitris\\anaconda3\\lib\\site-packages\\sklearn\\discriminant_analysis.py:808: UserWarning: Variables are collinear\n",
      "  warnings.warn(\"Variables are collinear\")\n",
      "C:\\Users\\Dimitris\\anaconda3\\lib\\site-packages\\sklearn\\discriminant_analysis.py:808: UserWarning: Variables are collinear\n",
      "  warnings.warn(\"Variables are collinear\")\n",
      "C:\\Users\\Dimitris\\anaconda3\\lib\\site-packages\\sklearn\\discriminant_analysis.py:808: UserWarning: Variables are collinear\n",
      "  warnings.warn(\"Variables are collinear\")\n",
      "C:\\Users\\Dimitris\\anaconda3\\lib\\site-packages\\sklearn\\discriminant_analysis.py:808: UserWarning: Variables are collinear\n",
      "  warnings.warn(\"Variables are collinear\")\n",
      "C:\\Users\\Dimitris\\anaconda3\\lib\\site-packages\\sklearn\\discriminant_analysis.py:808: UserWarning: Variables are collinear\n",
      "  warnings.warn(\"Variables are collinear\")\n",
      "C:\\Users\\Dimitris\\anaconda3\\lib\\site-packages\\sklearn\\discriminant_analysis.py:808: UserWarning: Variables are collinear\n",
      "  warnings.warn(\"Variables are collinear\")\n"
     ]
    },
    {
     "output_type": "stream",
     "name": "stdout",
     "text": [
      "QDA\n",
      "****Results****\n",
      "train accuracy score 0.9528847822314767\n",
      "test accuracy score  0.9491758241758241\n",
      "--- 1.8311161994934082 seconds ---\n",
      "==============================\n"
     ]
    },
    {
     "output_type": "stream",
     "name": "stderr",
     "text": [
      "C:\\Users\\Dimitris\\anaconda3\\lib\\site-packages\\sklearn\\discriminant_analysis.py:808: UserWarning: Variables are collinear\n",
      "  warnings.warn(\"Variables are collinear\")\n",
      "C:\\Users\\Dimitris\\anaconda3\\lib\\site-packages\\sklearn\\linear_model\\_logistic.py:763: ConvergenceWarning: lbfgs failed to converge (status=1):\n",
      "STOP: TOTAL NO. of ITERATIONS REACHED LIMIT.\n",
      "\n",
      "Increase the number of iterations (max_iter) or scale the data as shown in:\n",
      "    https://scikit-learn.org/stable/modules/preprocessing.html\n",
      "Please also refer to the documentation for alternative solver options:\n",
      "    https://scikit-learn.org/stable/modules/linear_model.html#logistic-regression\n",
      "  n_iter_i = _check_optimize_result(\n",
      "C:\\Users\\Dimitris\\anaconda3\\lib\\site-packages\\sklearn\\linear_model\\_logistic.py:763: ConvergenceWarning: lbfgs failed to converge (status=1):\n",
      "STOP: TOTAL NO. of ITERATIONS REACHED LIMIT.\n",
      "\n",
      "Increase the number of iterations (max_iter) or scale the data as shown in:\n",
      "    https://scikit-learn.org/stable/modules/preprocessing.html\n",
      "Please also refer to the documentation for alternative solver options:\n",
      "    https://scikit-learn.org/stable/modules/linear_model.html#logistic-regression\n",
      "  n_iter_i = _check_optimize_result(\n",
      "C:\\Users\\Dimitris\\anaconda3\\lib\\site-packages\\sklearn\\linear_model\\_logistic.py:763: ConvergenceWarning: lbfgs failed to converge (status=1):\n",
      "STOP: TOTAL NO. of ITERATIONS REACHED LIMIT.\n",
      "\n",
      "Increase the number of iterations (max_iter) or scale the data as shown in:\n",
      "    https://scikit-learn.org/stable/modules/preprocessing.html\n",
      "Please also refer to the documentation for alternative solver options:\n",
      "    https://scikit-learn.org/stable/modules/linear_model.html#logistic-regression\n",
      "  n_iter_i = _check_optimize_result(\n",
      "C:\\Users\\Dimitris\\anaconda3\\lib\\site-packages\\sklearn\\linear_model\\_logistic.py:763: ConvergenceWarning: lbfgs failed to converge (status=1):\n",
      "STOP: TOTAL NO. of ITERATIONS REACHED LIMIT.\n",
      "\n",
      "Increase the number of iterations (max_iter) or scale the data as shown in:\n",
      "    https://scikit-learn.org/stable/modules/preprocessing.html\n",
      "Please also refer to the documentation for alternative solver options:\n",
      "    https://scikit-learn.org/stable/modules/linear_model.html#logistic-regression\n",
      "  n_iter_i = _check_optimize_result(\n",
      "C:\\Users\\Dimitris\\anaconda3\\lib\\site-packages\\sklearn\\linear_model\\_logistic.py:763: ConvergenceWarning: lbfgs failed to converge (status=1):\n",
      "STOP: TOTAL NO. of ITERATIONS REACHED LIMIT.\n",
      "\n",
      "Increase the number of iterations (max_iter) or scale the data as shown in:\n",
      "    https://scikit-learn.org/stable/modules/preprocessing.html\n",
      "Please also refer to the documentation for alternative solver options:\n",
      "    https://scikit-learn.org/stable/modules/linear_model.html#logistic-regression\n",
      "  n_iter_i = _check_optimize_result(\n",
      "C:\\Users\\Dimitris\\anaconda3\\lib\\site-packages\\sklearn\\linear_model\\_logistic.py:763: ConvergenceWarning: lbfgs failed to converge (status=1):\n",
      "STOP: TOTAL NO. of ITERATIONS REACHED LIMIT.\n",
      "\n",
      "Increase the number of iterations (max_iter) or scale the data as shown in:\n",
      "    https://scikit-learn.org/stable/modules/preprocessing.html\n",
      "Please also refer to the documentation for alternative solver options:\n",
      "    https://scikit-learn.org/stable/modules/linear_model.html#logistic-regression\n",
      "  n_iter_i = _check_optimize_result(\n",
      "C:\\Users\\Dimitris\\anaconda3\\lib\\site-packages\\sklearn\\linear_model\\_logistic.py:763: ConvergenceWarning: lbfgs failed to converge (status=1):\n",
      "STOP: TOTAL NO. of ITERATIONS REACHED LIMIT.\n",
      "\n",
      "Increase the number of iterations (max_iter) or scale the data as shown in:\n",
      "    https://scikit-learn.org/stable/modules/preprocessing.html\n",
      "Please also refer to the documentation for alternative solver options:\n",
      "    https://scikit-learn.org/stable/modules/linear_model.html#logistic-regression\n",
      "  n_iter_i = _check_optimize_result(\n",
      "C:\\Users\\Dimitris\\anaconda3\\lib\\site-packages\\sklearn\\linear_model\\_logistic.py:763: ConvergenceWarning: lbfgs failed to converge (status=1):\n",
      "STOP: TOTAL NO. of ITERATIONS REACHED LIMIT.\n",
      "\n",
      "Increase the number of iterations (max_iter) or scale the data as shown in:\n",
      "    https://scikit-learn.org/stable/modules/preprocessing.html\n",
      "Please also refer to the documentation for alternative solver options:\n",
      "    https://scikit-learn.org/stable/modules/linear_model.html#logistic-regression\n",
      "  n_iter_i = _check_optimize_result(\n",
      "C:\\Users\\Dimitris\\anaconda3\\lib\\site-packages\\sklearn\\linear_model\\_logistic.py:763: ConvergenceWarning: lbfgs failed to converge (status=1):\n",
      "STOP: TOTAL NO. of ITERATIONS REACHED LIMIT.\n",
      "\n",
      "Increase the number of iterations (max_iter) or scale the data as shown in:\n",
      "    https://scikit-learn.org/stable/modules/preprocessing.html\n",
      "Please also refer to the documentation for alternative solver options:\n",
      "    https://scikit-learn.org/stable/modules/linear_model.html#logistic-regression\n",
      "  n_iter_i = _check_optimize_result(\n",
      "C:\\Users\\Dimitris\\anaconda3\\lib\\site-packages\\sklearn\\linear_model\\_logistic.py:763: ConvergenceWarning: lbfgs failed to converge (status=1):\n",
      "STOP: TOTAL NO. of ITERATIONS REACHED LIMIT.\n",
      "\n",
      "Increase the number of iterations (max_iter) or scale the data as shown in:\n",
      "    https://scikit-learn.org/stable/modules/preprocessing.html\n",
      "Please also refer to the documentation for alternative solver options:\n",
      "    https://scikit-learn.org/stable/modules/linear_model.html#logistic-regression\n",
      "  n_iter_i = _check_optimize_result(\n",
      "C:\\Users\\Dimitris\\anaconda3\\lib\\site-packages\\sklearn\\linear_model\\_logistic.py:763: ConvergenceWarning: lbfgs failed to converge (status=1):\n",
      "STOP: TOTAL NO. of ITERATIONS REACHED LIMIT.\n",
      "\n",
      "Increase the number of iterations (max_iter) or scale the data as shown in:\n",
      "    https://scikit-learn.org/stable/modules/preprocessing.html\n",
      "Please also refer to the documentation for alternative solver options:\n",
      "    https://scikit-learn.org/stable/modules/linear_model.html#logistic-regression\n",
      "  n_iter_i = _check_optimize_result(\n"
     ]
    },
    {
     "output_type": "stream",
     "name": "stdout",
     "text": [
      "Logistic Regression\n",
      "****Results****\n",
      "train accuracy score 0.9284478570189136\n",
      "test accuracy score  0.9258241758241759\n",
      "--- 1.0760962963104248 seconds ---\n",
      "==============================\n"
     ]
    },
    {
     "output_type": "display_data",
     "data": {
      "text/plain": [
       "<Figure size 432x288 with 1 Axes>"
      ],
      "image/png": "[encoded data removed]"
     },
     "metadata": {
      "needs_background": "light"
     }
    }
   ],
   "metadata": {}
  },
  {
   "cell_type": "code",
   "execution_count": 12,
   "source": [
    "data = np.concatenate((lox_array, lox_decoy_array))    # lox vs lox_decoys\r\n",
    "print(data.shape)\r\n",
    "real_labels = lox_labels + lox_decoy_labels"
   ],
   "outputs": [
    {
     "output_type": "stream",
     "name": "stdout",
     "text": [
      "(8182, 277)\n"
     ]
    }
   ],
   "metadata": {
    "tags": []
   }
  },
  {
   "cell_type": "code",
   "execution_count": 32,
   "source": [
    "neural_networks_accuracy(data,real_labels)"
   ],
   "outputs": [
    {
     "output_type": "stream",
     "name": "stdout",
     "text": [
      "==============================\n",
      "Gradient Boosting\n",
      "****Results****\n",
      "train accuracy score 0.9111262646602961\n",
      "test accuracy score  0.9103869653767821\n",
      "--- 201.02843737602234 seconds ---\n",
      "==============================\n",
      "Nearest Neighbors\n",
      "****Results****\n",
      "train accuracy score 0.8168353897411489\n",
      "test accuracy score  0.8228105906313645\n",
      "--- 1.3127145767211914 seconds ---\n",
      "==============================\n",
      "RBF SVM\n",
      "****Results****\n",
      "train accuracy score 0.6404764519947765\n",
      "test accuracy score  0.6329938900203665\n",
      "--- 59.08207702636719 seconds ---\n",
      "==============================\n",
      "Decision Tree\n",
      "****Results****\n",
      "train accuracy score 0.9366153480027826\n",
      "test accuracy score  0.9425661914460285\n",
      "--- 8.986000061035156 seconds ---\n",
      "==============================\n",
      "AdaBoost\n",
      "****Results****\n",
      "train accuracy score 0.8638053918158631\n",
      "test accuracy score  0.8574338085539714\n",
      "--- 42.77694916725159 seconds ---\n",
      "==============================\n",
      "Random Forest\n",
      "****Results****\n",
      "train accuracy score 0.9572209204408157\n",
      "test accuracy score  0.9653767820773931\n",
      "--- 29.742682933807373 seconds ---\n",
      "==============================\n",
      "MLP\n",
      "****Results****\n",
      "train accuracy score 0.7516890613749252\n",
      "test accuracy score  0.7474541751527495\n",
      "--- 20.037892818450928 seconds ---\n",
      "==============================\n",
      "Naive Bayes\n",
      "****Results****\n",
      "train accuracy score 0.7354702888734302\n",
      "test accuracy score  0.7270875763747454\n",
      "--- 0.33009791374206543 seconds ---\n",
      "==============================\n"
     ]
    },
    {
     "output_type": "stream",
     "name": "stderr",
     "text": [
      "C:\\Users\\Dimitris\\anaconda3\\lib\\site-packages\\sklearn\\discriminant_analysis.py:808: UserWarning: Variables are collinear\n",
      "  warnings.warn(\"Variables are collinear\")\n",
      "C:\\Users\\Dimitris\\anaconda3\\lib\\site-packages\\sklearn\\discriminant_analysis.py:808: UserWarning: Variables are collinear\n",
      "  warnings.warn(\"Variables are collinear\")\n",
      "C:\\Users\\Dimitris\\anaconda3\\lib\\site-packages\\sklearn\\discriminant_analysis.py:808: UserWarning: Variables are collinear\n",
      "  warnings.warn(\"Variables are collinear\")\n",
      "C:\\Users\\Dimitris\\anaconda3\\lib\\site-packages\\sklearn\\discriminant_analysis.py:808: UserWarning: Variables are collinear\n",
      "  warnings.warn(\"Variables are collinear\")\n",
      "C:\\Users\\Dimitris\\anaconda3\\lib\\site-packages\\sklearn\\discriminant_analysis.py:808: UserWarning: Variables are collinear\n",
      "  warnings.warn(\"Variables are collinear\")\n",
      "C:\\Users\\Dimitris\\anaconda3\\lib\\site-packages\\sklearn\\discriminant_analysis.py:808: UserWarning: Variables are collinear\n",
      "  warnings.warn(\"Variables are collinear\")\n",
      "C:\\Users\\Dimitris\\anaconda3\\lib\\site-packages\\sklearn\\discriminant_analysis.py:808: UserWarning: Variables are collinear\n",
      "  warnings.warn(\"Variables are collinear\")\n",
      "C:\\Users\\Dimitris\\anaconda3\\lib\\site-packages\\sklearn\\discriminant_analysis.py:808: UserWarning: Variables are collinear\n",
      "  warnings.warn(\"Variables are collinear\")\n",
      "C:\\Users\\Dimitris\\anaconda3\\lib\\site-packages\\sklearn\\discriminant_analysis.py:808: UserWarning: Variables are collinear\n",
      "  warnings.warn(\"Variables are collinear\")\n",
      "C:\\Users\\Dimitris\\anaconda3\\lib\\site-packages\\sklearn\\discriminant_analysis.py:808: UserWarning: Variables are collinear\n",
      "  warnings.warn(\"Variables are collinear\")\n"
     ]
    },
    {
     "output_type": "stream",
     "name": "stdout",
     "text": [
      "QDA\n",
      "****Results****\n",
      "train accuracy score 0.7728343645882914\n"
     ]
    },
    {
     "output_type": "stream",
     "name": "stderr",
     "text": [
      "C:\\Users\\Dimitris\\anaconda3\\lib\\site-packages\\sklearn\\discriminant_analysis.py:808: UserWarning: Variables are collinear\n",
      "  warnings.warn(\"Variables are collinear\")\n"
     ]
    },
    {
     "output_type": "stream",
     "name": "stdout",
     "text": [
      "test accuracy score  0.7486761710794297\n",
      "--- 2.6604220867156982 seconds ---\n",
      "==============================\n"
     ]
    },
    {
     "output_type": "stream",
     "name": "stderr",
     "text": [
      "C:\\Users\\Dimitris\\anaconda3\\lib\\site-packages\\sklearn\\linear_model\\_logistic.py:763: ConvergenceWarning: lbfgs failed to converge (status=1):\n",
      "STOP: TOTAL NO. of ITERATIONS REACHED LIMIT.\n",
      "\n",
      "Increase the number of iterations (max_iter) or scale the data as shown in:\n",
      "    https://scikit-learn.org/stable/modules/preprocessing.html\n",
      "Please also refer to the documentation for alternative solver options:\n",
      "    https://scikit-learn.org/stable/modules/linear_model.html#logistic-regression\n",
      "  n_iter_i = _check_optimize_result(\n",
      "C:\\Users\\Dimitris\\anaconda3\\lib\\site-packages\\sklearn\\linear_model\\_logistic.py:763: ConvergenceWarning: lbfgs failed to converge (status=1):\n",
      "STOP: TOTAL NO. of ITERATIONS REACHED LIMIT.\n",
      "\n",
      "Increase the number of iterations (max_iter) or scale the data as shown in:\n",
      "    https://scikit-learn.org/stable/modules/preprocessing.html\n",
      "Please also refer to the documentation for alternative solver options:\n",
      "    https://scikit-learn.org/stable/modules/linear_model.html#logistic-regression\n",
      "  n_iter_i = _check_optimize_result(\n",
      "C:\\Users\\Dimitris\\anaconda3\\lib\\site-packages\\sklearn\\linear_model\\_logistic.py:763: ConvergenceWarning: lbfgs failed to converge (status=1):\n",
      "STOP: TOTAL NO. of ITERATIONS REACHED LIMIT.\n",
      "\n",
      "Increase the number of iterations (max_iter) or scale the data as shown in:\n",
      "    https://scikit-learn.org/stable/modules/preprocessing.html\n",
      "Please also refer to the documentation for alternative solver options:\n",
      "    https://scikit-learn.org/stable/modules/linear_model.html#logistic-regression\n",
      "  n_iter_i = _check_optimize_result(\n",
      "C:\\Users\\Dimitris\\anaconda3\\lib\\site-packages\\sklearn\\linear_model\\_logistic.py:763: ConvergenceWarning: lbfgs failed to converge (status=1):\n",
      "STOP: TOTAL NO. of ITERATIONS REACHED LIMIT.\n",
      "\n",
      "Increase the number of iterations (max_iter) or scale the data as shown in:\n",
      "    https://scikit-learn.org/stable/modules/preprocessing.html\n",
      "Please also refer to the documentation for alternative solver options:\n",
      "    https://scikit-learn.org/stable/modules/linear_model.html#logistic-regression\n",
      "  n_iter_i = _check_optimize_result(\n",
      "C:\\Users\\Dimitris\\anaconda3\\lib\\site-packages\\sklearn\\linear_model\\_logistic.py:763: ConvergenceWarning: lbfgs failed to converge (status=1):\n",
      "STOP: TOTAL NO. of ITERATIONS REACHED LIMIT.\n",
      "\n",
      "Increase the number of iterations (max_iter) or scale the data as shown in:\n",
      "    https://scikit-learn.org/stable/modules/preprocessing.html\n",
      "Please also refer to the documentation for alternative solver options:\n",
      "    https://scikit-learn.org/stable/modules/linear_model.html#logistic-regression\n",
      "  n_iter_i = _check_optimize_result(\n",
      "C:\\Users\\Dimitris\\anaconda3\\lib\\site-packages\\sklearn\\linear_model\\_logistic.py:763: ConvergenceWarning: lbfgs failed to converge (status=1):\n",
      "STOP: TOTAL NO. of ITERATIONS REACHED LIMIT.\n",
      "\n",
      "Increase the number of iterations (max_iter) or scale the data as shown in:\n",
      "    https://scikit-learn.org/stable/modules/preprocessing.html\n",
      "Please also refer to the documentation for alternative solver options:\n",
      "    https://scikit-learn.org/stable/modules/linear_model.html#logistic-regression\n",
      "  n_iter_i = _check_optimize_result(\n",
      "C:\\Users\\Dimitris\\anaconda3\\lib\\site-packages\\sklearn\\linear_model\\_logistic.py:763: ConvergenceWarning: lbfgs failed to converge (status=1):\n",
      "STOP: TOTAL NO. of ITERATIONS REACHED LIMIT.\n",
      "\n",
      "Increase the number of iterations (max_iter) or scale the data as shown in:\n",
      "    https://scikit-learn.org/stable/modules/preprocessing.html\n",
      "Please also refer to the documentation for alternative solver options:\n",
      "    https://scikit-learn.org/stable/modules/linear_model.html#logistic-regression\n",
      "  n_iter_i = _check_optimize_result(\n",
      "C:\\Users\\Dimitris\\anaconda3\\lib\\site-packages\\sklearn\\linear_model\\_logistic.py:763: ConvergenceWarning: lbfgs failed to converge (status=1):\n",
      "STOP: TOTAL NO. of ITERATIONS REACHED LIMIT.\n",
      "\n",
      "Increase the number of iterations (max_iter) or scale the data as shown in:\n",
      "    https://scikit-learn.org/stable/modules/preprocessing.html\n",
      "Please also refer to the documentation for alternative solver options:\n",
      "    https://scikit-learn.org/stable/modules/linear_model.html#logistic-regression\n",
      "  n_iter_i = _check_optimize_result(\n",
      "C:\\Users\\Dimitris\\anaconda3\\lib\\site-packages\\sklearn\\linear_model\\_logistic.py:763: ConvergenceWarning: lbfgs failed to converge (status=1):\n",
      "STOP: TOTAL NO. of ITERATIONS REACHED LIMIT.\n",
      "\n",
      "Increase the number of iterations (max_iter) or scale the data as shown in:\n",
      "    https://scikit-learn.org/stable/modules/preprocessing.html\n",
      "Please also refer to the documentation for alternative solver options:\n",
      "    https://scikit-learn.org/stable/modules/linear_model.html#logistic-regression\n",
      "  n_iter_i = _check_optimize_result(\n",
      "C:\\Users\\Dimitris\\anaconda3\\lib\\site-packages\\sklearn\\linear_model\\_logistic.py:763: ConvergenceWarning: lbfgs failed to converge (status=1):\n",
      "STOP: TOTAL NO. of ITERATIONS REACHED LIMIT.\n",
      "\n",
      "Increase the number of iterations (max_iter) or scale the data as shown in:\n",
      "    https://scikit-learn.org/stable/modules/preprocessing.html\n",
      "Please also refer to the documentation for alternative solver options:\n",
      "    https://scikit-learn.org/stable/modules/linear_model.html#logistic-regression\n",
      "  n_iter_i = _check_optimize_result(\n"
     ]
    },
    {
     "output_type": "stream",
     "name": "stdout",
     "text": [
      "Logistic Regression\n",
      "****Results****\n",
      "train accuracy score 0.7049082244108422\n",
      "test accuracy score  0.6892057026476578\n",
      "--- 1.9470200538635254 seconds ---\n",
      "==============================\n"
     ]
    },
    {
     "output_type": "stream",
     "name": "stderr",
     "text": [
      "C:\\Users\\Dimitris\\anaconda3\\lib\\site-packages\\sklearn\\linear_model\\_logistic.py:763: ConvergenceWarning: lbfgs failed to converge (status=1):\n",
      "STOP: TOTAL NO. of ITERATIONS REACHED LIMIT.\n",
      "\n",
      "Increase the number of iterations (max_iter) or scale the data as shown in:\n",
      "    https://scikit-learn.org/stable/modules/preprocessing.html\n",
      "Please also refer to the documentation for alternative solver options:\n",
      "    https://scikit-learn.org/stable/modules/linear_model.html#logistic-regression\n",
      "  n_iter_i = _check_optimize_result(\n"
     ]
    },
    {
     "output_type": "display_data",
     "data": {
      "text/plain": [
       "<Figure size 432x288 with 1 Axes>"
      ],
      "image/png": "[encoded data removed]"
     },
     "metadata": {
      "needs_background": "light"
     }
    }
   ],
   "metadata": {}
  },
  {
   "cell_type": "code",
   "execution_count": 13,
   "source": [
    "data = np.concatenate((antioxidant_array, antioxidant_decoys_array))  # antioxidant vs antioxidant_decoys\r\n",
    "print(data.shape)\r\n",
    "real_labels = antioxidant_labels + antioxidant_decoys_labels"
   ],
   "outputs": [
    {
     "output_type": "stream",
     "name": "stdout",
     "text": [
      "(1597, 277)\n"
     ]
    }
   ],
   "metadata": {}
  },
  {
   "cell_type": "code",
   "execution_count": 34,
   "source": [
    "neural_networks_accuracy(data,real_labels)"
   ],
   "outputs": [
    {
     "output_type": "stream",
     "name": "stdout",
     "text": [
      "==============================\n",
      "Gradient Boosting\n",
      "****Results****\n",
      "train accuracy score 0.8979166666666668\n",
      "test accuracy score  0.89375\n",
      "--- 35.16112923622131 seconds ---\n",
      "==============================\n",
      "Nearest Neighbors\n",
      "****Results****\n",
      "train accuracy score 0.7582689832689833\n",
      "test accuracy score  0.7833333333333333\n",
      "--- 0.1138308048248291 seconds ---\n",
      "==============================\n",
      "RBF SVM\n",
      "****Results****\n",
      "train accuracy score 0.6947232947232946\n",
      "test accuracy score  0.725\n",
      "--- 1.0940935611724854 seconds ---\n",
      "==============================\n",
      "Decision Tree\n",
      "****Results****\n",
      "train accuracy score 0.8486486486486486\n",
      "test accuracy score  0.86875\n",
      "--- 1.0382299423217773 seconds ---\n",
      "==============================\n",
      "AdaBoost\n",
      "****Results****\n",
      "train accuracy score 0.8469192406692407\n",
      "test accuracy score  0.875\n",
      "--- 7.981029987335205 seconds ---\n",
      "==============================\n",
      "Random Forest\n",
      "****Results****\n",
      "train accuracy score 0.8934443371943372\n",
      "test accuracy score  0.9104166666666667\n",
      "--- 5.0908753871917725 seconds ---\n",
      "==============================\n",
      "MLP\n",
      "****Results****\n",
      "train accuracy score 0.5935810810810811\n",
      "test accuracy score  0.7875\n",
      "--- 3.8266074657440186 seconds ---\n",
      "==============================\n",
      "Naive Bayes\n",
      "****Results****\n",
      "train accuracy score 0.5496862934362936\n",
      "test accuracy score  0.55625\n",
      "--- 0.06869173049926758 seconds ---\n",
      "==============================\n"
     ]
    },
    {
     "output_type": "stream",
     "name": "stderr",
     "text": [
      "C:\\Users\\Dimitris\\anaconda3\\lib\\site-packages\\sklearn\\discriminant_analysis.py:808: UserWarning: Variables are collinear\n",
      "  warnings.warn(\"Variables are collinear\")\n",
      "C:\\Users\\Dimitris\\anaconda3\\lib\\site-packages\\sklearn\\discriminant_analysis.py:808: UserWarning: Variables are collinear\n",
      "  warnings.warn(\"Variables are collinear\")\n",
      "C:\\Users\\Dimitris\\anaconda3\\lib\\site-packages\\sklearn\\discriminant_analysis.py:808: UserWarning: Variables are collinear\n",
      "  warnings.warn(\"Variables are collinear\")\n",
      "C:\\Users\\Dimitris\\anaconda3\\lib\\site-packages\\sklearn\\discriminant_analysis.py:808: UserWarning: Variables are collinear\n",
      "  warnings.warn(\"Variables are collinear\")\n",
      "C:\\Users\\Dimitris\\anaconda3\\lib\\site-packages\\sklearn\\discriminant_analysis.py:808: UserWarning: Variables are collinear\n",
      "  warnings.warn(\"Variables are collinear\")\n",
      "C:\\Users\\Dimitris\\anaconda3\\lib\\site-packages\\sklearn\\discriminant_analysis.py:808: UserWarning: Variables are collinear\n",
      "  warnings.warn(\"Variables are collinear\")\n",
      "C:\\Users\\Dimitris\\anaconda3\\lib\\site-packages\\sklearn\\discriminant_analysis.py:808: UserWarning: Variables are collinear\n",
      "  warnings.warn(\"Variables are collinear\")\n",
      "C:\\Users\\Dimitris\\anaconda3\\lib\\site-packages\\sklearn\\discriminant_analysis.py:808: UserWarning: Variables are collinear\n",
      "  warnings.warn(\"Variables are collinear\")\n",
      "C:\\Users\\Dimitris\\anaconda3\\lib\\site-packages\\sklearn\\discriminant_analysis.py:808: UserWarning: Variables are collinear\n",
      "  warnings.warn(\"Variables are collinear\")\n",
      "C:\\Users\\Dimitris\\anaconda3\\lib\\site-packages\\sklearn\\discriminant_analysis.py:808: UserWarning: Variables are collinear\n",
      "  warnings.warn(\"Variables are collinear\")\n"
     ]
    },
    {
     "output_type": "stream",
     "name": "stdout",
     "text": [
      "QDA\n",
      "****Results****\n",
      "train accuracy score 0.7618243243243243\n",
      "test accuracy score  0.8104166666666667\n",
      "--- 1.416750431060791 seconds ---\n",
      "==============================\n"
     ]
    },
    {
     "output_type": "stream",
     "name": "stderr",
     "text": [
      "C:\\Users\\Dimitris\\anaconda3\\lib\\site-packages\\sklearn\\discriminant_analysis.py:808: UserWarning: Variables are collinear\n",
      "  warnings.warn(\"Variables are collinear\")\n",
      "C:\\Users\\Dimitris\\anaconda3\\lib\\site-packages\\sklearn\\linear_model\\_logistic.py:763: ConvergenceWarning: lbfgs failed to converge (status=1):\n",
      "STOP: TOTAL NO. of ITERATIONS REACHED LIMIT.\n",
      "\n",
      "Increase the number of iterations (max_iter) or scale the data as shown in:\n",
      "    https://scikit-learn.org/stable/modules/preprocessing.html\n",
      "Please also refer to the documentation for alternative solver options:\n",
      "    https://scikit-learn.org/stable/modules/linear_model.html#logistic-regression\n",
      "  n_iter_i = _check_optimize_result(\n",
      "C:\\Users\\Dimitris\\anaconda3\\lib\\site-packages\\sklearn\\linear_model\\_logistic.py:763: ConvergenceWarning: lbfgs failed to converge (status=1):\n",
      "STOP: TOTAL NO. of ITERATIONS REACHED LIMIT.\n",
      "\n",
      "Increase the number of iterations (max_iter) or scale the data as shown in:\n",
      "    https://scikit-learn.org/stable/modules/preprocessing.html\n",
      "Please also refer to the documentation for alternative solver options:\n",
      "    https://scikit-learn.org/stable/modules/linear_model.html#logistic-regression\n",
      "  n_iter_i = _check_optimize_result(\n",
      "C:\\Users\\Dimitris\\anaconda3\\lib\\site-packages\\sklearn\\linear_model\\_logistic.py:763: ConvergenceWarning: lbfgs failed to converge (status=1):\n",
      "STOP: TOTAL NO. of ITERATIONS REACHED LIMIT.\n",
      "\n",
      "Increase the number of iterations (max_iter) or scale the data as shown in:\n",
      "    https://scikit-learn.org/stable/modules/preprocessing.html\n",
      "Please also refer to the documentation for alternative solver options:\n",
      "    https://scikit-learn.org/stable/modules/linear_model.html#logistic-regression\n",
      "  n_iter_i = _check_optimize_result(\n",
      "C:\\Users\\Dimitris\\anaconda3\\lib\\site-packages\\sklearn\\linear_model\\_logistic.py:763: ConvergenceWarning: lbfgs failed to converge (status=1):\n",
      "STOP: TOTAL NO. of ITERATIONS REACHED LIMIT.\n",
      "\n",
      "Increase the number of iterations (max_iter) or scale the data as shown in:\n",
      "    https://scikit-learn.org/stable/modules/preprocessing.html\n",
      "Please also refer to the documentation for alternative solver options:\n",
      "    https://scikit-learn.org/stable/modules/linear_model.html#logistic-regression\n",
      "  n_iter_i = _check_optimize_result(\n",
      "C:\\Users\\Dimitris\\anaconda3\\lib\\site-packages\\sklearn\\linear_model\\_logistic.py:763: ConvergenceWarning: lbfgs failed to converge (status=1):\n",
      "STOP: TOTAL NO. of ITERATIONS REACHED LIMIT.\n",
      "\n",
      "Increase the number of iterations (max_iter) or scale the data as shown in:\n",
      "    https://scikit-learn.org/stable/modules/preprocessing.html\n",
      "Please also refer to the documentation for alternative solver options:\n",
      "    https://scikit-learn.org/stable/modules/linear_model.html#logistic-regression\n",
      "  n_iter_i = _check_optimize_result(\n",
      "C:\\Users\\Dimitris\\anaconda3\\lib\\site-packages\\sklearn\\linear_model\\_logistic.py:763: ConvergenceWarning: lbfgs failed to converge (status=1):\n",
      "STOP: TOTAL NO. of ITERATIONS REACHED LIMIT.\n",
      "\n",
      "Increase the number of iterations (max_iter) or scale the data as shown in:\n",
      "    https://scikit-learn.org/stable/modules/preprocessing.html\n",
      "Please also refer to the documentation for alternative solver options:\n",
      "    https://scikit-learn.org/stable/modules/linear_model.html#logistic-regression\n",
      "  n_iter_i = _check_optimize_result(\n",
      "C:\\Users\\Dimitris\\anaconda3\\lib\\site-packages\\sklearn\\linear_model\\_logistic.py:763: ConvergenceWarning: lbfgs failed to converge (status=1):\n",
      "STOP: TOTAL NO. of ITERATIONS REACHED LIMIT.\n",
      "\n",
      "Increase the number of iterations (max_iter) or scale the data as shown in:\n",
      "    https://scikit-learn.org/stable/modules/preprocessing.html\n",
      "Please also refer to the documentation for alternative solver options:\n",
      "    https://scikit-learn.org/stable/modules/linear_model.html#logistic-regression\n",
      "  n_iter_i = _check_optimize_result(\n",
      "C:\\Users\\Dimitris\\anaconda3\\lib\\site-packages\\sklearn\\linear_model\\_logistic.py:763: ConvergenceWarning: lbfgs failed to converge (status=1):\n",
      "STOP: TOTAL NO. of ITERATIONS REACHED LIMIT.\n",
      "\n",
      "Increase the number of iterations (max_iter) or scale the data as shown in:\n",
      "    https://scikit-learn.org/stable/modules/preprocessing.html\n",
      "Please also refer to the documentation for alternative solver options:\n",
      "    https://scikit-learn.org/stable/modules/linear_model.html#logistic-regression\n",
      "  n_iter_i = _check_optimize_result(\n",
      "C:\\Users\\Dimitris\\anaconda3\\lib\\site-packages\\sklearn\\linear_model\\_logistic.py:763: ConvergenceWarning: lbfgs failed to converge (status=1):\n",
      "STOP: TOTAL NO. of ITERATIONS REACHED LIMIT.\n",
      "\n",
      "Increase the number of iterations (max_iter) or scale the data as shown in:\n",
      "    https://scikit-learn.org/stable/modules/preprocessing.html\n",
      "Please also refer to the documentation for alternative solver options:\n",
      "    https://scikit-learn.org/stable/modules/linear_model.html#logistic-regression\n",
      "  n_iter_i = _check_optimize_result(\n",
      "C:\\Users\\Dimitris\\anaconda3\\lib\\site-packages\\sklearn\\linear_model\\_logistic.py:763: ConvergenceWarning: lbfgs failed to converge (status=1):\n",
      "STOP: TOTAL NO. of ITERATIONS REACHED LIMIT.\n",
      "\n",
      "Increase the number of iterations (max_iter) or scale the data as shown in:\n",
      "    https://scikit-learn.org/stable/modules/preprocessing.html\n",
      "Please also refer to the documentation for alternative solver options:\n",
      "    https://scikit-learn.org/stable/modules/linear_model.html#logistic-regression\n",
      "  n_iter_i = _check_optimize_result(\n"
     ]
    },
    {
     "output_type": "stream",
     "name": "stdout",
     "text": [
      "Logistic Regression\n",
      "****Results****\n",
      "train accuracy score 0.7438867438867438\n",
      "test accuracy score  0.78125\n",
      "--- 0.5636012554168701 seconds ---\n",
      "==============================\n"
     ]
    },
    {
     "output_type": "stream",
     "name": "stderr",
     "text": [
      "C:\\Users\\Dimitris\\anaconda3\\lib\\site-packages\\sklearn\\linear_model\\_logistic.py:763: ConvergenceWarning: lbfgs failed to converge (status=1):\n",
      "STOP: TOTAL NO. of ITERATIONS REACHED LIMIT.\n",
      "\n",
      "Increase the number of iterations (max_iter) or scale the data as shown in:\n",
      "    https://scikit-learn.org/stable/modules/preprocessing.html\n",
      "Please also refer to the documentation for alternative solver options:\n",
      "    https://scikit-learn.org/stable/modules/linear_model.html#logistic-regression\n",
      "  n_iter_i = _check_optimize_result(\n"
     ]
    },
    {
     "output_type": "display_data",
     "data": {
      "text/plain": [
       "<Figure size 432x288 with 1 Axes>"
      ],
      "image/png": "[encoded data removed]"
     },
     "metadata": {
      "needs_background": "light"
     }
    }
   ],
   "metadata": {}
  },
  {
   "cell_type": "code",
   "execution_count": 65,
   "source": [
    "data = np.concatenate((lox_array, antioxidant_array, lox_decoy_array))   # lox vs antioxidant vs lox_decoys\r\n",
    "print(data.shape)\r\n",
    "real_labels = lox_labels + antioxidant_labels + lox_decoy_labels"
   ],
   "outputs": [
    {
     "output_type": "stream",
     "name": "stdout",
     "text": [
      "(8651, 277)\n"
     ]
    }
   ],
   "metadata": {}
  },
  {
   "cell_type": "code",
   "execution_count": 66,
   "source": [
    "neural_networks_accuracy(data,real_labels)"
   ],
   "outputs": [
    {
     "output_type": "stream",
     "name": "stdout",
     "text": [
      "==============================\n",
      "Gradient Boosting\n",
      "****Results****\n",
      "train accuracy score 0.9063592722908653\n",
      "test accuracy score  0.9060092449922958\n",
      "--- 665.7536735534668 seconds ---\n",
      "==============================\n",
      "Nearest Neighbors\n",
      "****Results****\n",
      "train accuracy score 0.7895993235687205\n",
      "test accuracy score  0.7862095531587057\n",
      "--- 1.5376060009002686 seconds ---\n",
      "==============================\n",
      "RBF SVM\n",
      "****Results****\n",
      "train accuracy score 0.6092466519379212\n",
      "test accuracy score  0.5947611710323575\n",
      "--- 70.72310733795166 seconds ---\n",
      "==============================\n",
      "Decision Tree\n",
      "****Results****\n",
      "train accuracy score 0.9218784605733299\n",
      "test accuracy score  0.9295069337442219\n",
      "--- 9.738977432250977 seconds ---\n",
      "==============================\n",
      "AdaBoost\n",
      "****Results****\n",
      "train accuracy score 0.7222180399858168\n",
      "test accuracy score  0.7299691833590138\n",
      "--- 46.98925590515137 seconds ---\n",
      "==============================\n",
      "Random Forest\n",
      "****Results****\n",
      "train accuracy score 0.9489643509805527\n",
      "test accuracy score  0.9572419106317411\n",
      "--- 33.16331672668457 seconds ---\n",
      "==============================\n",
      "MLP\n",
      "****Results****\n",
      "train accuracy score 0.6207885333987945\n",
      "test accuracy score  0.7384437596302003\n",
      "--- 21.601013898849487 seconds ---\n",
      "==============================\n",
      "Naive Bayes\n",
      "****Results****\n",
      "train accuracy score 0.6257728500122739\n",
      "test accuracy score  0.6001540832049307\n",
      "--- 0.3488626480102539 seconds ---\n",
      "==============================\n"
     ]
    },
    {
     "output_type": "stream",
     "name": "stderr",
     "text": [
      "C:\\Users\\Dimitris\\anaconda3\\lib\\site-packages\\sklearn\\discriminant_analysis.py:808: UserWarning: Variables are collinear\n",
      "  warnings.warn(\"Variables are collinear\")\n",
      "C:\\Users\\Dimitris\\anaconda3\\lib\\site-packages\\sklearn\\discriminant_analysis.py:808: UserWarning: Variables are collinear\n",
      "  warnings.warn(\"Variables are collinear\")\n",
      "C:\\Users\\Dimitris\\anaconda3\\lib\\site-packages\\sklearn\\discriminant_analysis.py:808: UserWarning: Variables are collinear\n",
      "  warnings.warn(\"Variables are collinear\")\n",
      "C:\\Users\\Dimitris\\anaconda3\\lib\\site-packages\\sklearn\\discriminant_analysis.py:808: UserWarning: Variables are collinear\n",
      "  warnings.warn(\"Variables are collinear\")\n",
      "C:\\Users\\Dimitris\\anaconda3\\lib\\site-packages\\sklearn\\discriminant_analysis.py:808: UserWarning: Variables are collinear\n",
      "  warnings.warn(\"Variables are collinear\")\n",
      "C:\\Users\\Dimitris\\anaconda3\\lib\\site-packages\\sklearn\\discriminant_analysis.py:808: UserWarning: Variables are collinear\n",
      "  warnings.warn(\"Variables are collinear\")\n",
      "C:\\Users\\Dimitris\\anaconda3\\lib\\site-packages\\sklearn\\discriminant_analysis.py:808: UserWarning: Variables are collinear\n",
      "  warnings.warn(\"Variables are collinear\")\n",
      "C:\\Users\\Dimitris\\anaconda3\\lib\\site-packages\\sklearn\\discriminant_analysis.py:808: UserWarning: Variables are collinear\n",
      "  warnings.warn(\"Variables are collinear\")\n",
      "C:\\Users\\Dimitris\\anaconda3\\lib\\site-packages\\sklearn\\discriminant_analysis.py:808: UserWarning: Variables are collinear\n",
      "  warnings.warn(\"Variables are collinear\")\n",
      "C:\\Users\\Dimitris\\anaconda3\\lib\\site-packages\\sklearn\\discriminant_analysis.py:808: UserWarning: Variables are collinear\n",
      "  warnings.warn(\"Variables are collinear\")\n"
     ]
    },
    {
     "output_type": "stream",
     "name": "stdout",
     "text": [
      "QDA\n",
      "****Results****\n",
      "train accuracy score 0.8346881051741537\n"
     ]
    },
    {
     "output_type": "stream",
     "name": "stderr",
     "text": [
      "C:\\Users\\Dimitris\\anaconda3\\lib\\site-packages\\sklearn\\discriminant_analysis.py:808: UserWarning: Variables are collinear\n",
      "  warnings.warn(\"Variables are collinear\")\n"
     ]
    },
    {
     "output_type": "stream",
     "name": "stdout",
     "text": [
      "test accuracy score  0.8112480739599384\n",
      "--- 3.1588892936706543 seconds ---\n",
      "==============================\n"
     ]
    },
    {
     "output_type": "stream",
     "name": "stderr",
     "text": [
      "C:\\Users\\Dimitris\\anaconda3\\lib\\site-packages\\sklearn\\linear_model\\_logistic.py:763: ConvergenceWarning: lbfgs failed to converge (status=1):\n",
      "STOP: TOTAL NO. of ITERATIONS REACHED LIMIT.\n",
      "\n",
      "Increase the number of iterations (max_iter) or scale the data as shown in:\n",
      "    https://scikit-learn.org/stable/modules/preprocessing.html\n",
      "Please also refer to the documentation for alternative solver options:\n",
      "    https://scikit-learn.org/stable/modules/linear_model.html#logistic-regression\n",
      "  n_iter_i = _check_optimize_result(\n",
      "C:\\Users\\Dimitris\\anaconda3\\lib\\site-packages\\sklearn\\linear_model\\_logistic.py:763: ConvergenceWarning: lbfgs failed to converge (status=1):\n",
      "STOP: TOTAL NO. of ITERATIONS REACHED LIMIT.\n",
      "\n",
      "Increase the number of iterations (max_iter) or scale the data as shown in:\n",
      "    https://scikit-learn.org/stable/modules/preprocessing.html\n",
      "Please also refer to the documentation for alternative solver options:\n",
      "    https://scikit-learn.org/stable/modules/linear_model.html#logistic-regression\n",
      "  n_iter_i = _check_optimize_result(\n",
      "C:\\Users\\Dimitris\\anaconda3\\lib\\site-packages\\sklearn\\linear_model\\_logistic.py:763: ConvergenceWarning: lbfgs failed to converge (status=1):\n",
      "STOP: TOTAL NO. of ITERATIONS REACHED LIMIT.\n",
      "\n",
      "Increase the number of iterations (max_iter) or scale the data as shown in:\n",
      "    https://scikit-learn.org/stable/modules/preprocessing.html\n",
      "Please also refer to the documentation for alternative solver options:\n",
      "    https://scikit-learn.org/stable/modules/linear_model.html#logistic-regression\n",
      "  n_iter_i = _check_optimize_result(\n",
      "C:\\Users\\Dimitris\\anaconda3\\lib\\site-packages\\sklearn\\linear_model\\_logistic.py:763: ConvergenceWarning: lbfgs failed to converge (status=1):\n",
      "STOP: TOTAL NO. of ITERATIONS REACHED LIMIT.\n",
      "\n",
      "Increase the number of iterations (max_iter) or scale the data as shown in:\n",
      "    https://scikit-learn.org/stable/modules/preprocessing.html\n",
      "Please also refer to the documentation for alternative solver options:\n",
      "    https://scikit-learn.org/stable/modules/linear_model.html#logistic-regression\n",
      "  n_iter_i = _check_optimize_result(\n",
      "C:\\Users\\Dimitris\\anaconda3\\lib\\site-packages\\sklearn\\linear_model\\_logistic.py:763: ConvergenceWarning: lbfgs failed to converge (status=1):\n",
      "STOP: TOTAL NO. of ITERATIONS REACHED LIMIT.\n",
      "\n",
      "Increase the number of iterations (max_iter) or scale the data as shown in:\n",
      "    https://scikit-learn.org/stable/modules/preprocessing.html\n",
      "Please also refer to the documentation for alternative solver options:\n",
      "    https://scikit-learn.org/stable/modules/linear_model.html#logistic-regression\n",
      "  n_iter_i = _check_optimize_result(\n",
      "C:\\Users\\Dimitris\\anaconda3\\lib\\site-packages\\sklearn\\linear_model\\_logistic.py:763: ConvergenceWarning: lbfgs failed to converge (status=1):\n",
      "STOP: TOTAL NO. of ITERATIONS REACHED LIMIT.\n",
      "\n",
      "Increase the number of iterations (max_iter) or scale the data as shown in:\n",
      "    https://scikit-learn.org/stable/modules/preprocessing.html\n",
      "Please also refer to the documentation for alternative solver options:\n",
      "    https://scikit-learn.org/stable/modules/linear_model.html#logistic-regression\n",
      "  n_iter_i = _check_optimize_result(\n",
      "C:\\Users\\Dimitris\\anaconda3\\lib\\site-packages\\sklearn\\linear_model\\_logistic.py:763: ConvergenceWarning: lbfgs failed to converge (status=1):\n",
      "STOP: TOTAL NO. of ITERATIONS REACHED LIMIT.\n",
      "\n",
      "Increase the number of iterations (max_iter) or scale the data as shown in:\n",
      "    https://scikit-learn.org/stable/modules/preprocessing.html\n",
      "Please also refer to the documentation for alternative solver options:\n",
      "    https://scikit-learn.org/stable/modules/linear_model.html#logistic-regression\n",
      "  n_iter_i = _check_optimize_result(\n",
      "C:\\Users\\Dimitris\\anaconda3\\lib\\site-packages\\sklearn\\linear_model\\_logistic.py:763: ConvergenceWarning: lbfgs failed to converge (status=1):\n",
      "STOP: TOTAL NO. of ITERATIONS REACHED LIMIT.\n",
      "\n",
      "Increase the number of iterations (max_iter) or scale the data as shown in:\n",
      "    https://scikit-learn.org/stable/modules/preprocessing.html\n",
      "Please also refer to the documentation for alternative solver options:\n",
      "    https://scikit-learn.org/stable/modules/linear_model.html#logistic-regression\n",
      "  n_iter_i = _check_optimize_result(\n",
      "C:\\Users\\Dimitris\\anaconda3\\lib\\site-packages\\sklearn\\linear_model\\_logistic.py:763: ConvergenceWarning: lbfgs failed to converge (status=1):\n",
      "STOP: TOTAL NO. of ITERATIONS REACHED LIMIT.\n",
      "\n",
      "Increase the number of iterations (max_iter) or scale the data as shown in:\n",
      "    https://scikit-learn.org/stable/modules/preprocessing.html\n",
      "Please also refer to the documentation for alternative solver options:\n",
      "    https://scikit-learn.org/stable/modules/linear_model.html#logistic-regression\n",
      "  n_iter_i = _check_optimize_result(\n",
      "C:\\Users\\Dimitris\\anaconda3\\lib\\site-packages\\sklearn\\linear_model\\_logistic.py:763: ConvergenceWarning: lbfgs failed to converge (status=1):\n",
      "STOP: TOTAL NO. of ITERATIONS REACHED LIMIT.\n",
      "\n",
      "Increase the number of iterations (max_iter) or scale the data as shown in:\n",
      "    https://scikit-learn.org/stable/modules/preprocessing.html\n",
      "Please also refer to the documentation for alternative solver options:\n",
      "    https://scikit-learn.org/stable/modules/linear_model.html#logistic-regression\n",
      "  n_iter_i = _check_optimize_result(\n"
     ]
    },
    {
     "output_type": "stream",
     "name": "stdout",
     "text": [
      "Logistic Regression\n",
      "****Results****\n",
      "train accuracy score 0.6450912363963669\n"
     ]
    },
    {
     "output_type": "stream",
     "name": "stderr",
     "text": [
      "C:\\Users\\Dimitris\\anaconda3\\lib\\site-packages\\sklearn\\linear_model\\_logistic.py:763: ConvergenceWarning: lbfgs failed to converge (status=1):\n",
      "STOP: TOTAL NO. of ITERATIONS REACHED LIMIT.\n",
      "\n",
      "Increase the number of iterations (max_iter) or scale the data as shown in:\n",
      "    https://scikit-learn.org/stable/modules/preprocessing.html\n",
      "Please also refer to the documentation for alternative solver options:\n",
      "    https://scikit-learn.org/stable/modules/linear_model.html#logistic-regression\n",
      "  n_iter_i = _check_optimize_result(\n"
     ]
    },
    {
     "output_type": "stream",
     "name": "stdout",
     "text": [
      "test accuracy score  0.6286594761171033\n",
      "--- 4.7388527393341064 seconds ---\n",
      "==============================\n"
     ]
    },
    {
     "output_type": "display_data",
     "data": {
      "text/plain": [
       "<Figure size 432x288 with 1 Axes>"
      ],
      "image/png": "[encoded data removed]"
     },
     "metadata": {}
    }
   ],
   "metadata": {}
  },
  {
   "cell_type": "code",
   "execution_count": 71,
   "source": [
    "data = np.concatenate((lox_array, antioxidant_array, antioxidant_decoys_array))   # lox vs antioxidant vs antioxidant_decoys\r\n",
    "print(data.shape)\r\n",
    "real_labels = lox_labels + antioxidant_labels + antioxidant_decoys_labels"
   ],
   "outputs": [
    {
     "output_type": "stream",
     "name": "stdout",
     "text": [
      "(5980, 277)\n"
     ]
    }
   ],
   "metadata": {}
  },
  {
   "cell_type": "code",
   "execution_count": 72,
   "source": [
    "neural_networks_accuracy(data,real_labels)"
   ],
   "outputs": [
    {
     "output_type": "stream",
     "name": "stdout",
     "text": [
      "==============================\n",
      "Gradient Boosting\n",
      "****Results****\n",
      "train accuracy score 0.9374124995717761\n",
      "test accuracy score  0.9453734671125975\n",
      "--- 420.55153036117554 seconds ---\n",
      "==============================\n",
      "Nearest Neighbors\n",
      "****Results****\n",
      "train accuracy score 0.825613502186797\n",
      "test accuracy score  0.8405797101449275\n",
      "--- 0.8397557735443115 seconds ---\n",
      "==============================\n",
      "RBF SVM\n",
      "****Results****\n",
      "train accuracy score 0.7310091240250768\n",
      "test accuracy score  0.7486064659977704\n",
      "--- 15.6683509349823 seconds ---\n",
      "==============================\n",
      "Decision Tree\n",
      "****Results****\n",
      "train accuracy score 0.9187750511013919\n",
      "test accuracy score  0.9264214046822743\n",
      "--- 6.435953617095947 seconds ---\n",
      "==============================\n",
      "AdaBoost\n",
      "****Results****\n",
      "train accuracy score 0.8385087528976488\n",
      "test accuracy score  0.8299888517279822\n",
      "--- 30.51294732093811 seconds ---\n",
      "==============================\n",
      "Random Forest\n",
      "****Results****\n",
      "train accuracy score 0.9472045540190246\n",
      "test accuracy score  0.9559643255295429\n",
      "--- 22.372178077697754 seconds ---\n",
      "==============================\n",
      "MLP\n",
      "****Results****\n",
      "train accuracy score 0.7644328601934429\n",
      "test accuracy score  0.7993311036789298\n",
      "--- 16.283928394317627 seconds ---\n",
      "==============================\n",
      "Naive Bayes\n",
      "****Results****\n",
      "train accuracy score 0.5886349362231789\n",
      "test accuracy score  0.5774804905239688\n",
      "--- 0.21919989585876465 seconds ---\n",
      "==============================\n"
     ]
    },
    {
     "output_type": "stream",
     "name": "stderr",
     "text": [
      "C:\\Users\\Dimitris\\anaconda3\\lib\\site-packages\\sklearn\\discriminant_analysis.py:808: UserWarning: Variables are collinear\n",
      "  warnings.warn(\"Variables are collinear\")\n",
      "C:\\Users\\Dimitris\\anaconda3\\lib\\site-packages\\sklearn\\discriminant_analysis.py:808: UserWarning: Variables are collinear\n",
      "  warnings.warn(\"Variables are collinear\")\n",
      "C:\\Users\\Dimitris\\anaconda3\\lib\\site-packages\\sklearn\\discriminant_analysis.py:808: UserWarning: Variables are collinear\n",
      "  warnings.warn(\"Variables are collinear\")\n",
      "C:\\Users\\Dimitris\\anaconda3\\lib\\site-packages\\sklearn\\discriminant_analysis.py:808: UserWarning: Variables are collinear\n",
      "  warnings.warn(\"Variables are collinear\")\n",
      "C:\\Users\\Dimitris\\anaconda3\\lib\\site-packages\\sklearn\\discriminant_analysis.py:808: UserWarning: Variables are collinear\n",
      "  warnings.warn(\"Variables are collinear\")\n",
      "C:\\Users\\Dimitris\\anaconda3\\lib\\site-packages\\sklearn\\discriminant_analysis.py:808: UserWarning: Variables are collinear\n",
      "  warnings.warn(\"Variables are collinear\")\n",
      "C:\\Users\\Dimitris\\anaconda3\\lib\\site-packages\\sklearn\\discriminant_analysis.py:808: UserWarning: Variables are collinear\n",
      "  warnings.warn(\"Variables are collinear\")\n",
      "C:\\Users\\Dimitris\\anaconda3\\lib\\site-packages\\sklearn\\discriminant_analysis.py:808: UserWarning: Variables are collinear\n",
      "  warnings.warn(\"Variables are collinear\")\n",
      "C:\\Users\\Dimitris\\anaconda3\\lib\\site-packages\\sklearn\\discriminant_analysis.py:808: UserWarning: Variables are collinear\n",
      "  warnings.warn(\"Variables are collinear\")\n",
      "C:\\Users\\Dimitris\\anaconda3\\lib\\site-packages\\sklearn\\discriminant_analysis.py:808: UserWarning: Variables are collinear\n",
      "  warnings.warn(\"Variables are collinear\")\n"
     ]
    },
    {
     "output_type": "stream",
     "name": "stdout",
     "text": [
      "QDA\n",
      "****Results****\n",
      "train accuracy score 0.8882061413024861\n"
     ]
    },
    {
     "output_type": "stream",
     "name": "stderr",
     "text": [
      "C:\\Users\\Dimitris\\anaconda3\\lib\\site-packages\\sklearn\\discriminant_analysis.py:808: UserWarning: Variables are collinear\n",
      "  warnings.warn(\"Variables are collinear\")\n"
     ]
    },
    {
     "output_type": "stream",
     "name": "stdout",
     "text": [
      "test accuracy score  0.9280936454849499\n",
      "--- 2.7746636867523193 seconds ---\n",
      "==============================\n"
     ]
    },
    {
     "output_type": "stream",
     "name": "stderr",
     "text": [
      "C:\\Users\\Dimitris\\anaconda3\\lib\\site-packages\\sklearn\\linear_model\\_logistic.py:763: ConvergenceWarning: lbfgs failed to converge (status=1):\n",
      "STOP: TOTAL NO. of ITERATIONS REACHED LIMIT.\n",
      "\n",
      "Increase the number of iterations (max_iter) or scale the data as shown in:\n",
      "    https://scikit-learn.org/stable/modules/preprocessing.html\n",
      "Please also refer to the documentation for alternative solver options:\n",
      "    https://scikit-learn.org/stable/modules/linear_model.html#logistic-regression\n",
      "  n_iter_i = _check_optimize_result(\n",
      "C:\\Users\\Dimitris\\anaconda3\\lib\\site-packages\\sklearn\\linear_model\\_logistic.py:763: ConvergenceWarning: lbfgs failed to converge (status=1):\n",
      "STOP: TOTAL NO. of ITERATIONS REACHED LIMIT.\n",
      "\n",
      "Increase the number of iterations (max_iter) or scale the data as shown in:\n",
      "    https://scikit-learn.org/stable/modules/preprocessing.html\n",
      "Please also refer to the documentation for alternative solver options:\n",
      "    https://scikit-learn.org/stable/modules/linear_model.html#logistic-regression\n",
      "  n_iter_i = _check_optimize_result(\n",
      "C:\\Users\\Dimitris\\anaconda3\\lib\\site-packages\\sklearn\\linear_model\\_logistic.py:763: ConvergenceWarning: lbfgs failed to converge (status=1):\n",
      "STOP: TOTAL NO. of ITERATIONS REACHED LIMIT.\n",
      "\n",
      "Increase the number of iterations (max_iter) or scale the data as shown in:\n",
      "    https://scikit-learn.org/stable/modules/preprocessing.html\n",
      "Please also refer to the documentation for alternative solver options:\n",
      "    https://scikit-learn.org/stable/modules/linear_model.html#logistic-regression\n",
      "  n_iter_i = _check_optimize_result(\n",
      "C:\\Users\\Dimitris\\anaconda3\\lib\\site-packages\\sklearn\\linear_model\\_logistic.py:763: ConvergenceWarning: lbfgs failed to converge (status=1):\n",
      "STOP: TOTAL NO. of ITERATIONS REACHED LIMIT.\n",
      "\n",
      "Increase the number of iterations (max_iter) or scale the data as shown in:\n",
      "    https://scikit-learn.org/stable/modules/preprocessing.html\n",
      "Please also refer to the documentation for alternative solver options:\n",
      "    https://scikit-learn.org/stable/modules/linear_model.html#logistic-regression\n",
      "  n_iter_i = _check_optimize_result(\n",
      "C:\\Users\\Dimitris\\anaconda3\\lib\\site-packages\\sklearn\\linear_model\\_logistic.py:763: ConvergenceWarning: lbfgs failed to converge (status=1):\n",
      "STOP: TOTAL NO. of ITERATIONS REACHED LIMIT.\n",
      "\n",
      "Increase the number of iterations (max_iter) or scale the data as shown in:\n",
      "    https://scikit-learn.org/stable/modules/preprocessing.html\n",
      "Please also refer to the documentation for alternative solver options:\n",
      "    https://scikit-learn.org/stable/modules/linear_model.html#logistic-regression\n",
      "  n_iter_i = _check_optimize_result(\n",
      "C:\\Users\\Dimitris\\anaconda3\\lib\\site-packages\\sklearn\\linear_model\\_logistic.py:763: ConvergenceWarning: lbfgs failed to converge (status=1):\n",
      "STOP: TOTAL NO. of ITERATIONS REACHED LIMIT.\n",
      "\n",
      "Increase the number of iterations (max_iter) or scale the data as shown in:\n",
      "    https://scikit-learn.org/stable/modules/preprocessing.html\n",
      "Please also refer to the documentation for alternative solver options:\n",
      "    https://scikit-learn.org/stable/modules/linear_model.html#logistic-regression\n",
      "  n_iter_i = _check_optimize_result(\n",
      "C:\\Users\\Dimitris\\anaconda3\\lib\\site-packages\\sklearn\\linear_model\\_logistic.py:763: ConvergenceWarning: lbfgs failed to converge (status=1):\n",
      "STOP: TOTAL NO. of ITERATIONS REACHED LIMIT.\n",
      "\n",
      "Increase the number of iterations (max_iter) or scale the data as shown in:\n",
      "    https://scikit-learn.org/stable/modules/preprocessing.html\n",
      "Please also refer to the documentation for alternative solver options:\n",
      "    https://scikit-learn.org/stable/modules/linear_model.html#logistic-regression\n",
      "  n_iter_i = _check_optimize_result(\n",
      "C:\\Users\\Dimitris\\anaconda3\\lib\\site-packages\\sklearn\\linear_model\\_logistic.py:763: ConvergenceWarning: lbfgs failed to converge (status=1):\n",
      "STOP: TOTAL NO. of ITERATIONS REACHED LIMIT.\n",
      "\n",
      "Increase the number of iterations (max_iter) or scale the data as shown in:\n",
      "    https://scikit-learn.org/stable/modules/preprocessing.html\n",
      "Please also refer to the documentation for alternative solver options:\n",
      "    https://scikit-learn.org/stable/modules/linear_model.html#logistic-regression\n",
      "  n_iter_i = _check_optimize_result(\n",
      "C:\\Users\\Dimitris\\anaconda3\\lib\\site-packages\\sklearn\\linear_model\\_logistic.py:763: ConvergenceWarning: lbfgs failed to converge (status=1):\n",
      "STOP: TOTAL NO. of ITERATIONS REACHED LIMIT.\n",
      "\n",
      "Increase the number of iterations (max_iter) or scale the data as shown in:\n",
      "    https://scikit-learn.org/stable/modules/preprocessing.html\n",
      "Please also refer to the documentation for alternative solver options:\n",
      "    https://scikit-learn.org/stable/modules/linear_model.html#logistic-regression\n",
      "  n_iter_i = _check_optimize_result(\n",
      "C:\\Users\\Dimitris\\anaconda3\\lib\\site-packages\\sklearn\\linear_model\\_logistic.py:763: ConvergenceWarning: lbfgs failed to converge (status=1):\n",
      "STOP: TOTAL NO. of ITERATIONS REACHED LIMIT.\n",
      "\n",
      "Increase the number of iterations (max_iter) or scale the data as shown in:\n",
      "    https://scikit-learn.org/stable/modules/preprocessing.html\n",
      "Please also refer to the documentation for alternative solver options:\n",
      "    https://scikit-learn.org/stable/modules/linear_model.html#logistic-regression\n",
      "  n_iter_i = _check_optimize_result(\n"
     ]
    },
    {
     "output_type": "stream",
     "name": "stdout",
     "text": [
      "Logistic Regression\n",
      "****Results****\n",
      "train accuracy score 0.753220815110025\n"
     ]
    },
    {
     "output_type": "stream",
     "name": "stderr",
     "text": [
      "C:\\Users\\Dimitris\\anaconda3\\lib\\site-packages\\sklearn\\linear_model\\_logistic.py:763: ConvergenceWarning: lbfgs failed to converge (status=1):\n",
      "STOP: TOTAL NO. of ITERATIONS REACHED LIMIT.\n",
      "\n",
      "Increase the number of iterations (max_iter) or scale the data as shown in:\n",
      "    https://scikit-learn.org/stable/modules/preprocessing.html\n",
      "Please also refer to the documentation for alternative solver options:\n",
      "    https://scikit-learn.org/stable/modules/linear_model.html#logistic-regression\n",
      "  n_iter_i = _check_optimize_result(\n"
     ]
    },
    {
     "output_type": "stream",
     "name": "stdout",
     "text": [
      "test accuracy score  0.7798216276477146\n",
      "--- 3.427219867706299 seconds ---\n",
      "==============================\n"
     ]
    },
    {
     "output_type": "display_data",
     "data": {
      "text/plain": [
       "<Figure size 432x288 with 1 Axes>"
      ],
      "image/png": "[encoded data removed]"
     },
     "metadata": {}
    }
   ],
   "metadata": {}
  },
  {
   "cell_type": "code",
   "execution_count": 14,
   "source": [
    "all_data = np.concatenate((lox_array, lox_decoy_array, antioxidant_array, antioxidant_decoys_array))  # all the classes\r\n",
    "print(all_data.shape)\r\n",
    "all_labels = lox_labels + lox_decoy_labels + antioxidant_labels + antioxidant_decoys_labels"
   ],
   "outputs": [
    {
     "output_type": "stream",
     "name": "stdout",
     "text": [
      "(9779, 277)\n"
     ]
    }
   ],
   "metadata": {}
  },
  {
   "cell_type": "code",
   "execution_count": 36,
   "source": [
    "neural_networks_accuracy(all_data,all_labels)"
   ],
   "outputs": [
    {
     "output_type": "stream",
     "name": "stdout",
     "text": [
      "==============================\n",
      "Gradient Boosting\n",
      "****Results****\n",
      "train accuracy score 0.8835691723225338\n",
      "test accuracy score  0.8940013633265167\n",
      "--- 1042.2956748008728 seconds ---\n",
      "==============================\n",
      "Nearest Neighbors\n",
      "****Results****\n",
      "train accuracy score 0.72930037990353\n",
      "test accuracy score  0.7525562372188139\n",
      "--- 1.8158159255981445 seconds ---\n",
      "==============================\n",
      "RBF SVM\n",
      "****Results****\n",
      "train accuracy score 0.5395204251504675\n",
      "test accuracy score  0.5252215405589639\n",
      "--- 101.48977971076965 seconds ---\n",
      "==============================\n",
      "Decision Tree\n",
      "****Results****\n",
      "train accuracy score 0.8945229862978614\n",
      "test accuracy score  0.8994546693933198\n",
      "--- 10.323155879974365 seconds ---\n",
      "==============================\n",
      "AdaBoost\n",
      "****Results****\n",
      "train accuracy score 0.6794768856447689\n",
      "test accuracy score  0.707225630538514\n",
      "--- 55.051323652267456 seconds ---\n",
      "==============================\n",
      "Random Forest\n",
      "****Results****\n",
      "train accuracy score 0.9329466000768344\n",
      "test accuracy score  0.9389911383776415\n",
      "--- 40.008179664611816 seconds ---\n",
      "==============================\n",
      "MLP\n",
      "****Results****\n",
      "train accuracy score 0.6327481111537969\n",
      "test accuracy score  0.636332651670075\n",
      "--- 25.22032356262207 seconds ---\n",
      "==============================\n",
      "Naive Bayes\n",
      "****Results****\n",
      "train accuracy score 0.5230174584880694\n",
      "test accuracy score  0.520109066121336\n",
      "--- 0.3979771137237549 seconds ---\n",
      "==============================\n"
     ]
    },
    {
     "output_type": "stream",
     "name": "stderr",
     "text": [
      "C:\\Users\\Dimitris\\anaconda3\\lib\\site-packages\\sklearn\\discriminant_analysis.py:808: UserWarning: Variables are collinear\n",
      "  warnings.warn(\"Variables are collinear\")\n",
      "C:\\Users\\Dimitris\\anaconda3\\lib\\site-packages\\sklearn\\discriminant_analysis.py:808: UserWarning: Variables are collinear\n",
      "  warnings.warn(\"Variables are collinear\")\n",
      "C:\\Users\\Dimitris\\anaconda3\\lib\\site-packages\\sklearn\\discriminant_analysis.py:808: UserWarning: Variables are collinear\n",
      "  warnings.warn(\"Variables are collinear\")\n",
      "C:\\Users\\Dimitris\\anaconda3\\lib\\site-packages\\sklearn\\discriminant_analysis.py:808: UserWarning: Variables are collinear\n",
      "  warnings.warn(\"Variables are collinear\")\n",
      "C:\\Users\\Dimitris\\anaconda3\\lib\\site-packages\\sklearn\\discriminant_analysis.py:808: UserWarning: Variables are collinear\n",
      "  warnings.warn(\"Variables are collinear\")\n",
      "C:\\Users\\Dimitris\\anaconda3\\lib\\site-packages\\sklearn\\discriminant_analysis.py:808: UserWarning: Variables are collinear\n",
      "  warnings.warn(\"Variables are collinear\")\n",
      "C:\\Users\\Dimitris\\anaconda3\\lib\\site-packages\\sklearn\\discriminant_analysis.py:808: UserWarning: Variables are collinear\n",
      "  warnings.warn(\"Variables are collinear\")\n",
      "C:\\Users\\Dimitris\\anaconda3\\lib\\site-packages\\sklearn\\discriminant_analysis.py:808: UserWarning: Variables are collinear\n",
      "  warnings.warn(\"Variables are collinear\")\n",
      "C:\\Users\\Dimitris\\anaconda3\\lib\\site-packages\\sklearn\\discriminant_analysis.py:808: UserWarning: Variables are collinear\n",
      "  warnings.warn(\"Variables are collinear\")\n",
      "C:\\Users\\Dimitris\\anaconda3\\lib\\site-packages\\sklearn\\discriminant_analysis.py:808: UserWarning: Variables are collinear\n",
      "  warnings.warn(\"Variables are collinear\")\n"
     ]
    },
    {
     "output_type": "stream",
     "name": "stdout",
     "text": [
      "QDA\n",
      "****Results****\n",
      "train accuracy score 0.7592436078029625\n"
     ]
    },
    {
     "output_type": "stream",
     "name": "stderr",
     "text": [
      "C:\\Users\\Dimitris\\anaconda3\\lib\\site-packages\\sklearn\\discriminant_analysis.py:808: UserWarning: Variables are collinear\n",
      "  warnings.warn(\"Variables are collinear\")\n"
     ]
    },
    {
     "output_type": "stream",
     "name": "stdout",
     "text": [
      "test accuracy score  0.7774369461486026\n",
      "--- 4.116497993469238 seconds ---\n",
      "==============================\n"
     ]
    },
    {
     "output_type": "stream",
     "name": "stderr",
     "text": [
      "C:\\Users\\Dimitris\\anaconda3\\lib\\site-packages\\sklearn\\linear_model\\_logistic.py:763: ConvergenceWarning: lbfgs failed to converge (status=1):\n",
      "STOP: TOTAL NO. of ITERATIONS REACHED LIMIT.\n",
      "\n",
      "Increase the number of iterations (max_iter) or scale the data as shown in:\n",
      "    https://scikit-learn.org/stable/modules/preprocessing.html\n",
      "Please also refer to the documentation for alternative solver options:\n",
      "    https://scikit-learn.org/stable/modules/linear_model.html#logistic-regression\n",
      "  n_iter_i = _check_optimize_result(\n",
      "C:\\Users\\Dimitris\\anaconda3\\lib\\site-packages\\sklearn\\linear_model\\_logistic.py:763: ConvergenceWarning: lbfgs failed to converge (status=1):\n",
      "STOP: TOTAL NO. of ITERATIONS REACHED LIMIT.\n",
      "\n",
      "Increase the number of iterations (max_iter) or scale the data as shown in:\n",
      "    https://scikit-learn.org/stable/modules/preprocessing.html\n",
      "Please also refer to the documentation for alternative solver options:\n",
      "    https://scikit-learn.org/stable/modules/linear_model.html#logistic-regression\n",
      "  n_iter_i = _check_optimize_result(\n",
      "C:\\Users\\Dimitris\\anaconda3\\lib\\site-packages\\sklearn\\linear_model\\_logistic.py:763: ConvergenceWarning: lbfgs failed to converge (status=1):\n",
      "STOP: TOTAL NO. of ITERATIONS REACHED LIMIT.\n",
      "\n",
      "Increase the number of iterations (max_iter) or scale the data as shown in:\n",
      "    https://scikit-learn.org/stable/modules/preprocessing.html\n",
      "Please also refer to the documentation for alternative solver options:\n",
      "    https://scikit-learn.org/stable/modules/linear_model.html#logistic-regression\n",
      "  n_iter_i = _check_optimize_result(\n",
      "C:\\Users\\Dimitris\\anaconda3\\lib\\site-packages\\sklearn\\linear_model\\_logistic.py:763: ConvergenceWarning: lbfgs failed to converge (status=1):\n",
      "STOP: TOTAL NO. of ITERATIONS REACHED LIMIT.\n",
      "\n",
      "Increase the number of iterations (max_iter) or scale the data as shown in:\n",
      "    https://scikit-learn.org/stable/modules/preprocessing.html\n",
      "Please also refer to the documentation for alternative solver options:\n",
      "    https://scikit-learn.org/stable/modules/linear_model.html#logistic-regression\n",
      "  n_iter_i = _check_optimize_result(\n",
      "C:\\Users\\Dimitris\\anaconda3\\lib\\site-packages\\sklearn\\linear_model\\_logistic.py:763: ConvergenceWarning: lbfgs failed to converge (status=1):\n",
      "STOP: TOTAL NO. of ITERATIONS REACHED LIMIT.\n",
      "\n",
      "Increase the number of iterations (max_iter) or scale the data as shown in:\n",
      "    https://scikit-learn.org/stable/modules/preprocessing.html\n",
      "Please also refer to the documentation for alternative solver options:\n",
      "    https://scikit-learn.org/stable/modules/linear_model.html#logistic-regression\n",
      "  n_iter_i = _check_optimize_result(\n",
      "C:\\Users\\Dimitris\\anaconda3\\lib\\site-packages\\sklearn\\linear_model\\_logistic.py:763: ConvergenceWarning: lbfgs failed to converge (status=1):\n",
      "STOP: TOTAL NO. of ITERATIONS REACHED LIMIT.\n",
      "\n",
      "Increase the number of iterations (max_iter) or scale the data as shown in:\n",
      "    https://scikit-learn.org/stable/modules/preprocessing.html\n",
      "Please also refer to the documentation for alternative solver options:\n",
      "    https://scikit-learn.org/stable/modules/linear_model.html#logistic-regression\n",
      "  n_iter_i = _check_optimize_result(\n",
      "C:\\Users\\Dimitris\\anaconda3\\lib\\site-packages\\sklearn\\linear_model\\_logistic.py:763: ConvergenceWarning: lbfgs failed to converge (status=1):\n",
      "STOP: TOTAL NO. of ITERATIONS REACHED LIMIT.\n",
      "\n",
      "Increase the number of iterations (max_iter) or scale the data as shown in:\n",
      "    https://scikit-learn.org/stable/modules/preprocessing.html\n",
      "Please also refer to the documentation for alternative solver options:\n",
      "    https://scikit-learn.org/stable/modules/linear_model.html#logistic-regression\n",
      "  n_iter_i = _check_optimize_result(\n",
      "C:\\Users\\Dimitris\\anaconda3\\lib\\site-packages\\sklearn\\linear_model\\_logistic.py:763: ConvergenceWarning: lbfgs failed to converge (status=1):\n",
      "STOP: TOTAL NO. of ITERATIONS REACHED LIMIT.\n",
      "\n",
      "Increase the number of iterations (max_iter) or scale the data as shown in:\n",
      "    https://scikit-learn.org/stable/modules/preprocessing.html\n",
      "Please also refer to the documentation for alternative solver options:\n",
      "    https://scikit-learn.org/stable/modules/linear_model.html#logistic-regression\n",
      "  n_iter_i = _check_optimize_result(\n",
      "C:\\Users\\Dimitris\\anaconda3\\lib\\site-packages\\sklearn\\linear_model\\_logistic.py:763: ConvergenceWarning: lbfgs failed to converge (status=1):\n",
      "STOP: TOTAL NO. of ITERATIONS REACHED LIMIT.\n",
      "\n",
      "Increase the number of iterations (max_iter) or scale the data as shown in:\n",
      "    https://scikit-learn.org/stable/modules/preprocessing.html\n",
      "Please also refer to the documentation for alternative solver options:\n",
      "    https://scikit-learn.org/stable/modules/linear_model.html#logistic-regression\n",
      "  n_iter_i = _check_optimize_result(\n",
      "C:\\Users\\Dimitris\\anaconda3\\lib\\site-packages\\sklearn\\linear_model\\_logistic.py:763: ConvergenceWarning: lbfgs failed to converge (status=1):\n",
      "STOP: TOTAL NO. of ITERATIONS REACHED LIMIT.\n",
      "\n",
      "Increase the number of iterations (max_iter) or scale the data as shown in:\n",
      "    https://scikit-learn.org/stable/modules/preprocessing.html\n",
      "Please also refer to the documentation for alternative solver options:\n",
      "    https://scikit-learn.org/stable/modules/linear_model.html#logistic-regression\n",
      "  n_iter_i = _check_optimize_result(\n"
     ]
    },
    {
     "output_type": "stream",
     "name": "stdout",
     "text": [
      "Logistic Regression\n",
      "****Results****\n",
      "train accuracy score 0.5643550177146028\n",
      "test accuracy score  0.5426039536468984\n",
      "--- 5.452717304229736 seconds ---\n",
      "==============================\n"
     ]
    },
    {
     "output_type": "stream",
     "name": "stderr",
     "text": [
      "C:\\Users\\Dimitris\\anaconda3\\lib\\site-packages\\sklearn\\linear_model\\_logistic.py:763: ConvergenceWarning: lbfgs failed to converge (status=1):\n",
      "STOP: TOTAL NO. of ITERATIONS REACHED LIMIT.\n",
      "\n",
      "Increase the number of iterations (max_iter) or scale the data as shown in:\n",
      "    https://scikit-learn.org/stable/modules/preprocessing.html\n",
      "Please also refer to the documentation for alternative solver options:\n",
      "    https://scikit-learn.org/stable/modules/linear_model.html#logistic-regression\n",
      "  n_iter_i = _check_optimize_result(\n"
     ]
    },
    {
     "output_type": "display_data",
     "data": {
      "text/plain": [
       "<Figure size 432x288 with 1 Axes>"
      ],
      "image/png": "[encoded data removed]"
     },
     "metadata": {
      "needs_background": "light"
     }
    }
   ],
   "metadata": {}
  },
  {
   "cell_type": "code",
   "execution_count": 18,
   "source": [
    "test_list = df_test_set.values.tolist()\r\n",
    "\r\n",
    "i=-1\r\n",
    "for compound in test_list:\r\n",
    "    i+=1\r\n",
    "    test_list[i]=compound[1:]\r\n",
    "\r\n",
    "test_array = np.array(test_list) \r\n",
    "test_array = np.nan_to_num(test_array)       # we replace the Nan values with zeros\r\n",
    "\r\n",
    "print(\"test array dimensions\" , test_array.shape)"
   ],
   "outputs": [
    {
     "output_type": "stream",
     "name": "stdout",
     "text": [
      "test array dimensions (39, 277)\n"
     ]
    }
   ],
   "metadata": {}
  },
  {
   "cell_type": "code",
   "execution_count": 3,
   "source": [
    "real_list = [1, 1, 1, 1, 1, 1, 1, 1, 1, 1, 1, 1, 1, 1, 1, 1, 1, 1, 1, 1, 1, 1, 1, 1, 1, 2, 2, 2, 2, 2, 2, 2, 2, 2, 2, 2, 2, 2, 2]"
   ],
   "outputs": [],
   "metadata": {}
  },
  {
   "cell_type": "code",
   "execution_count": 20,
   "source": [
    "import time\r\n",
    "start_time = time.time()\r\n",
    "\r\n",
    "data = np.concatenate((lox_array, antioxidant_array))\r\n",
    "print(data.shape)\r\n",
    "real_labels = lox_labels + antioxidant_labels\r\n",
    "\r\n",
    "lox_antiox_model = RandomForestClassifier()\r\n",
    "\r\n",
    "lox_antiox_model.fit(data,real_labels)               # we train our model\r\n",
    "\r\n",
    "pred = lox_antiox_model.predict(test_array)\r\n",
    "\r\n",
    "print(\"--- %s seconds ---\" % (time.time() - start_time))\r\n",
    "\r\n",
    "print(pred)"
   ],
   "outputs": [
    {
     "output_type": "stream",
     "name": "stdout",
     "text": [
      "(4852, 277)\n",
      "--- 2.4050843715667725 seconds ---\n",
      "[1 1 1 1 1 1 1 1 1 1 1 1 1 1 1 1 1 1 1 1 1 1 1 1 1 1 1 1 1 1 1 1 1 1 1 1 1\n",
      " 1 1]\n"
     ]
    }
   ],
   "metadata": {
    "tags": []
   }
  },
  {
   "cell_type": "code",
   "execution_count": 5,
   "source": [
    "from sklearn.metrics import accuracy_score\r\n",
    "from sklearn.metrics import confusion_matrix\r\n",
    "import seaborn as sns\r\n",
    "\r\n",
    "mat = confusion_matrix(real_list,pred)\r\n",
    "print(mat)\r\n",
    "\r\n",
    "sns.heatmap(mat/np.sum(mat), annot=True, \r\n",
    "            fmt='.2%', cmap='Blues')\r\n",
    "\r\n",
    "print(accuracy_score(real_list, pred))"
   ],
   "outputs": [
    {
     "output_type": "stream",
     "name": "stdout",
     "text": [
      "[[25  0]\n",
      " [14  0]]\n",
      "0.6410256410256411\n"
     ]
    },
    {
     "output_type": "display_data",
     "data": {
      "text/plain": [
       "<Figure size 432x288 with 2 Axes>"
      ],
      "image/png": "[encoded data removed]"
     },
     "metadata": {
      "needs_background": "light"
     }
    }
   ],
   "metadata": {}
  },
  {
   "cell_type": "code",
   "execution_count": 21,
   "source": [
    "lox_antiox_model = GradientBoostingClassifier()\r\n",
    "\r\n",
    "lox_antiox_model.fit(data,real_labels)               # we train our model\r\n",
    "\r\n",
    "pred = lox_antiox_model.predict(test_array)\r\n",
    "\r\n",
    "print(\"--- %s seconds ---\" % (time.time() - start_time))\r\n",
    "\r\n",
    "print(pred)"
   ],
   "outputs": [
    {
     "output_type": "stream",
     "name": "stdout",
     "text": [
      "--- 46.37043881416321 seconds ---\n",
      "[1 1 1 1 1 1 1 1 1 1 1 1 1 1 1 1 1 1 1 1 1 1 1 1 1 1 1 1 1 2 2 1 1 1 1 1 2\n",
      " 2 1]\n"
     ]
    }
   ],
   "metadata": {}
  },
  {
   "cell_type": "code",
   "execution_count": 6,
   "source": [
    "from sklearn.metrics import accuracy_score\r\n",
    "from sklearn.metrics import confusion_matrix\r\n",
    "import seaborn as sns\r\n",
    "\r\n",
    "mat = confusion_matrix(real_list,pred)\r\n",
    "print(mat)\r\n",
    "\r\n",
    "sns.heatmap(mat/np.sum(mat), annot=True, \r\n",
    "            fmt='.2%', cmap='Blues')\r\n",
    "\r\n",
    "print(accuracy_score(real_list, pred))"
   ],
   "outputs": [
    {
     "output_type": "stream",
     "name": "stdout",
     "text": [
      "[[25  0]\n",
      " [10  4]]\n",
      "0.7435897435897436\n"
     ]
    },
    {
     "output_type": "display_data",
     "data": {
      "text/plain": [
       "<Figure size 432x288 with 2 Axes>"
      ],
      "image/png": "[encoded data removed]"
     },
     "metadata": {
      "needs_background": "light"
     }
    }
   ],
   "metadata": {}
  },
  {
   "cell_type": "code",
   "execution_count": 22,
   "source": [
    "lox_antiox_model = DecisionTreeClassifier()\r\n",
    "\r\n",
    "lox_antiox_model.fit(data,real_labels)               # we train our model\r\n",
    "\r\n",
    "pred = lox_antiox_model.predict(test_array)\r\n",
    "\r\n",
    "print(\"--- %s seconds ---\" % (time.time() - start_time))\r\n",
    "\r\n",
    "print(pred)"
   ],
   "outputs": [
    {
     "output_type": "stream",
     "name": "stdout",
     "text": [
      "--- 85.85285425186157 seconds ---\n",
      "[1 1 2 2 2 2 1 1 2 2 1 1 1 1 1 1 2 1 2 1 1 1 1 1 1 1 1 1 1 2 2 2 1 1 1 1 1\n",
      " 1 1]\n"
     ]
    }
   ],
   "metadata": {}
  },
  {
   "cell_type": "code",
   "execution_count": 7,
   "source": [
    "from sklearn.metrics import accuracy_score\r\n",
    "from sklearn.metrics import confusion_matrix\r\n",
    "import seaborn as sns\r\n",
    "\r\n",
    "mat = confusion_matrix(real_list,pred)\r\n",
    "print(mat)\r\n",
    "\r\n",
    "sns.heatmap(mat/np.sum(mat), annot=True, \r\n",
    "            fmt='.2%', cmap='Blues')\r\n",
    "\r\n",
    "print(accuracy_score(real_list, pred))"
   ],
   "outputs": [
    {
     "output_type": "stream",
     "name": "stdout",
     "text": [
      "[[17  8]\n",
      " [11  3]]\n",
      "0.5128205128205128\n"
     ]
    },
    {
     "output_type": "display_data",
     "data": {
      "text/plain": [
       "<Figure size 432x288 with 2 Axes>"
      ],
      "image/png": "[encoded data removed]"
     },
     "metadata": {
      "needs_background": "light"
     }
    }
   ],
   "metadata": {}
  },
  {
   "cell_type": "code",
   "execution_count": 23,
   "source": [
    "lox_antiox_model = AdaBoostClassifier()\r\n",
    "\r\n",
    "lox_antiox_model.fit(data,real_labels)               # we train our model\r\n",
    "\r\n",
    "pred = lox_antiox_model.predict(test_array)\r\n",
    "\r\n",
    "print(\"--- %s seconds ---\" % (time.time() - start_time))\r\n",
    "\r\n",
    "print(pred)"
   ],
   "outputs": [
    {
     "output_type": "stream",
     "name": "stdout",
     "text": [
      "--- 109.3525083065033 seconds ---\n",
      "[1 1 1 1 1 1 1 1 1 1 1 1 1 1 1 1 1 1 1 1 1 1 1 1 1 2 2 2 2 2 2 2 2 2 1 1 2\n",
      " 1 2]\n"
     ]
    }
   ],
   "metadata": {}
  },
  {
   "cell_type": "code",
   "execution_count": 7,
   "source": [
    "from sklearn.metrics import accuracy_score\r\n",
    "from sklearn.metrics import confusion_matrix\r\n",
    "import seaborn as sns\r\n",
    "\r\n",
    "mat = confusion_matrix(real_list,pred)\r\n",
    "print(mat)\r\n",
    "\r\n",
    "sns.heatmap(mat/np.sum(mat), annot=True, \r\n",
    "            fmt='.2%', cmap='Blues')\r\n",
    "\r\n",
    "print(accuracy_score(real_list, pred))"
   ],
   "outputs": [
    {
     "output_type": "stream",
     "name": "stdout",
     "text": [
      "[[25  0]\n",
      " [ 3 11]]\n",
      "0.9230769230769231\n"
     ]
    },
    {
     "output_type": "display_data",
     "data": {
      "text/plain": [
       "<Figure size 432x288 with 2 Axes>"
      ],
      "image/png": "[encoded data removed]"
     },
     "metadata": {
      "needs_background": "light"
     }
    }
   ],
   "metadata": {}
  },
  {
   "cell_type": "code",
   "execution_count": 24,
   "source": [
    "lox_antiox_model = QuadraticDiscriminantAnalysis()\r\n",
    "\r\n",
    "lox_antiox_model.fit(data,real_labels)               # we train our model\r\n",
    "\r\n",
    "pred = lox_antiox_model.predict(test_array)\r\n",
    "\r\n",
    "print(\"--- %s seconds ---\" % (time.time() - start_time))\r\n",
    "\r\n",
    "print(pred)"
   ],
   "outputs": [
    {
     "output_type": "stream",
     "name": "stdout",
     "text": [
      "--- 145.28016543388367 seconds ---\n",
      "[1 1 1 1 1 1 1 1 1 1 1 1 1 1 1 1 1 1 1 1 1 1 1 1 1 1 1 1 1 1 1 1 1 1 1 1 1\n",
      " 1 1]\n"
     ]
    },
    {
     "output_type": "stream",
     "name": "stderr",
     "text": [
      "C:\\Users\\Dimitris\\anaconda3\\lib\\site-packages\\sklearn\\discriminant_analysis.py:808: UserWarning: Variables are collinear\n",
      "  warnings.warn(\"Variables are collinear\")\n"
     ]
    }
   ],
   "metadata": {}
  },
  {
   "cell_type": "code",
   "execution_count": 8,
   "source": [
    "from sklearn.metrics import accuracy_score\r\n",
    "from sklearn.metrics import confusion_matrix\r\n",
    "import seaborn as sns\r\n",
    "\r\n",
    "mat = confusion_matrix(real_list,pred)\r\n",
    "print(mat)\r\n",
    "\r\n",
    "sns.heatmap(mat/np.sum(mat), annot=True, \r\n",
    "            fmt='.2%', cmap='Blues')\r\n",
    "\r\n",
    "print(accuracy_score(real_list, pred))"
   ],
   "outputs": [
    {
     "output_type": "stream",
     "name": "stdout",
     "text": [
      "[[25  0]\n",
      " [14  0]]\n",
      "0.6410256410256411\n"
     ]
    },
    {
     "output_type": "display_data",
     "data": {
      "text/plain": [
       "<Figure size 432x288 with 2 Axes>"
      ],
      "image/png": "[encoded data removed]"
     },
     "metadata": {
      "needs_background": "light"
     }
    }
   ],
   "metadata": {}
  },
  {
   "cell_type": "code",
   "execution_count": 42,
   "source": [
    "start_time = time.time()\r\n",
    "\r\n",
    "data = np.concatenate((lox_array, lox_decoy_array))\r\n",
    "print(data.shape)\r\n",
    "real_labels = lox_labels + lox_decoy_labels\r\n",
    "\r\n",
    "lox_decoys_model = AdaBoostClassifier(base_estimator=RandomForestClassifier())\r\n",
    "\r\n",
    "lox_decoys_model.fit(data,real_labels)                  # we train our model\r\n",
    "\r\n",
    "pred = lox_decoys_model.predict(test_array)\r\n",
    "\r\n",
    "print(\"--- %s seconds ---\" % (time.time() - start_time))"
   ],
   "outputs": [
    {
     "output_type": "stream",
     "name": "stdout",
     "text": [
      "(8182, 277)\n",
      "--- 245.30715036392212 seconds ---\n"
     ]
    }
   ],
   "metadata": {}
  },
  {
   "cell_type": "code",
   "execution_count": 43,
   "source": [
    "print(pred)"
   ],
   "outputs": [
    {
     "output_type": "stream",
     "name": "stdout",
     "text": [
      "[3 3 1 1 1 1 1 1 1 1 1 1 1 1 1 1 1 1 1 1 1 1 1 3 1 3 3 3 3 3 3 3 3 3 1 1 1\n",
      " 3 1]\n"
     ]
    }
   ],
   "metadata": {}
  },
  {
   "cell_type": "code",
   "execution_count": 44,
   "source": [
    "start_time = time.time()\r\n",
    "\r\n",
    "data = np.concatenate((antioxidant_array, antioxidant_decoys_array))\r\n",
    "print(data.shape)\r\n",
    "real_labels = antioxidant_labels + antioxidant_decoys_labels\r\n",
    "\r\n",
    "antiox_decoys_model = AdaBoostClassifier(base_estimator=RandomForestClassifier())              \r\n",
    "\r\n",
    "antiox_decoys_model.fit(data,real_labels)               # we train our model\r\n",
    "\r\n",
    "pred = antiox_decoys_model.predict(test_array)\r\n",
    "\r\n",
    "print(\"--- %s seconds ---\" % (time.time() - start_time))"
   ],
   "outputs": [
    {
     "output_type": "stream",
     "name": "stdout",
     "text": [
      "(1597, 277)\n",
      "--- 39.71861529350281 seconds ---\n"
     ]
    }
   ],
   "metadata": {}
  },
  {
   "cell_type": "code",
   "execution_count": 45,
   "source": [
    "print(pred)"
   ],
   "outputs": [
    {
     "output_type": "stream",
     "name": "stdout",
     "text": [
      "[4 4 4 4 4 4 4 4 4 4 4 4 4 4 4 4 4 4 4 4 4 4 4 4 4 4 4 4 4 4 4 4 4 4 4 4 4\n",
      " 4 4]\n"
     ]
    }
   ],
   "metadata": {}
  },
  {
   "cell_type": "code",
   "execution_count": 46,
   "source": [
    "import time\r\n",
    "start_time = time.time()\r\n",
    "\r\n",
    "all_data = np.concatenate((lox_array, lox_decoy_array, antioxidant_array, antioxidant_decoys_array))\r\n",
    "print(all_data.shape)\r\n",
    "all_labels = lox_labels + lox_decoy_labels + antioxidant_labels + antioxidant_decoys_labels\r\n",
    "\r\n",
    "all_labels_model = KNeighborsClassifier(4)              # GaussianProcessClassifier(1.0 * RBF(1.0))\r\n",
    "\r\n",
    "all_labels_model.fit(all_data,all_labels)               # we train our model\r\n",
    "\r\n",
    "pred = all_labels_model.predict(test_array)\r\n",
    "\r\n",
    "print(\"--- %s seconds ---\" % (time.time() - start_time))"
   ],
   "outputs": [
    {
     "output_type": "stream",
     "name": "stdout",
     "text": [
      "(9779, 277)\n",
      "--- 0.027023792266845703 seconds ---\n"
     ]
    }
   ],
   "metadata": {}
  },
  {
   "cell_type": "code",
   "execution_count": 47,
   "source": [
    "print(pred)"
   ],
   "outputs": [
    {
     "output_type": "stream",
     "name": "stdout",
     "text": [
      "[1 3 3 3 3 3 3 3 3 3 3 3 3 3 1 1 1 1 3 3 1 1 1 3 3 3 3 3 3 3 3 3 3 4 4 4 1\n",
      " 1 4]\n"
     ]
    }
   ],
   "metadata": {}
  },
  {
   "cell_type": "code",
   "execution_count": 48,
   "source": [
    "import time\r\n",
    "start_time = time.time()\r\n",
    "\r\n",
    "all_data = np.concatenate((lox_array, lox_decoy_array, antioxidant_array, antioxidant_decoys_array))\r\n",
    "print(all_data.shape)\r\n",
    "all_labels = lox_labels + lox_decoy_labels + antioxidant_labels + antioxidant_decoys_labels\r\n",
    "\r\n",
    "all_labels_model = RandomForestClassifier()             \r\n",
    "\r\n",
    "all_labels_model.fit(all_data,all_labels)               # we train our model\r\n",
    "\r\n",
    "pred = all_labels_model.predict(test_array)\r\n",
    "\r\n",
    "print(\"--- %s seconds ---\" % (time.time() - start_time))"
   ],
   "outputs": [
    {
     "output_type": "stream",
     "name": "stdout",
     "text": [
      "(9779, 277)\n",
      "--- 5.601177453994751 seconds ---\n"
     ]
    }
   ],
   "metadata": {}
  },
  {
   "cell_type": "code",
   "execution_count": 49,
   "source": [
    "print(pred)"
   ],
   "outputs": [
    {
     "output_type": "stream",
     "name": "stdout",
     "text": [
      "[3 3 3 3 3 3 1 1 1 1 1 1 1 1 1 1 1 1 1 1 1 1 1 1 1 3 3 4 4 4 4 4 3 3 1 1 4\n",
      " 4 4]\n"
     ]
    }
   ],
   "metadata": {}
  },
  {
   "cell_type": "code",
   "execution_count": 30,
   "source": [
    "X_1 = df_train_LOX.iloc[:,2:]           # independent columns\r\n",
    "X_2 = df_train_Antioxidant.iloc[:,2:]   # independent columns\r\n",
    "\r\n",
    "X_1 = X_1.fillna(0)\r\n",
    "X_2 = X_2.fillna(0)\r\n",
    "\r\n",
    "labels_1 = df_train_LOX.iloc[:,1:2]\r\n",
    "labels_2 = df_train_Antioxidant.iloc[:,1:2]\r\n",
    "\r\n",
    "lb_frames = [labels_1, labels_2]\r\n",
    "labels = pd.concat(lb_frames)\r\n",
    "\r\n",
    "frames = [X_1, X_2]\r\n",
    "data = pd.concat(frames)\r\n",
    "\r\n",
    "print(\"data shape\", data.shape)\r\n",
    "print(\"labels shape\", labels.shape)"
   ],
   "outputs": [
    {
     "output_type": "stream",
     "name": "stdout",
     "text": [
      "data shape (4852, 277)\n",
      "labels shape (4852, 1)\n"
     ]
    }
   ],
   "metadata": {}
  },
  {
   "cell_type": "code",
   "execution_count": 26,
   "source": [
    "from sklearn.tree import DecisionTreeClassifier\r\n",
    "from sklearn.model_selection import cross_val_score\r\n",
    "\r\n",
    "model = RandomForestClassifier()  # \r\n",
    "scores = cross_val_score(model, data, labels, cv=10)\r\n",
    "print(\"%0.2f accuracy with a standard deviation of %0.2f\" % (scores.mean(), scores.std())) \r\n",
    "\r\n",
    "model.fit(data,labels) \r\n",
    "feat_importances = pd.Series(model.feature_importances_, index=data.columns)  # plot graph of feature importances for better visualization\r\n",
    "feat_importances.nlargest(15).plot(kind='barh')\r\n",
    "plt.show() "
   ],
   "outputs": [
    {
     "output_type": "stream",
     "name": "stderr",
     "text": [
      "C:\\Users\\Dimitris\\anaconda3\\lib\\site-packages\\sklearn\\model_selection\\_validation.py:598: DataConversionWarning: A column-vector y was passed when a 1d array was expected. Please change the shape of y to (n_samples,), for example using ravel().\n",
      "  estimator.fit(X_train, y_train, **fit_params)\n",
      "C:\\Users\\Dimitris\\anaconda3\\lib\\site-packages\\sklearn\\model_selection\\_validation.py:598: DataConversionWarning: A column-vector y was passed when a 1d array was expected. Please change the shape of y to (n_samples,), for example using ravel().\n",
      "  estimator.fit(X_train, y_train, **fit_params)\n",
      "C:\\Users\\Dimitris\\anaconda3\\lib\\site-packages\\sklearn\\model_selection\\_validation.py:598: DataConversionWarning: A column-vector y was passed when a 1d array was expected. Please change the shape of y to (n_samples,), for example using ravel().\n",
      "  estimator.fit(X_train, y_train, **fit_params)\n",
      "C:\\Users\\Dimitris\\anaconda3\\lib\\site-packages\\sklearn\\model_selection\\_validation.py:598: DataConversionWarning: A column-vector y was passed when a 1d array was expected. Please change the shape of y to (n_samples,), for example using ravel().\n",
      "  estimator.fit(X_train, y_train, **fit_params)\n",
      "C:\\Users\\Dimitris\\anaconda3\\lib\\site-packages\\sklearn\\model_selection\\_validation.py:598: DataConversionWarning: A column-vector y was passed when a 1d array was expected. Please change the shape of y to (n_samples,), for example using ravel().\n",
      "  estimator.fit(X_train, y_train, **fit_params)\n",
      "C:\\Users\\Dimitris\\anaconda3\\lib\\site-packages\\sklearn\\model_selection\\_validation.py:598: DataConversionWarning: A column-vector y was passed when a 1d array was expected. Please change the shape of y to (n_samples,), for example using ravel().\n",
      "  estimator.fit(X_train, y_train, **fit_params)\n",
      "C:\\Users\\Dimitris\\anaconda3\\lib\\site-packages\\sklearn\\model_selection\\_validation.py:598: DataConversionWarning: A column-vector y was passed when a 1d array was expected. Please change the shape of y to (n_samples,), for example using ravel().\n",
      "  estimator.fit(X_train, y_train, **fit_params)\n",
      "C:\\Users\\Dimitris\\anaconda3\\lib\\site-packages\\sklearn\\model_selection\\_validation.py:598: DataConversionWarning: A column-vector y was passed when a 1d array was expected. Please change the shape of y to (n_samples,), for example using ravel().\n",
      "  estimator.fit(X_train, y_train, **fit_params)\n",
      "C:\\Users\\Dimitris\\anaconda3\\lib\\site-packages\\sklearn\\model_selection\\_validation.py:598: DataConversionWarning: A column-vector y was passed when a 1d array was expected. Please change the shape of y to (n_samples,), for example using ravel().\n",
      "  estimator.fit(X_train, y_train, **fit_params)\n",
      "C:\\Users\\Dimitris\\anaconda3\\lib\\site-packages\\sklearn\\model_selection\\_validation.py:598: DataConversionWarning: A column-vector y was passed when a 1d array was expected. Please change the shape of y to (n_samples,), for example using ravel().\n",
      "  estimator.fit(X_train, y_train, **fit_params)\n"
     ]
    },
    {
     "output_type": "stream",
     "name": "stdout",
     "text": [
      "0.98 accuracy with a standard deviation of 0.02\n"
     ]
    },
    {
     "output_type": "stream",
     "name": "stderr",
     "text": [
      "<ipython-input-26-5555be1ff6a0>:8: DataConversionWarning: A column-vector y was passed when a 1d array was expected. Please change the shape of y to (n_samples,), for example using ravel().\n",
      "  model.fit(data,labels)\n"
     ]
    },
    {
     "output_type": "display_data",
     "data": {
      "text/plain": [
       "<Figure size 432x288 with 1 Axes>"
      ],
      "image/png": "[encoded data removed]"
     },
     "metadata": {
      "needs_background": "light"
     }
    }
   ],
   "metadata": {}
  },
  {
   "cell_type": "code",
   "execution_count": 28,
   "source": [
    "from sklearn.preprocessing import MinMaxScaler\r\n",
    "from ITMO_FS.filters.univariate import chi2_measure\r\n",
    "\r\n",
    "labels = np.array(labels)\r\n",
    "\r\n",
    "scaler = MinMaxScaler(feature_range=(0,1))                 # we scale our data to values between 0-1 to eliminate the negative values\r\n",
    "data_scaled = scaler.fit_transform(data)\r\n",
    "\r\n",
    "scores = chi2_measure(data_scaled, labels)                 # Chi^2\r\n",
    "\r\n",
    "column_names = data.columns\r\n",
    "\r\n",
    "chi2_measure_dict = {}\r\n",
    "i=-1\r\n",
    "for score in scores:\r\n",
    "    i+=1\r\n",
    "    chi2_measure_dict[column_names[i]] = score\r\n",
    "\r\n",
    "sorted_chi2_measure_dict = dict( sorted(chi2_measure_dict.items(),\r\n",
    "                           key=lambda item: item[1],\r\n",
    "                           reverse=True))\r\n",
    "\r\n",
    "df_chi2_measure = pd.DataFrame.from_dict(sorted_chi2_measure_dict, orient='index') \r\n",
    "\r\n",
    "print(df_chi2_measure.head(15))"
   ],
   "outputs": [
    {
     "output_type": "stream",
     "name": "stdout",
     "text": [
      "                                             0\n",
      "i_desc_Eccentricity                   9.092838\n",
      "i_desc_Number_of_ring_systems         2.949700\n",
      "i_desc_Ring_Count_10                       NaN\n",
      "i_desc_Ring_Count_11                       NaN\n",
      "i_desc_Ring_Count_12                       NaN\n",
      "i_desc_Ring_Count_13                 28.036247\n",
      "i_desc_Chirality_count               10.349753\n",
      "i_desc_Eccentric_connectivity         9.283296\n",
      "i_desc_Atom_Count                     4.621557\n",
      "i_desc_Bond_Count                     4.615564\n",
      "i_desc_First_Zagreb                   4.270384\n",
      "i_desc_Gutman_Molecular_Topological   3.809048\n",
      "i_desc_Cyclomatic_number              3.647054\n",
      "i_desc_Quadratic                      2.721309\n",
      "i_desc_Polarity                       2.206254\n"
     ]
    }
   ],
   "metadata": {}
  },
  {
   "cell_type": "code",
   "execution_count": 46,
   "source": [
    "from ITMO_FS.filters.univariate import information_gain\r\n",
    "\r\n",
    "labels = np.array(labels)\r\n",
    "\r\n",
    "scores = information_gain(data, labels)                 # Information Gain\r\n",
    "\r\n",
    "column_names = data.columns\r\n",
    "\r\n",
    "information_gain_dict = {}\r\n",
    "i=-1\r\n",
    "for score in scores:\r\n",
    "    i+=1\r\n",
    "    information_gain_dict[column_names[i]] = score\r\n",
    "\r\n",
    "sorted_information_gain_dict = dict( sorted(information_gain_dict.items(),\r\n",
    "                           key=lambda item: item[1],\r\n",
    "                           reverse=True))\r\n",
    "\r\n",
    "df_information_gain = pd.DataFrame.from_dict(sorted_information_gain_dict, orient='index') \r\n",
    "\r\n",
    "print(df_information_gain.head(15))"
   ],
   "outputs": [
    {
     "output_type": "error",
     "ename": "TypeError",
     "evalue": "unhashable type: 'numpy.ndarray'",
     "traceback": [
      "\u001b[1;31m---------------------------------------------------------------------------\u001b[0m",
      "\u001b[1;31mTypeError\u001b[0m                                 Traceback (most recent call last)",
      "\u001b[1;32m<ipython-input-46-a8e422888e26>\u001b[0m in \u001b[0;36m<module>\u001b[1;34m\u001b[0m\n\u001b[0;32m      3\u001b[0m \u001b[0mlabels\u001b[0m \u001b[1;33m=\u001b[0m \u001b[0mnp\u001b[0m\u001b[1;33m.\u001b[0m\u001b[0marray\u001b[0m\u001b[1;33m(\u001b[0m\u001b[0mlabels\u001b[0m\u001b[1;33m)\u001b[0m\u001b[1;33m\u001b[0m\u001b[1;33m\u001b[0m\u001b[0m\n\u001b[0;32m      4\u001b[0m \u001b[1;33m\u001b[0m\u001b[0m\n\u001b[1;32m----> 5\u001b[1;33m \u001b[0mscores\u001b[0m \u001b[1;33m=\u001b[0m \u001b[0minformation_gain\u001b[0m\u001b[1;33m(\u001b[0m\u001b[0mdata\u001b[0m\u001b[1;33m,\u001b[0m \u001b[0mlabels\u001b[0m\u001b[1;33m)\u001b[0m                 \u001b[1;31m# Information Gain\u001b[0m\u001b[1;33m\u001b[0m\u001b[1;33m\u001b[0m\u001b[0m\n\u001b[0m\u001b[0;32m      6\u001b[0m \u001b[1;33m\u001b[0m\u001b[0m\n\u001b[0;32m      7\u001b[0m \u001b[0mcolumn_names\u001b[0m \u001b[1;33m=\u001b[0m \u001b[0mdata\u001b[0m\u001b[1;33m.\u001b[0m\u001b[0mcolumns\u001b[0m\u001b[1;33m\u001b[0m\u001b[1;33m\u001b[0m\u001b[0m\n",
      "\u001b[1;32m~\\anaconda3\\lib\\site-packages\\ITMO_FS\\filters\\univariate\\measures.py\u001b[0m in \u001b[0;36minformation_gain\u001b[1;34m(X, y)\u001b[0m\n\u001b[0;32m    723\u001b[0m \u001b[1;33m\u001b[0m\u001b[0m\n\u001b[0;32m    724\u001b[0m     \"\"\"\n\u001b[1;32m--> 725\u001b[1;33m     \u001b[0mentropy_x\u001b[0m \u001b[1;33m=\u001b[0m \u001b[0mentropy\u001b[0m\u001b[1;33m(\u001b[0m\u001b[0my\u001b[0m\u001b[1;33m)\u001b[0m\u001b[1;33m\u001b[0m\u001b[1;33m\u001b[0m\u001b[0m\n\u001b[0m\u001b[0;32m    726\u001b[0m     \u001b[0mcond_entropy\u001b[0m \u001b[1;33m=\u001b[0m \u001b[0mnp\u001b[0m\u001b[1;33m.\u001b[0m\u001b[0mapply_along_axis\u001b[0m\u001b[1;33m(\u001b[0m\u001b[0mconditional_entropy\u001b[0m\u001b[1;33m,\u001b[0m \u001b[1;36m0\u001b[0m\u001b[1;33m,\u001b[0m \u001b[0mX\u001b[0m\u001b[1;33m,\u001b[0m \u001b[0my\u001b[0m\u001b[1;33m)\u001b[0m\u001b[1;33m\u001b[0m\u001b[1;33m\u001b[0m\u001b[0m\n\u001b[0;32m    727\u001b[0m     \u001b[1;32mreturn\u001b[0m \u001b[0mentropy_x\u001b[0m \u001b[1;33m-\u001b[0m \u001b[0mcond_entropy\u001b[0m\u001b[1;33m\u001b[0m\u001b[1;33m\u001b[0m\u001b[0m\n",
      "\u001b[1;32m~\\anaconda3\\lib\\site-packages\\ITMO_FS\\utils\\information_theory.py\u001b[0m in \u001b[0;36mentropy\u001b[1;34m(x)\u001b[0m\n\u001b[0;32m     55\u001b[0m     \u001b[0md\u001b[0m \u001b[1;33m=\u001b[0m \u001b[0mdefaultdict\u001b[0m\u001b[1;33m(\u001b[0m\u001b[0mint\u001b[0m\u001b[1;33m)\u001b[0m\u001b[1;33m\u001b[0m\u001b[1;33m\u001b[0m\u001b[0m\n\u001b[0;32m     56\u001b[0m     \u001b[1;32mfor\u001b[0m \u001b[0mobj\u001b[0m \u001b[1;32min\u001b[0m \u001b[0mx\u001b[0m\u001b[1;33m:\u001b[0m\u001b[1;33m\u001b[0m\u001b[1;33m\u001b[0m\u001b[0m\n\u001b[1;32m---> 57\u001b[1;33m         \u001b[0md\u001b[0m\u001b[1;33m[\u001b[0m\u001b[0mobj\u001b[0m\u001b[1;33m]\u001b[0m \u001b[1;33m+=\u001b[0m \u001b[1;36m1\u001b[0m\u001b[1;33m\u001b[0m\u001b[1;33m\u001b[0m\u001b[0m\n\u001b[0m\u001b[0;32m     58\u001b[0m     \u001b[0mprobs\u001b[0m \u001b[1;33m=\u001b[0m \u001b[0mmap\u001b[0m\u001b[1;33m(\u001b[0m\u001b[1;32mlambda\u001b[0m \u001b[0mz\u001b[0m\u001b[1;33m:\u001b[0m \u001b[0mfloat\u001b[0m\u001b[1;33m(\u001b[0m\u001b[0mz\u001b[0m\u001b[1;33m)\u001b[0m \u001b[1;33m/\u001b[0m \u001b[0mlen\u001b[0m\u001b[1;33m(\u001b[0m\u001b[0mx\u001b[0m\u001b[1;33m)\u001b[0m\u001b[1;33m,\u001b[0m \u001b[0md\u001b[0m\u001b[1;33m.\u001b[0m\u001b[0mvalues\u001b[0m\u001b[1;33m(\u001b[0m\u001b[1;33m)\u001b[0m\u001b[1;33m)\u001b[0m\u001b[1;33m\u001b[0m\u001b[1;33m\u001b[0m\u001b[0m\n\u001b[0;32m     59\u001b[0m     \u001b[1;32mreturn\u001b[0m \u001b[1;33m-\u001b[0m\u001b[0msum\u001b[0m\u001b[1;33m(\u001b[0m\u001b[0mmap\u001b[0m\u001b[1;33m(\u001b[0m\u001b[0melog\u001b[0m\u001b[1;33m,\u001b[0m \u001b[0mprobs\u001b[0m\u001b[1;33m)\u001b[0m\u001b[1;33m)\u001b[0m\u001b[1;33m\u001b[0m\u001b[1;33m\u001b[0m\u001b[0m\n",
      "\u001b[1;31mTypeError\u001b[0m: unhashable type: 'numpy.ndarray'"
     ]
    }
   ],
   "metadata": {
    "tags": [
     "outputPrepend"
    ]
   }
  },
  {
   "cell_type": "code",
   "execution_count": 35,
   "source": [
    "from ITMO_FS.filters.univariate import pearson_corr\r\n",
    "\r\n",
    "labels = np.array(labels)\r\n",
    "\r\n",
    "scores = pearson_corr(data, labels)      # Pearson Correlation Coefficient\r\n",
    "\r\n",
    "column_names = data.columns\r\n",
    "\r\n",
    "pearson_corr_dict = {}\r\n",
    "i=-1\r\n",
    "for score in scores:\r\n",
    "    i+=1\r\n",
    "    pearson_corr_dict[column_names[i]] = score\r\n",
    "\r\n",
    "sorted_pearson_corr_dict = dict( sorted(pearson_corr_dict.items(),\r\n",
    "                           key=lambda item: item[1],\r\n",
    "                           reverse=True))\r\n",
    "\r\n",
    "df_pearson_corr = pd.DataFrame.from_dict(sorted_pearson_corr_dict, orient='index') \r\n",
    "\r\n",
    "print(df_pearson_corr.head(15))"
   ],
   "outputs": [
    {
     "output_type": "stream",
     "name": "stdout",
     "text": [
      "                                                           0\n",
      "r_qp_QPlogS                                         0.249463\n",
      "r_desc_PEOE1                                        0.227446\n",
      "i_desc_Sum_of_topological_distances_between_O..O    0.208837\n",
      "r_desc_Total_structure_connectivity                 0.193376\n",
      "r_desc_Mean_topological_charge_index_of_order_4     0.180335\n",
      "r_qp_CIQPlogS                                       0.179408\n",
      "r_desc_ALOGP6                                       0.175701\n",
      "r_qp_FISA                                           0.173370\n",
      "r_desc_Balaban-type_index_from_mass_weighted_di...  0.172163\n",
      "r_desc_Balaban-type_index_from_Z_weighted_dista...  0.172042\n",
      "r_desc_Balaban_distance_connectivity_index          0.169455\n",
      "r_desc_Balaban-type_index_from_electronegativit...  0.166340\n",
      "r_qp_ACxDN^.5/SA                                    0.152788\n",
      "r_desc_PEOE12                                       0.152667\n",
      "r_desc_Mean_topological_charge_index_of_order_3     0.148916\n"
     ]
    }
   ],
   "metadata": {}
  },
  {
   "cell_type": "code",
   "execution_count": 34,
   "source": [
    "from ITMO_FS.filters.univariate import gini_index\r\n",
    "\r\n",
    "labels = np.array(labels)\r\n",
    "\r\n",
    "scores = gini_index(data, labels)      # Gini Index\r\n",
    "\r\n",
    "column_names = data.columns\r\n",
    "\r\n",
    "gini_index_dict = {}\r\n",
    "i=-1\r\n",
    "for score in scores:\r\n",
    "    i+=1\r\n",
    "    gini_index_dict[column_names[i]] = score\r\n",
    "\r\n",
    "sorted_gini_index_dict = dict( sorted(gini_index_dict.items(),\r\n",
    "                           key=lambda item: item[1],\r\n",
    "                           reverse=True))\r\n",
    "\r\n",
    "df_gini_index = pd.DataFrame.from_dict(sorted_gini_index_dict, orient='index') \r\n",
    "\r\n",
    "print(df_gini_index.head(15))"
   ],
   "outputs": [
    {
     "output_type": "stream",
     "name": "stdout",
     "text": [
      "                                            0\n",
      "i_desc_Centralization                0.199045\n",
      "i_desc_Number_of_ring_systems        0.194223\n",
      "i_desc_Ring_Count_10                      NaN\n",
      "i_desc_Ring_Count_11                      NaN\n",
      "i_desc_Ring_Count_12                      NaN\n",
      "i_desc_Ring_Count_13                 0.884358\n",
      "i_desc_Gutman_Molecular_Topological  0.201973\n",
      "i_desc_Eccentric_connectivity        0.177729\n",
      "i_desc_Eccentricity                  0.173282\n",
      "i_desc_Cyclomatic_number             0.172565\n",
      "i_desc_Quadratic                     0.160245\n",
      "i_desc_Atoms_in_Ring_System          0.154565\n",
      "i_desc_Bonds_in_Ring_System          0.153007\n",
      "i_desc_First_Zagreb                  0.147788\n",
      "i_desc_Bond_Count                    0.146205\n"
     ]
    },
    {
     "output_type": "stream",
     "name": "stderr",
     "text": [
      "C:\\Users\\Dimitris\\anaconda3\\lib\\site-packages\\ITMO_FS\\filters\\univariate\\measures.py:144: RuntimeWarning: invalid value encountered in true_divide\n",
      "  cum_x = np.cumsum(X / np.linalg.norm(X, 1, axis=0), axis=0)\n"
     ]
    }
   ],
   "metadata": {}
  },
  {
   "cell_type": "code",
   "execution_count": 36,
   "source": [
    "from ITMO_FS.filters.univariate import f_ratio_measure\r\n",
    "\r\n",
    "labels = np.array(labels)\r\n",
    "\r\n",
    "scores = f_ratio_measure(data, labels)      # Fisher Ratio\r\n",
    "\r\n",
    "column_names = data.columns\r\n",
    "\r\n",
    "f_ratio_dict = {}\r\n",
    "i=-1\r\n",
    "for score in scores:\r\n",
    "    i+=1\r\n",
    "    f_ratio_dict[column_names[i]] = score\r\n",
    "\r\n",
    "sorted_f_ratio_dict = dict( sorted(f_ratio_dict.items(),\r\n",
    "                           key=lambda item: item[1],\r\n",
    "                           reverse=True))\r\n",
    "\r\n",
    "df_f_ratio = pd.DataFrame.from_dict(sorted_f_ratio_dict, orient='index') \r\n",
    "\r\n",
    "print(df_f_ratio.head(15))"
   ],
   "outputs": [
    {
     "output_type": "stream",
     "name": "stdout",
     "text": [
      "                                                        0\n",
      "r_desc_Total_structure_connectivity              0.174145\n",
      "r_desc_Radial_centric                            0.070266\n",
      "r_desc_PEOE1                                     0.065155\n",
      "r_qp_PercentHumanOralAbsorption                  0.062023\n",
      "r_desc_Eccentric                                 0.061978\n",
      "r_desc_Average_eccentricity                      0.059035\n",
      "r_desc_Average_valence_connectivity_index_chi-0  0.058886\n",
      "r_desc_Second_Mohar                              0.057257\n",
      "r_desc_Mean_Square_Distance_Balaban              0.056516\n",
      "i_desc_Topological_diameter                      0.054025\n",
      "r_qp_QPlogKp                                     0.052288\n",
      "r_desc_Mean_Wiener                               0.051896\n",
      "i_desc_Topological_radius                        0.050657\n",
      "r_desc_Average_valence_connectivity_index_chi-1  0.050058\n",
      "r_desc_Kier_benzene-likeliness_index             0.050017\n"
     ]
    }
   ],
   "metadata": {}
  },
  {
   "cell_type": "code",
   "execution_count": 41,
   "source": [
    "data = np.concatenate((lox_array, antioxidant_array))\r\n",
    "print(data.shape)\r\n",
    "real_labels = lox_labels + antioxidant_labels"
   ],
   "outputs": [
    {
     "output_type": "stream",
     "name": "stdout",
     "text": [
      "(4852, 277)\n"
     ]
    }
   ],
   "metadata": {}
  },
  {
   "cell_type": "code",
   "execution_count": 42,
   "source": [
    "X_train, X_test, y_train, y_test = train_test_split(data, real_labels, test_size=0.3,random_state=109) # 70% of our data for training and the rest 30% for testing\r\n",
    "\r\n",
    "model = AdaBoostClassifier()                                \r\n",
    "scores = cross_val_score(model, X_train, y_train, cv=10)\r\n",
    "print(\"%0.2f accuracy with a standard deviation of %0.2f\" % (scores.mean(), scores.std()))\r\n",
    "\r\n",
    "model.fit(X_train, y_train)\r\n",
    "\r\n",
    "predicted = model.predict(X_test)\r\n",
    "\r\n",
    "from sklearn.metrics import confusion_matrix\r\n",
    "import seaborn as sns\r\n",
    "\r\n",
    "mat = confusion_matrix(y_test,predicted)\r\n",
    "print(mat)\r\n",
    "\r\n",
    "sns.heatmap(mat/np.sum(mat), annot=True, \r\n",
    "            fmt='.2%', cmap='Blues')"
   ],
   "outputs": [
    {
     "output_type": "stream",
     "name": "stdout",
     "text": [
      "0.98 accuracy with a standard deviation of 0.01\n",
      "[[1307    5]\n",
      " [  32  112]]\n"
     ]
    },
    {
     "output_type": "execute_result",
     "data": {
      "text/plain": [
       "<AxesSubplot:>"
      ]
     },
     "metadata": {},
     "execution_count": 42
    },
    {
     "output_type": "display_data",
     "data": {
      "text/plain": [
       "<Figure size 432x288 with 2 Axes>"
      ],
      "image/png": "[encoded data removed]"
     },
     "metadata": {}
    }
   ],
   "metadata": {}
  },
  {
   "cell_type": "code",
   "execution_count": 64,
   "source": [
    "model = AdaBoostClassifier()\r\n",
    "\r\n",
    "model.fit(data, real_labels)\r\n",
    "pred = model.predict(test_array)\r\n",
    "\r\n",
    "print(\"test set prediction \", pred)"
   ],
   "outputs": [
    {
     "output_type": "stream",
     "name": "stdout",
     "text": [
      "test set prediction  [1 1 1 1 1 1 1 1 1 1 1 1 1 1 1 1 1 1 1 1 1 1 1 1 1 2 2 2 2 2 2 2 2 2 1 1 2\n",
      " 1 2]\n"
     ]
    }
   ],
   "metadata": {}
  },
  {
   "cell_type": "code",
   "execution_count": 69,
   "source": [
    "X_1 = df_train_LOX.iloc[:,2:]           # independent columns\r\n",
    "X_2 = df_train_Antioxidant.iloc[:,2:]   # independent columns\r\n",
    "X_3 = df_LOX_decoys.iloc[:,2:]\r\n",
    "\r\n",
    "X_1 = X_1.fillna(0)\r\n",
    "X_2 = X_2.fillna(0)\r\n",
    "X_3 = X_3.fillna(0)\r\n",
    "\r\n",
    "labels_1 = df_train_LOX.iloc[:,1:2]\r\n",
    "labels_2 = df_train_Antioxidant.iloc[:,1:2]\r\n",
    "labels_3 = df_LOX_decoys.iloc[:,1:2]\r\n",
    "\r\n",
    "lb_frames = [labels_1, labels_2, labels_3]\r\n",
    "labels = pd.concat(lb_frames)\r\n",
    "\r\n",
    "frames = [X_1, X_2, X_3]\r\n",
    "data = pd.concat(frames)\r\n",
    "\r\n",
    "print(\"data shape\", data.shape)\r\n",
    "print(\"labels shape\", labels.shape)"
   ],
   "outputs": [
    {
     "output_type": "stream",
     "name": "stdout",
     "text": [
      "data shape (8651, 277)\n",
      "labels shape (8651, 1)\n"
     ]
    }
   ],
   "metadata": {}
  },
  {
   "cell_type": "code",
   "execution_count": 70,
   "source": [
    "from sklearn.tree import DecisionTreeClassifier\r\n",
    "from sklearn.model_selection import cross_val_score\r\n",
    "\r\n",
    "model = DecisionTreeClassifier(max_depth=5)\r\n",
    "scores = cross_val_score(model, data, labels, cv=10)\r\n",
    "print(\"%0.2f accuracy with a standard deviation of %0.2f\" % (scores.mean(), scores.std())) \r\n",
    "\r\n",
    "model.fit(data,labels) \r\n",
    "feat_importances = pd.Series(model.feature_importances_, index=data.columns)  # plot graph of feature importances for better visualization\r\n",
    "feat_importances.nlargest(15).plot(kind='barh')\r\n",
    "plt.show() "
   ],
   "outputs": [
    {
     "output_type": "stream",
     "name": "stdout",
     "text": [
      "0.74 accuracy with a standard deviation of 0.10\n"
     ]
    },
    {
     "output_type": "display_data",
     "data": {
      "text/plain": [
       "<Figure size 432x288 with 1 Axes>"
      ],
      "image/png": "[encoded data removed]"
     },
     "metadata": {}
    }
   ],
   "metadata": {}
  },
  {
   "cell_type": "code",
   "execution_count": 75,
   "source": [
    "X_1 = df_train_LOX.iloc[:,2:]           # independent columns\r\n",
    "X_2 = df_train_Antioxidant.iloc[:,2:]   # independent columns\r\n",
    "X_4 = df_Antioxidant_decoys.iloc[:,2:]\r\n",
    "\r\n",
    "X_1 = X_1.fillna(0)\r\n",
    "X_2 = X_2.fillna(0)\r\n",
    "X_4 = X_4.fillna(0)\r\n",
    "\r\n",
    "labels_1 = df_train_LOX.iloc[:,1:2]\r\n",
    "labels_2 = df_train_Antioxidant.iloc[:,1:2]\r\n",
    "labels_4 = df_Antioxidant_decoys.iloc[:,1:2]\r\n",
    "\r\n",
    "lb_frames = [labels_1, labels_2, labels_4]\r\n",
    "labels = pd.concat(lb_frames)\r\n",
    "\r\n",
    "frames = [X_1, X_2, X_4]\r\n",
    "data = pd.concat(frames)\r\n",
    "\r\n",
    "print(\"data shape\", data.shape)\r\n",
    "print(\"labels shape\", labels.shape)"
   ],
   "outputs": [
    {
     "output_type": "stream",
     "name": "stdout",
     "text": [
      "data shape (5980, 277)\n",
      "labels shape (5980, 1)\n"
     ]
    }
   ],
   "metadata": {}
  },
  {
   "cell_type": "code",
   "execution_count": 76,
   "source": [
    "from sklearn.tree import DecisionTreeClassifier\r\n",
    "from sklearn.model_selection import cross_val_score\r\n",
    "\r\n",
    "model = DecisionTreeClassifier(max_depth=5)\r\n",
    "scores = cross_val_score(model, data, labels, cv=10)\r\n",
    "print(\"%0.2f accuracy with a standard deviation of %0.2f\" % (scores.mean(), scores.std())) \r\n",
    "\r\n",
    "model.fit(data,labels) \r\n",
    "feat_importances = pd.Series(model.feature_importances_, index=data.columns)  # plot graph of feature importances for better visualization\r\n",
    "feat_importances.nlargest(15).plot(kind='barh')\r\n",
    "plt.show() "
   ],
   "outputs": [
    {
     "output_type": "stream",
     "name": "stdout",
     "text": [
      "0.80 accuracy with a standard deviation of 0.05\n"
     ]
    },
    {
     "output_type": "display_data",
     "data": {
      "text/plain": [
       "<Figure size 432x288 with 1 Axes>"
      ],
      "image/png": "[encoded data removed]"
     },
     "metadata": {}
    }
   ],
   "metadata": {}
  }
 ],
 "metadata": {
  "kernelspec": {
   "name": "python3",
   "display_name": "Python 3.8.5 64-bit ('base': conda)"
  },
  "language_info": {
   "codemirror_mode": {
    "name": "ipython",
    "version": 3
   },
   "file_extension": ".py",
   "mimetype": "text/x-python",
   "name": "python",
   "nbconvert_exporter": "python",
   "pygments_lexer": "ipython3",
   "version": "3.8.5"
  },
  "interpreter": {
   "hash": "4b9fc9eb3037e0513bed7748c8e13d7096332c2b46708cf15fcb444b48a5f0fc"
  }
 },
 "nbformat": 4,
 "nbformat_minor": 4
}