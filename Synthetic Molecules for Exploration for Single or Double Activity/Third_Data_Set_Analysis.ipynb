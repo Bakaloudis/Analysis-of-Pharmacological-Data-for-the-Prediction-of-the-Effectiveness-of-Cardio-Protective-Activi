{
 "cells": [
  {
   "cell_type": "code",
   "execution_count": 1,
   "source": [
    "# Dimitrios Bakalis, A.M : 3033\r\n",
    "\r\n",
    "import pandas as pd \r\n",
    "from pandas import DataFrame\r\n",
    "\r\n",
    "import numpy as np\r\n",
    "\r\n",
    "import sklearn\r\n",
    "from sklearn import metrics\r\n",
    "\r\n",
    "from sklearn.model_selection import train_test_split\r\n",
    "from sklearn.model_selection import cross_val_score\r\n",
    "\r\n",
    "import sklearn.metrics as metrics\r\n",
    "import sklearn.cluster as sk_cluster\r\n",
    "\r\n",
    "import seaborn as sns\r\n",
    "\r\n",
    "import matplotlib.pyplot as plt\r\n",
    "\r\n",
    "import time\r\n",
    "\r\n",
    "import math\r\n",
    "import operator\r\n",
    "import json \r\n",
    "import random\r\n",
    "import nltk"
   ],
   "outputs": [],
   "metadata": {}
  },
  {
   "cell_type": "code",
   "execution_count": 2,
   "source": [
    "xls = pd.ExcelFile('lox_pchembl_training.xlsx')"
   ],
   "outputs": [],
   "metadata": {}
  },
  {
   "cell_type": "code",
   "execution_count": 3,
   "source": [
    "df_regression_LOX = pd.read_excel(xls, 'molecular_descriptors_LOX_with_')\r\n",
    "df_regression_LOX.head(5)"
   ],
   "outputs": [
    {
     "output_type": "execute_result",
     "data": {
      "text/html": [
       "<div>\n",
       "<style scoped>\n",
       "    .dataframe tbody tr th:only-of-type {\n",
       "        vertical-align: middle;\n",
       "    }\n",
       "\n",
       "    .dataframe tbody tr th {\n",
       "        vertical-align: top;\n",
       "    }\n",
       "\n",
       "    .dataframe thead th {\n",
       "        text-align: right;\n",
       "    }\n",
       "</style>\n",
       "<table border=\"1\" class=\"dataframe\">\n",
       "  <thead>\n",
       "    <tr style=\"text-align: right;\">\n",
       "      <th></th>\n",
       "      <th>Title</th>\n",
       "      <th>pChEMBL Value</th>\n",
       "      <th>M</th>\n",
       "      <th>First Zagreb</th>\n",
       "      <th>First Zagreb index by valence vertex degrees</th>\n",
       "      <th>Second Zagreb</th>\n",
       "      <th>Second Zagreb index by valence vertex degrees</th>\n",
       "      <th>Polarity</th>\n",
       "      <th>Narumi Simple Topological</th>\n",
       "      <th>Narumi Harmonic Topological</th>\n",
       "      <th>...</th>\n",
       "      <th>#noncon</th>\n",
       "      <th>#nonHatm</th>\n",
       "      <th>Jm</th>\n",
       "      <th>Unnamed: 287</th>\n",
       "      <th>Unnamed: 288</th>\n",
       "      <th>Unnamed: 289</th>\n",
       "      <th>Unnamed: 290</th>\n",
       "      <th>Unnamed: 291</th>\n",
       "      <th>Unnamed: 292</th>\n",
       "      <th>Unnamed: 293</th>\n",
       "    </tr>\n",
       "  </thead>\n",
       "  <tbody>\n",
       "    <tr>\n",
       "      <th>0</th>\n",
       "      <td>CHEMBL17775</td>\n",
       "      <td>4.0</td>\n",
       "      <td>0.018316</td>\n",
       "      <td>94</td>\n",
       "      <td>224.000</td>\n",
       "      <td>94</td>\n",
       "      <td>180.000</td>\n",
       "      <td>23</td>\n",
       "      <td>14.674</td>\n",
       "      <td>1.756</td>\n",
       "      <td>...</td>\n",
       "      <td>0.0</td>\n",
       "      <td>24.0</td>\n",
       "      <td>0.422</td>\n",
       "      <td>NaN</td>\n",
       "      <td>NaN</td>\n",
       "      <td>NaN</td>\n",
       "      <td>NaN</td>\n",
       "      <td>NaN</td>\n",
       "      <td>NaN</td>\n",
       "      <td>NaN</td>\n",
       "    </tr>\n",
       "    <tr>\n",
       "      <th>1</th>\n",
       "      <td>CHEMBL17775</td>\n",
       "      <td>4.0</td>\n",
       "      <td>0.018316</td>\n",
       "      <td>94</td>\n",
       "      <td>224.000</td>\n",
       "      <td>94</td>\n",
       "      <td>180.000</td>\n",
       "      <td>23</td>\n",
       "      <td>14.674</td>\n",
       "      <td>1.756</td>\n",
       "      <td>...</td>\n",
       "      <td>0.0</td>\n",
       "      <td>24.0</td>\n",
       "      <td>0.121</td>\n",
       "      <td>NaN</td>\n",
       "      <td>NaN</td>\n",
       "      <td>NaN</td>\n",
       "      <td>NaN</td>\n",
       "      <td>NaN</td>\n",
       "      <td>NaN</td>\n",
       "      <td>NaN</td>\n",
       "    </tr>\n",
       "    <tr>\n",
       "      <th>2</th>\n",
       "      <td>CHEMBL27410</td>\n",
       "      <td>4.0</td>\n",
       "      <td>0.018316</td>\n",
       "      <td>70</td>\n",
       "      <td>173.605</td>\n",
       "      <td>80</td>\n",
       "      <td>176.111</td>\n",
       "      <td>19</td>\n",
       "      <td>9.940</td>\n",
       "      <td>1.909</td>\n",
       "      <td>...</td>\n",
       "      <td>3.0</td>\n",
       "      <td>14.0</td>\n",
       "      <td>0.791</td>\n",
       "      <td>NaN</td>\n",
       "      <td>NaN</td>\n",
       "      <td>NaN</td>\n",
       "      <td>NaN</td>\n",
       "      <td>NaN</td>\n",
       "      <td>NaN</td>\n",
       "      <td>NaN</td>\n",
       "    </tr>\n",
       "    <tr>\n",
       "      <th>3</th>\n",
       "      <td>CHEMBL464006</td>\n",
       "      <td>4.0</td>\n",
       "      <td>0.018316</td>\n",
       "      <td>172</td>\n",
       "      <td>462.000</td>\n",
       "      <td>207</td>\n",
       "      <td>480.000</td>\n",
       "      <td>57</td>\n",
       "      <td>21.501</td>\n",
       "      <td>1.797</td>\n",
       "      <td>...</td>\n",
       "      <td>1.0</td>\n",
       "      <td>31.0</td>\n",
       "      <td>0.000</td>\n",
       "      <td>NaN</td>\n",
       "      <td>NaN</td>\n",
       "      <td>NaN</td>\n",
       "      <td>NaN</td>\n",
       "      <td>NaN</td>\n",
       "      <td>NaN</td>\n",
       "      <td>NaN</td>\n",
       "    </tr>\n",
       "    <tr>\n",
       "      <th>4</th>\n",
       "      <td>CHEMBL164332</td>\n",
       "      <td>4.0</td>\n",
       "      <td>0.018316</td>\n",
       "      <td>98</td>\n",
       "      <td>164.000</td>\n",
       "      <td>103</td>\n",
       "      <td>143.000</td>\n",
       "      <td>21</td>\n",
       "      <td>15.079</td>\n",
       "      <td>1.840</td>\n",
       "      <td>...</td>\n",
       "      <td>3.0</td>\n",
       "      <td>23.0</td>\n",
       "      <td>0.001</td>\n",
       "      <td>NaN</td>\n",
       "      <td>NaN</td>\n",
       "      <td>NaN</td>\n",
       "      <td>NaN</td>\n",
       "      <td>NaN</td>\n",
       "      <td>NaN</td>\n",
       "      <td>NaN</td>\n",
       "    </tr>\n",
       "  </tbody>\n",
       "</table>\n",
       "<p>5 rows × 294 columns</p>\n",
       "</div>"
      ],
      "text/plain": [
       "          Title  pChEMBL Value         M  First Zagreb  \\\n",
       "0   CHEMBL17775            4.0  0.018316            94   \n",
       "1   CHEMBL17775            4.0  0.018316            94   \n",
       "2   CHEMBL27410            4.0  0.018316            70   \n",
       "3  CHEMBL464006            4.0  0.018316           172   \n",
       "4  CHEMBL164332            4.0  0.018316            98   \n",
       "\n",
       "   First Zagreb index by valence vertex degrees  Second Zagreb  \\\n",
       "0                                       224.000             94   \n",
       "1                                       224.000             94   \n",
       "2                                       173.605             80   \n",
       "3                                       462.000            207   \n",
       "4                                       164.000            103   \n",
       "\n",
       "   Second Zagreb index by valence vertex degrees  Polarity  \\\n",
       "0                                        180.000        23   \n",
       "1                                        180.000        23   \n",
       "2                                        176.111        19   \n",
       "3                                        480.000        57   \n",
       "4                                        143.000        21   \n",
       "\n",
       "   Narumi Simple Topological  Narumi Harmonic Topological  ...  #noncon  \\\n",
       "0                     14.674                        1.756  ...      0.0   \n",
       "1                     14.674                        1.756  ...      0.0   \n",
       "2                      9.940                        1.909  ...      3.0   \n",
       "3                     21.501                        1.797  ...      1.0   \n",
       "4                     15.079                        1.840  ...      3.0   \n",
       "\n",
       "   #nonHatm     Jm  Unnamed: 287  Unnamed: 288  Unnamed: 289  Unnamed: 290  \\\n",
       "0      24.0  0.422           NaN           NaN           NaN           NaN   \n",
       "1      24.0  0.121           NaN           NaN           NaN           NaN   \n",
       "2      14.0  0.791           NaN           NaN           NaN           NaN   \n",
       "3      31.0  0.000           NaN           NaN           NaN           NaN   \n",
       "4      23.0  0.001           NaN           NaN           NaN           NaN   \n",
       "\n",
       "   Unnamed: 291  Unnamed: 292  Unnamed: 293  \n",
       "0           NaN           NaN           NaN  \n",
       "1           NaN           NaN           NaN  \n",
       "2           NaN           NaN           NaN  \n",
       "3           NaN           NaN           NaN  \n",
       "4           NaN           NaN           NaN  \n",
       "\n",
       "[5 rows x 294 columns]"
      ]
     },
     "metadata": {},
     "execution_count": 3
    }
   ],
   "metadata": {}
  },
  {
   "cell_type": "code",
   "execution_count": 4,
   "source": [
    "df_regression_train = df_regression_LOX.head(8182)        # we keep the compounds for the training"
   ],
   "outputs": [],
   "metadata": {
    "tags": []
   }
  },
  {
   "cell_type": "code",
   "execution_count": 5,
   "source": [
    "train_data_list = df_regression_train.values.tolist()\r\n",
    "\r\n",
    "i=-1\r\n",
    "for compound in train_data_list:\r\n",
    "    i+=1\r\n",
    "    train_data_list[i]=compound[3:-7]                     # we keep only the features from our dataset\r\n",
    "\r\n",
    "train_data_array = np.array(train_data_list) \r\n",
    "train_data_array = np.nan_to_num(train_data_array)        # we replace the Nan values with zeros  "
   ],
   "outputs": [],
   "metadata": {}
  },
  {
   "cell_type": "code",
   "execution_count": 6,
   "source": [
    "print(\"train data shape\", train_data_array.shape)"
   ],
   "outputs": [
    {
     "output_type": "stream",
     "name": "stdout",
     "text": [
      "train data shape (8182, 284)\n"
     ]
    }
   ],
   "metadata": {}
  },
  {
   "cell_type": "code",
   "execution_count": 7,
   "source": [
    "target = df_regression_train['pChEMBL Value'].tolist()\r\n",
    "print(\"target size\", len(target))"
   ],
   "outputs": [
    {
     "output_type": "stream",
     "name": "stdout",
     "text": [
      "target size 8182\n"
     ]
    }
   ],
   "metadata": {}
  },
  {
   "cell_type": "code",
   "execution_count": 8,
   "source": [
    "from sklearn.linear_model import LinearRegression\r\n",
    "from sklearn.ensemble import GradientBoostingRegressor\r\n",
    "from sklearn.tree import DecisionTreeRegressor\r\n",
    "from sklearn.ensemble import RandomForestRegressor\r\n",
    "from sklearn import svm\r\n",
    "\r\n",
    "from sklearn.model_selection import train_test_split\r\n",
    "from sklearn.model_selection import cross_val_score\r\n",
    "from sklearn.metrics import accuracy_score\r\n",
    "\r\n",
    "import time\r\n",
    "\r\n",
    "classifiers = [\r\n",
    "    LinearRegression(),\r\n",
    "    GradientBoostingRegressor(),  \r\n",
    "    DecisionTreeRegressor(),\r\n",
    "    RandomForestRegressor(),\r\n",
    "    svm.SVR()\r\n",
    "    ]  \r\n",
    "\r\n",
    "names = [\"Linear Regressor\", \"Gradient Boosting Regressor\", \"Decision Tree Regressor\",\r\n",
    "        \"Random Forest Regressor\", \"Support Vector Regressor\"]\r\n",
    "\r\n",
    "X_train, X_test, y_train, y_test = train_test_split(train_data_array, target, test_size=0.3,random_state=109) # 70% of our data for training and the rest 30% for testing\r\n",
    "\r\n",
    "log_cols=[\"Classifier\", \"Accuracy\"]\r\n",
    "log = pd.DataFrame(columns=log_cols)\r\n",
    "\r\n",
    "print(\"==============================\")\r\n",
    "\r\n",
    "name_flag = -1\r\n",
    "for classifier in classifiers: \r\n",
    "    name_flag+=1\r\n",
    "\r\n",
    "    start_time = time.time()\r\n",
    "\r\n",
    "    scores = cross_val_score(classifier, X_train, y_train, cv=10)  # 10-k fold validation\r\n",
    "    train_acc = scores.mean()                                      # we calculate the mean train accuracy score\r\n",
    "\r\n",
    "    print(names[name_flag])\r\n",
    "    print('****Results****')\r\n",
    "\r\n",
    "    print(\"train accuracy score\",train_acc)\r\n",
    "\r\n",
    "    classifier.fit(X_train, y_train)\r\n",
    "\r\n",
    "    test_acc = classifier.score(X_test, y_test)\r\n",
    "\r\n",
    "    print(\"test accuracy score \", test_acc)\r\n",
    "\r\n",
    "    log_entry = pd.DataFrame([[names[name_flag], test_acc*100]], columns=log_cols)\r\n",
    "    log = log.append(log_entry)\r\n",
    "\r\n",
    "    print(\"--- %s seconds ---\" % (time.time() - start_time))\r\n",
    "\r\n",
    "    print(\"==============================\")\r\n",
    "\r\n",
    "log = log.sort_values(by=['Accuracy'], ascending=False)\r\n",
    "\r\n",
    "sns.set_color_codes(\"muted\")\r\n",
    "sns.barplot(x='Accuracy', y='Classifier', data=log, color=\"b\")\r\n",
    "\r\n",
    "plt.xlabel('Accuracy %')\r\n",
    "plt.title('Classifier Accuracy')\r\n",
    "plt.show()"
   ],
   "outputs": [
    {
     "output_type": "stream",
     "name": "stdout",
     "text": [
      "==============================\n",
      "Linear Regressor\n",
      "****Results****\n",
      "train accuracy score 0.6170330371697147\n",
      "test accuracy score  0.6208602913793146\n",
      "--- 1.1749968528747559 seconds ---\n",
      "==============================\n",
      "Gradient Boosting Regressor\n",
      "****Results****\n",
      "train accuracy score 0.7103146134807958\n",
      "test accuracy score  0.7048775073671276\n",
      "--- 187.22940063476562 seconds ---\n",
      "==============================\n",
      "Decision Tree Regressor\n",
      "****Results****\n",
      "train accuracy score 0.7042269831162249\n",
      "test accuracy score  0.7220466995603632\n",
      "--- 7.7078375816345215 seconds ---\n",
      "==============================\n",
      "Random Forest Regressor\n",
      "****Results****\n",
      "train accuracy score 0.8412762229389351\n",
      "test accuracy score  0.8512308628432613\n",
      "--- 473.3900656700134 seconds ---\n",
      "==============================\n",
      "Support Vector Regressor\n",
      "****Results****\n",
      "train accuracy score 0.22773203978257534\n",
      "test accuracy score  0.24949508239521578\n",
      "--- 56.05098748207092 seconds ---\n",
      "==============================\n"
     ]
    },
    {
     "output_type": "display_data",
     "data": {
      "image/png": "[encoded data removed]",
      "text/plain": [
       "<Figure size 432x288 with 1 Axes>"
      ]
     },
     "metadata": {
      "needs_background": "light"
     }
    }
   ],
   "metadata": {}
  },
  {
   "cell_type": "code",
   "execution_count": 9,
   "source": [
    "X = df_regression_LOX.head(8182) \r\n",
    "X = X.fillna(0)    \r\n",
    "\r\n",
    "data = X.iloc[:,3:-7]                                 # independent columns\r\n",
    "\r\n",
    "labels = df_regression_train['pChEMBL Value']         # labels\r\n",
    "\r\n",
    "print(\"data shape\", data.shape)\r\n",
    "print(\"labels shape\", labels.shape)"
   ],
   "outputs": [
    {
     "output_type": "stream",
     "name": "stdout",
     "text": [
      "data shape (8182, 284)\n",
      "labels shape (8182,)\n"
     ]
    }
   ],
   "metadata": {}
  },
  {
   "cell_type": "code",
   "execution_count": 10,
   "source": [
    "from sklearn.preprocessing import MinMaxScaler\r\n",
    "from ITMO_FS.filters.univariate import chi2_measure\r\n",
    "\r\n",
    "labels = np.array(labels)\r\n",
    "\r\n",
    "scaler = MinMaxScaler(feature_range=(0,1))                 # we scale our data to values between 0-1 to eliminate the negative values\r\n",
    "data_scaled = scaler.fit_transform(data)\r\n",
    "\r\n",
    "scores = chi2_measure(data_scaled, labels)                 # Chi^2\r\n",
    "\r\n",
    "column_names = data.columns\r\n",
    "\r\n",
    "chi2_measure_dict = {}\r\n",
    "i=-1\r\n",
    "for score in scores:\r\n",
    "    i+=1\r\n",
    "    chi2_measure_dict[column_names[i]] = score\r\n",
    "\r\n",
    "sorted_chi2_measure_dict = dict( sorted(chi2_measure_dict.items(),\r\n",
    "                           key=lambda item: item[1],\r\n",
    "                           reverse=True))\r\n",
    "\r\n",
    "df_chi2_measure = pd.DataFrame.from_dict(sorted_chi2_measure_dict, orient='index') \r\n",
    "\r\n",
    "print(df_chi2_measure.head(15))"
   ],
   "outputs": [
    {
     "output_type": "stream",
     "name": "stdout",
     "text": [
      "                                                 0\n",
      "Ring Count 4                            814.471144\n",
      "Chirality count                         671.376254\n",
      "Ring Count 3                            632.137804\n",
      "Ring Count 7                            587.965891\n",
      "Topological charge index of order 8     512.207681\n",
      "Topological charge index of order 7     472.209183\n",
      "Ring Count 5                            455.424140\n",
      "Topological charge index of order 9     434.473388\n",
      "Topological charge index of order 6     400.125868\n",
      "Topological charge index of order 10    396.370085\n",
      "Topological charge index of order 5     389.032593\n",
      "Molecular electrotopological variation  371.088423\n",
      "Topological charge index of order 3     355.870691\n",
      "Total structure connectivity            273.159065\n",
      "E-state topological parameter           265.402348\n"
     ]
    }
   ],
   "metadata": {}
  },
  {
   "cell_type": "code",
   "execution_count": 11,
   "source": [
    "from ITMO_FS.filters.univariate import information_gain\r\n",
    "\r\n",
    "labels = np.array(labels)\r\n",
    "\r\n",
    "scores = information_gain(data_scaled, labels)                 # Information Gain\r\n",
    "\r\n",
    "column_names = data.columns\r\n",
    "\r\n",
    "information_gain_dict = {}\r\n",
    "i=-1\r\n",
    "for score in scores:\r\n",
    "    i+=1\r\n",
    "    information_gain_dict[column_names[i]] = score\r\n",
    "\r\n",
    "sorted_information_gain_dict = dict( sorted(information_gain_dict.items(),\r\n",
    "                           key=lambda item: item[1],\r\n",
    "                           reverse=True))\r\n",
    "\r\n",
    "df_information_gain = pd.DataFrame.from_dict(sorted_information_gain_dict, orient='index') \r\n",
    "\r\n",
    "print(df_information_gain.head(15))"
   ],
   "outputs": [
    {
     "output_type": "stream",
     "name": "stdout",
     "text": [
      "                                                           0\n",
      "NDDO Heat of Formation                              5.481561\n",
      "glob                                                5.477239\n",
      "volume                                              5.476425\n",
      "SASA                                                5.470702\n",
      "QPPCaco                                             5.465023\n",
      "PISA                                                5.463923\n",
      "LUMO Energy                                         5.456243\n",
      "HOMO Energy                                         5.452278\n",
      "FISA                                                5.448273\n",
      "PSA                                                 5.443265\n",
      "Wiener-type index from electronegativity weight...  5.439734\n",
      "Wiener-type index from mass weighted distance m...  5.439564\n",
      "Wiener-type index from Z weighted distance matr...  5.437912\n",
      "Wiener-type index from polarizability weighted ...  5.435151\n",
      "Wiener-type index from van der waals weighted d...  5.434812\n"
     ]
    }
   ],
   "metadata": {}
  },
  {
   "cell_type": "code",
   "execution_count": 12,
   "source": [
    "from ITMO_FS.filters.univariate import gini_index\r\n",
    "\r\n",
    "labels = np.array(labels)\r\n",
    "\r\n",
    "scores = gini_index(data, labels)      # Gini Index\r\n",
    "\r\n",
    "column_names = data.columns\r\n",
    "\r\n",
    "gini_index_dict = {}\r\n",
    "i=-1\r\n",
    "for score in scores:\r\n",
    "    i+=1\r\n",
    "    gini_index_dict[column_names[i]] = score\r\n",
    "\r\n",
    "sorted_gini_index_dict = dict( sorted(gini_index_dict.items(),\r\n",
    "                           key=lambda item: item[1],\r\n",
    "                           reverse=True))\r\n",
    "\r\n",
    "df_gini_index = pd.DataFrame.from_dict(sorted_gini_index_dict, orient='index') \r\n",
    "\r\n",
    "print(df_gini_index.head(15))"
   ],
   "outputs": [
    {
     "output_type": "stream",
     "name": "stdout",
     "text": [
      "                                                 0\n",
      "Total structure connectivity              0.488515\n",
      "Ring Count 4                              0.393468\n",
      "#amidine                                  0.315695\n",
      "#rtvFG                                    0.309719\n",
      "#amide                                    0.250937\n",
      "Chirality count                           0.249731\n",
      "PEOE12                                    0.231161\n",
      "PEOE14                                    0.200173\n",
      "CNS                                       0.184999\n",
      "PEOE1                                     0.152062\n",
      "Average valence connectivity index chi-5  0.152007\n",
      "Average connectivity index chi-1          0.151404\n",
      "Average valence connectivity index chi-4  0.149491\n",
      "PEOE4                                     0.148996\n",
      "PEOE2                                     0.146898\n"
     ]
    },
    {
     "output_type": "stream",
     "name": "stderr",
     "text": [
      "C:\\Users\\Dimitris\\anaconda3\\lib\\site-packages\\ITMO_FS\\filters\\univariate\\measures.py:144: RuntimeWarning: invalid value encountered in true_divide\n",
      "  cum_x = np.cumsum(X / np.linalg.norm(X, 1, axis=0), axis=0)\n"
     ]
    }
   ],
   "metadata": {}
  },
  {
   "cell_type": "code",
   "execution_count": 13,
   "source": [
    "from ITMO_FS.filters.univariate import pearson_corr\r\n",
    "\r\n",
    "labels = np.array(labels)\r\n",
    "\r\n",
    "scores = pearson_corr(data, labels)      # Pearson Correlation Coefficient\r\n",
    "\r\n",
    "column_names = data.columns\r\n",
    "\r\n",
    "pearson_corr_dict = {}\r\n",
    "i=-1\r\n",
    "for score in scores:\r\n",
    "    i+=1\r\n",
    "    pearson_corr_dict[column_names[i]] = score\r\n",
    "\r\n",
    "sorted_pearson_corr_dict = dict( sorted(pearson_corr_dict.items(),\r\n",
    "                           key=lambda item: item[1],\r\n",
    "                           reverse=True))\r\n",
    "\r\n",
    "df_pearson_corr = pd.DataFrame.from_dict(sorted_pearson_corr_dict, orient='index') \r\n",
    "\r\n",
    "print(df_pearson_corr.head(15))"
   ],
   "outputs": [
    {
     "output_type": "stream",
     "name": "stdout",
     "text": [
      "                                                  0\n",
      "Number of ring systems                     0.435985\n",
      "ALOGP4                                     0.393468\n",
      "Sum of topological distances between N..N  0.362298\n",
      "Atoms in Ring System                       0.356500\n",
      "#ringatoms                                 0.355774\n",
      "Ring perimeter                             0.354588\n",
      "ALOGP7                                     0.346910\n",
      "Variation                                  0.336105\n",
      "Bonds in Ring System                       0.328298\n",
      "Topological diameter                       0.327399\n",
      "Radial centric                             0.322131\n",
      "#in56                                      0.320903\n",
      "reciprocal distance Randic-type index      0.319531\n",
      "PEOE3                                      0.319489\n",
      "Topological radius                         0.316624\n"
     ]
    }
   ],
   "metadata": {}
  },
  {
   "cell_type": "code",
   "execution_count": 14,
   "source": [
    "from ITMO_FS.filters.univariate import f_ratio_measure\r\n",
    "\r\n",
    "labels = np.array(labels)\r\n",
    "\r\n",
    "scores = f_ratio_measure(data, labels)      # Fisher Ratio\r\n",
    "\r\n",
    "column_names = data.columns\r\n",
    "\r\n",
    "f_ratio_dict = {}\r\n",
    "i=-1\r\n",
    "for score in scores:\r\n",
    "    i+=1\r\n",
    "    f_ratio_dict[column_names[i]] = score\r\n",
    "\r\n",
    "sorted_f_ratio_dict = dict( sorted(f_ratio_dict.items(),\r\n",
    "                           key=lambda item: item[1],\r\n",
    "                           reverse=True))\r\n",
    "\r\n",
    "df_f_ratio = pd.DataFrame.from_dict(sorted_f_ratio_dict, orient='index') \r\n",
    "\r\n",
    "print(df_f_ratio.head(15))"
   ],
   "outputs": [
    {
     "output_type": "stream",
     "name": "stdout",
     "text": [
      "                                                   0\n",
      "Sum of topological distances between S..Br  6.896198\n",
      "Sum of topological distances between F..Br  5.003308\n",
      "Mean topological charge index of order 3    2.749194\n",
      "Average valence connectivity index chi-4    2.398071\n",
      "Sum of topological distances between O..Cl  2.051005\n",
      "Sum of topological distances between O..Br  1.981006\n",
      "Topological charge index of order 8         1.218369\n",
      "Topological charge index of order 6         1.180402\n",
      "Topological charge index of order 7         1.154305\n",
      "Sum of topological distances between N..Br  1.115773\n",
      "Chirality count                             1.107946\n",
      "Topological charge index of order 9         1.107678\n",
      "Topological charge index of order 3         1.077726\n",
      "Topological charge index of order 5         1.074307\n",
      "Topological charge index of order 10        1.046227\n"
     ]
    }
   ],
   "metadata": {}
  },
  {
   "cell_type": "code",
   "execution_count": 22,
   "source": [
    "df_regression_test = df_regression_LOX.tail(24)        # we keep the compounds for testing"
   ],
   "outputs": [],
   "metadata": {}
  },
  {
   "cell_type": "code",
   "execution_count": 23,
   "source": [
    "test_data_list = df_regression_test.values.tolist()\r\n",
    "\r\n",
    "i=-1\r\n",
    "for compound in test_data_list:\r\n",
    "    i+=1\r\n",
    "    test_data_list[i]=compound[3:-7]                   # we keep only the features from our dataset\r\n",
    "\r\n",
    "test_data_array = np.array(test_data_list) \r\n",
    "test_data_array = np.nan_to_num(test_data_array)       # we replace the Nan values with zeros  "
   ],
   "outputs": [],
   "metadata": {}
  },
  {
   "cell_type": "code",
   "execution_count": 24,
   "source": [
    "print(\"test data shape\",test_data_array.shape)"
   ],
   "outputs": [
    {
     "output_type": "stream",
     "name": "stdout",
     "text": [
      "test data shape (24, 284)\n"
     ]
    }
   ],
   "metadata": {}
  },
  {
   "cell_type": "code",
   "execution_count": 25,
   "source": [
    "start_time = time.time()\r\n",
    "\r\n",
    "classifier = RandomForestRegressor()\r\n",
    "\r\n",
    "classifier.fit(train_data_array, target)               # we train our model with the tested compounds\r\n",
    "\r\n",
    "prediction = classifier.predict(test_data_array)       # we predict the regression value for our new compounds\r\n",
    "\r\n",
    "print(\"--- %s seconds ---\" % (time.time() - start_time))"
   ],
   "outputs": [
    {
     "output_type": "stream",
     "name": "stdout",
     "text": [
      "--- 66.73400139808655 seconds ---\n"
     ]
    }
   ],
   "metadata": {}
  },
  {
   "cell_type": "code",
   "execution_count": 26,
   "source": [
    "print(prediction)"
   ],
   "outputs": [
    {
     "output_type": "stream",
     "name": "stdout",
     "text": [
      "[5.6652     6.52475    6.0315     6.2022     6.2162     6.441\n",
      " 6.0306     6.2081     5.8395     6.2275     6.0068     6.1651\n",
      " 6.0513     6.1459     5.1275     5.7922     5.861      6.0203\n",
      " 5.963      5.52006667 5.80673831 6.3388     6.085      5.7964    ]\n"
     ]
    }
   ],
   "metadata": {}
  },
  {
   "cell_type": "code",
   "execution_count": 27,
   "source": [
    "real_list = [6, 5.52, 5.4, 5.3, 5.22, 5.05, 5, 4.69, 4.92, 4.89, 4.85, 4.82, 4.8, 4.77, 4.74, 4.72, 4.7, 4.66, 4.64, 4.6, 4.59, 4.57, 4.55, 4.54 ]"
   ],
   "outputs": [],
   "metadata": {}
  },
  {
   "cell_type": "code",
   "execution_count": 28,
   "source": [
    "from sklearn.metrics import r2_score\r\n",
    "from sklearn.metrics import explained_variance_score\r\n",
    "print(explained_variance_score(real_list, prediction))\r\n",
    "print(r2_score(prediction,real_list))"
   ],
   "outputs": [
    {
     "output_type": "stream",
     "name": "stdout",
     "text": [
      "-0.4009630500569281\n",
      "-14.955884804266704\n"
     ]
    }
   ],
   "metadata": {}
  },
  {
   "cell_type": "code",
   "execution_count": 29,
   "source": [
    "X = df_regression_train.iloc[:,3:-7]\r\n",
    "\r\n",
    "X = X.fillna(0)\r\n",
    "\r\n",
    "labels = df_regression_train.iloc[:,1:2]"
   ],
   "outputs": [],
   "metadata": {}
  },
  {
   "cell_type": "code",
   "execution_count": 30,
   "source": [
    "model = RandomForestRegressor()\r\n",
    "model.fit(X,labels) \r\n",
    "feat_importances = pd.Series(model.feature_importances_, index=X.columns)  # plot graph of feature importances for better visualization\r\n",
    "feat_importances.nlargest(15).plot(kind='barh')\r\n",
    "plt.show() "
   ],
   "outputs": [
    {
     "output_type": "stream",
     "name": "stderr",
     "text": [
      "<ipython-input-30-7c069af07f51>:2: DataConversionWarning: A column-vector y was passed when a 1d array was expected. Please change the shape of y to (n_samples,), for example using ravel().\n",
      "  model.fit(X,labels)\n"
     ]
    },
    {
     "output_type": "display_data",
     "data": {
      "image/png": "[encoded data removed]",
      "text/plain": [
       "<Figure size 432x288 with 1 Axes>"
      ]
     },
     "metadata": {
      "needs_background": "light"
     }
    }
   ],
   "metadata": {}
  }
 ],
 "metadata": {
  "kernelspec": {
   "name": "python3",
   "display_name": "Python 3.8.5 64-bit ('base': conda)"
  },
  "language_info": {
   "codemirror_mode": {
    "name": "ipython",
    "version": 3
   },
   "file_extension": ".py",
   "mimetype": "text/x-python",
   "name": "python",
   "nbconvert_exporter": "python",
   "pygments_lexer": "ipython3",
   "version": "3.8.5"
  },
  "interpreter": {
   "hash": "4b9fc9eb3037e0513bed7748c8e13d7096332c2b46708cf15fcb444b48a5f0fc"
  }
 },
 "nbformat": 4,
 "nbformat_minor": 4
}